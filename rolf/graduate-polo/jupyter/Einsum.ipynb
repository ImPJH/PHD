{
 "cells": [
  {
   "cell_type": "markdown",
   "metadata": {
    "id": "woKS34FQIseJ"
   },
   "source": [
    "$(r_i = A_{ii}, r = \\sum_i A_{ii})$"
   ]
  },
  {
   "cell_type": "code",
   "execution_count": 50,
   "metadata": {
    "colab": {
     "base_uri": "https://localhost:8080/"
    },
    "executionInfo": {
     "elapsed": 555,
     "status": "ok",
     "timestamp": 1686850644280,
     "user": {
      "displayName": "Sungwoo Coding",
      "userId": "17899964297313081808"
     },
     "user_tz": -540
    },
    "id": "sVDFyTgdIhhy",
    "outputId": "1c6b6021-3ee8-4ce1-f275-a193799fc116"
   },
   "outputs": [
    {
     "name": "stdout",
     "output_type": "stream",
     "text": [
      "[1. 1. 1. 1. 1. 1. 1. 1. 1. 1.]\n",
      "10.0\n"
     ]
    }
   ],
   "source": [
    "A = np.eye(10)\n",
    "diag = np.einsum('ii->i', A)\n",
    "trace =np.einsum('ii->', A)\n",
    "print(diag)\n",
    "print(trace)"
   ]
  },
  {
   "cell_type": "markdown",
   "metadata": {
    "id": "c2vKHJADI6vB"
   },
   "source": [
    "$b = Ax, b_i = \\sum_j A_{ij} b_j \\\\ b_i = \\sum_j A_{ij}b_j$"
   ]
  },
  {
   "cell_type": "code",
   "execution_count": 51,
   "metadata": {
    "colab": {
     "base_uri": "https://localhost:8080/"
    },
    "executionInfo": {
     "elapsed": 331,
     "status": "ok",
     "timestamp": 1686850773910,
     "user": {
      "displayName": "Sungwoo Coding",
      "userId": "17899964297313081808"
     },
     "user_tz": -540
    },
    "id": "KrP_X3rcImr1",
    "outputId": "a16701d0-d6eb-4c3c-d745-3447e30b0e21"
   },
   "outputs": [
    {
     "name": "stdout",
     "output_type": "stream",
     "text": [
      "[-321 -654]\n"
     ]
    }
   ],
   "source": [
    "A = np.array([[1,2,3], [4,5,6]])\n",
    "x = np.array([-1, -10, -100])\n",
    "b = np.einsum('ij,j->i', A, x)\n",
    "print(b)"
   ]
  },
  {
   "cell_type": "markdown",
   "metadata": {
    "id": "_0Cqq76_JSEz"
   },
   "source": [
    "$R_{ij} = \\sum_k A_{ik}B_{ki} \\\\ B_{bjj} = \\sum_k B_{bik} B_{bkj}$"
   ]
  },
  {
   "cell_type": "code",
   "execution_count": 55,
   "metadata": {
    "colab": {
     "base_uri": "https://localhost:8080/"
    },
    "executionInfo": {
     "elapsed": 405,
     "status": "ok",
     "timestamp": 1686850920504,
     "user": {
      "displayName": "Sungwoo Coding",
      "userId": "17899964297313081808"
     },
     "user_tz": -540
    },
    "id": "RD4zg6RqJRje",
    "outputId": "7246e04a-81d8-46e0-f69a-0cdea71d5d78"
   },
   "outputs": [
    {
     "name": "stdout",
     "output_type": "stream",
     "text": [
      "[[14 32]\n",
      " [32 77]]\n",
      "[[[1.3027149  0.93515488 0.81274452 1.95525508 0.87059375 0.89610598\n",
      "   1.58519998 1.60714391]\n",
      "  [1.10329456 0.76080509 0.74621753 1.49822252 0.74800619 0.57922058\n",
      "   1.29911309 1.05080772]\n",
      "  [1.43947144 0.93907681 0.85470378 1.92510675 0.97016762 0.86127561\n",
      "   1.7602477  1.46280319]\n",
      "  [0.91347347 0.8367814  0.61155164 1.4549915  0.80204712 0.47543614\n",
      "   0.85310251 1.00198915]\n",
      "  [0.66071419 0.31356068 0.20440187 0.59221873 0.51532967 0.31975196\n",
      "   0.80992012 0.36653739]\n",
      "  [0.51768406 0.46791034 0.37757303 0.88327337 0.40158432 0.32604736\n",
      "   0.53487796 0.67829706]\n",
      "  [1.18696362 0.70977133 0.46927165 1.39024519 0.91750244 0.70758437\n",
      "   1.41860363 1.04332921]\n",
      "  [0.8556643  0.72998692 0.53036901 1.25913992 0.74831069 0.41820443\n",
      "   0.82261381 0.83315222]\n",
      "  [0.90397112 0.78876935 0.58965514 1.32819499 0.80285278 0.39954779\n",
      "   0.83928259 0.83194054]\n",
      "  [1.31707042 1.03197405 0.8978089  2.13285187 0.88688162 0.93235843\n",
      "   1.55856016 1.76766186]]\n",
      "\n",
      " [[1.16075261 1.1088176  1.18931321 1.25594343 0.26819988 0.53218213\n",
      "   0.79730867 1.07757017]\n",
      "  [1.88288491 2.09989449 1.46924655 2.09823585 0.91060207 1.39587311\n",
      "   1.01049529 1.1709319 ]\n",
      "  [1.72504886 1.93098966 1.5623803  1.96394476 0.82571187 1.37208081\n",
      "   1.11817044 1.23924248]\n",
      "  [2.02918073 2.03373849 1.63846784 2.21159237 0.48892043 0.78952933\n",
      "   1.01266415 1.59115511]\n",
      "  [1.6181194  1.95016859 1.17270985 1.99187249 0.56668254 0.93497188\n",
      "   0.75572887 1.17693992]\n",
      "  [1.14960527 1.25364386 1.07938851 1.31691016 0.44453367 0.77992911\n",
      "   0.75385736 0.92272419]\n",
      "  [1.23117107 1.73857093 0.94186347 1.7086432  0.59045545 1.04925987\n",
      "   0.67678799 0.91766331]\n",
      "  [1.64515071 1.49124983 1.49390735 1.61261515 0.58640752 0.90129955\n",
      "   0.99472637 1.18925803]\n",
      "  [1.57057669 2.0752048  1.12313617 2.06736934 0.65322955 1.11141686\n",
      "   0.75879794 1.13018267]\n",
      "  [1.2037154  1.54803833 1.25097627 1.61394417 0.46747699 0.97376181\n",
      "   0.91970943 1.1561017 ]]\n",
      "\n",
      " [[0.55115647 2.23255861 1.64582878 0.80494701 1.34922275 1.44211161\n",
      "   0.51196916 1.50635847]\n",
      "  [0.94182943 1.89665062 1.58139442 1.27165488 1.02150981 1.58436857\n",
      "   0.83850699 1.74122215]\n",
      "  [0.10968623 0.2714137  0.18785053 0.08559769 0.22008072 0.19782092\n",
      "   0.04020706 0.15672295]\n",
      "  [0.91119823 2.23163153 1.78254629 0.97260234 1.27875076 1.61687619\n",
      "   0.64559781 1.79071596]\n",
      "  [0.87236713 1.41327883 1.11265298 0.77657043 1.03078654 1.23506426\n",
      "   0.45095752 1.13338518]\n",
      "  [0.73133653 0.98614634 1.00202861 0.54735087 0.31060712 0.82092894\n",
      "   0.44184364 1.20863016]\n",
      "  [1.0762364  2.04356904 1.74839366 1.00782107 1.07194078 1.58893406\n",
      "   0.69887215 1.87637597]\n",
      "  [0.14511746 0.78104757 0.63898783 0.18650112 0.30981665 0.41807865\n",
      "   0.1681452  0.6241861 ]\n",
      "  [0.4430345  0.84439911 0.62207328 0.36156044 0.66394473 0.6824442\n",
      "   0.1915921  0.57661568]\n",
      "  [0.37878406 1.42663352 1.06449158 0.24055022 0.8724898  0.83194838\n",
      "   0.16245411 0.9244982 ]]]\n"
     ]
    }
   ],
   "source": [
    "## Matrix-Matrix Multiplication\n",
    "A = np.array([[1,2,3], [4,5,6]])\n",
    "b = A.transpose()\n",
    "R = np.einsum('ik,kj->ij', A, b)\n",
    "print(R)\n",
    "\n",
    "## Batched Matrix Multiplication\n",
    "A = np.random.random(size=(3,10,4))\n",
    "B = np.random.random(size=(3,4, 8))\n",
    "\n",
    "R = np.einsum('bik,bkj->bij',A, B)\n",
    "print(R)"
   ]
  },
  {
   "cell_type": "markdown",
   "metadata": {
    "id": "uJ1UCMIQJ448"
   },
   "source": [
    "$r = x^TAx \\\\ r = a^TAb$"
   ]
  },
  {
   "cell_type": "code",
   "execution_count": 58,
   "metadata": {
    "colab": {
     "base_uri": "https://localhost:8080/"
    },
    "executionInfo": {
     "elapsed": 415,
     "status": "ok",
     "timestamp": 1686851065667,
     "user": {
      "displayName": "Sungwoo Coding",
      "userId": "17899964297313081808"
     },
     "user_tz": -540
    },
    "id": "YyQxHp_3J7V6",
    "outputId": "522902fd-e3fa-497b-d3d2-3f2980697caa"
   },
   "outputs": [
    {
     "name": "stdout",
     "output_type": "stream",
     "text": [
      "-22.60869808479478\n",
      "22.60869808479478\n"
     ]
    }
   ],
   "source": [
    "x = np.array([1,2,3])\n",
    "y = np.array([-1,-2,-3])\n",
    "A = np.random.random(size=(3, 3))\n",
    "\n",
    "r = np.einsum('i,ij,j->', x, A, y)\n",
    "print(r)\n",
    "print(np.einsum('i,ij,j->', x, A, x))"
   ]
  },
  {
   "cell_type": "markdown",
   "metadata": {
    "id": "U4B3fQ1FRr1a"
   },
   "source": [
    "* for proper value of $\\alpha$(=1.0), after the changing point the model fails for some round but eventually finds the optimal arm again.\n",
    "* for other values of $\\alpha$, the models fails to converge to the optimal arm."
   ]
  }
 ],
 "metadata": {
  "colab": {
   "provenance": [],
   "toc_visible": true
  },
  "kernelspec": {
   "display_name": "Python 3 (ipykernel)",
   "language": "python",
   "name": "python3"
  },
  "language_info": {
   "codemirror_mode": {
    "name": "ipython",
    "version": 3
   },
   "file_extension": ".py",
   "mimetype": "text/x-python",
   "name": "python",
   "nbconvert_exporter": "python",
   "pygments_lexer": "ipython3",
   "version": "3.9.16"
  },
  "varInspector": {
   "cols": {
    "lenName": 16,
    "lenType": 16,
    "lenVar": 40
   },
   "kernels_config": {
    "python": {
     "delete_cmd_postfix": "",
     "delete_cmd_prefix": "del ",
     "library": "var_list.py",
     "varRefreshCmd": "print(var_dic_list())"
    },
    "r": {
     "delete_cmd_postfix": ") ",
     "delete_cmd_prefix": "rm(",
     "library": "var_list.r",
     "varRefreshCmd": "cat(var_dic_list()) "
    }
   },
   "types_to_exclude": [
    "module",
    "function",
    "builtin_function_or_method",
    "instance",
    "_Feature"
   ],
   "window_display": false
  }
 },
 "nbformat": 4,
 "nbformat_minor": 1
}
