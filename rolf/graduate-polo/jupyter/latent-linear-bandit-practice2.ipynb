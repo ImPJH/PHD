{
 "cells": [
  {
   "cell_type": "code",
   "execution_count": 1,
   "id": "e8edb6a4",
   "metadata": {},
   "outputs": [
    {
     "data": {
      "text/html": [
       "<style>.container { width:75% !important; }</style>"
      ],
      "text/plain": [
       "<IPython.core.display.HTML object>"
      ]
     },
     "metadata": {},
     "output_type": "display_data"
    }
   ],
   "source": [
    "## widen the cell width\n",
    "from IPython.display import display, HTML\n",
    "display(HTML(\"<style>.container { width:75% !important; }</style>\"))"
   ]
  },
  {
   "cell_type": "code",
   "execution_count": 2,
   "id": "e284dbbb",
   "metadata": {},
   "outputs": [],
   "source": [
    "import numpy as np\n",
    "import pandas as pd\n",
    "from typing import Union\n",
    "import matplotlib.pyplot as plt\n",
    "import seaborn as sns\n",
    "from abc import ABC, abstractmethod\n",
    "from collections import defaultdict\n",
    "from tqdm import tqdm\n",
    "from tqdm.auto import tqdm as tqdm_auto\n",
    "\n",
    "%matplotlib inline"
   ]
  },
  {
   "cell_type": "code",
   "execution_count": 3,
   "id": "d32e8a0f",
   "metadata": {},
   "outputs": [],
   "source": [
    "def shermanMorrison(V:np.ndarray, x:np.ndarray):\n",
    "    \"\"\"\n",
    "    ${V_t}^{-1} = V_{t-1}^{-1} - \\frac{V_{t-1}^{-1}xx^T V_{t-1}^{-1}}{1 + x^T V_{t-1}^{-1} x}$\n",
    "    V: inverse of old gram matrix, corresponding to $V_{t-1}$.\n",
    "    x: a new observed context\n",
    "    return: inverse of new gram matrix\n",
    "    \"\"\"\n",
    "    numerator = np.einsum(\"ij, j, k, kl -> il\", V, x, x, V)\n",
    "    denominator = (1 + np.einsum(\"i, ij, j ->\", x, V, x))\n",
    "    return V - (numerator / denominator)\n",
    "\n",
    "\n",
    "def l2norm(v:np.ndarray):\n",
    "    v = v.flatten()\n",
    "    return np.sqrt(np.sum(v ** 2))\n",
    "\n",
    "\n",
    "def covariance_generator(d:int, distribution:str=\"gaussian\", bound:float=None):\n",
    "    if distribution == \"gaussian\":\n",
    "        rnd = np.random.randn(d, d)\n",
    "    elif distribution == \"uniform\":\n",
    "        rnd = np.random.uniform(-1, 1, size=d*d).reshape(d, d)\n",
    "    \n",
    "    ## make a symmetric matrix\n",
    "    sym = (rnd + rnd.T) / 2\n",
    "    ## make positive semi-definite and bound its maximum singular value\n",
    "    mat = sym @ sym.T\n",
    "    \n",
    "    if bound is not None:\n",
    "        mat *= (bound / np.linalg.norm(mat, 2))\n",
    "    \n",
    "    return mat\n",
    "\n",
    "\n",
    "# Function for Gram-Schmidt process\n",
    "def gram_schmidt(A):\n",
    "    Q = np.zeros(A.shape)\n",
    "    for i in range(A.shape[1]):\n",
    "        # Orthogonalize the vector\n",
    "        Q[:,i] = A[:,i]\n",
    "        for j in range(i):\n",
    "            Q[:,i] -= np.dot(Q[:,j], A[:,i]) * Q[:,j]\n",
    "        \n",
    "        # Normalize the vector\n",
    "        Q[:,i] = Q[:,i] / np.linalg.norm(Q[:,i])\n",
    "    return Q\n",
    "\n",
    "\n",
    "def make_diagonal(v:np.ndarray, dim:Union[int, tuple]):\n",
    "    if type(dim) == int:\n",
    "        diag = np.zeros((dim, dim))\n",
    "        rng = dim\n",
    "    else:\n",
    "        diag = np.zeros(dim)\n",
    "        rng = min(dim)\n",
    "        \n",
    "    for i in range(rng):\n",
    "        diag[i, i] = v[i]\n",
    "    \n",
    "    return diag\n",
    "\n",
    "\n",
    "def positive_definite_generator(dimension:int, distribution:str=\"uniform\"):\n",
    "    d = dimension\n",
    "    ## create orthogonal eigenvectors\n",
    "    source = np.random.uniform(-1, 1, size=(d*d)).reshape(d, d)\n",
    "    eigvecs = gram_schmidt(source)\n",
    "    \n",
    "    ## create a matrix of eigenvalues\n",
    "    eigvals = np.random.uniform(0, 1, size=d)\n",
    "    eigmat = make_diagonal(np.absolute(eigvals))\n",
    "    \n",
    "    ## make the targeted positive definite matrix\n",
    "    Z = source @ eigmat @ source.T\n",
    "    return Z\n",
    "\n",
    "\n",
    "def minmax(v:np.ndarray, bound:float=1.):\n",
    "    min = np.min(v)\n",
    "    max = np.max(v)\n",
    "    return ((v - min) / (max - min)) * bound\n",
    "\n",
    "\n",
    "def left_pseudo_inverse(A:np.ndarray):\n",
    "    d, k = A.shape\n",
    "    u, A_sig, v_T = np.linalg.svd(A)\n",
    "    \n",
    "    B_sig = np.zeros((k, d))\n",
    "    for i in range(k):\n",
    "        B_sig[i, i] = 1 / A_sig[i]\n",
    "    \n",
    "    B = v_T.T @ B_sig @ u.T\n",
    "    \n",
    "    return B\n",
    "\n",
    "\n",
    "def rademacher(size:int):\n",
    "    \"\"\"\n",
    "    Generate Rademacher random variables.\n",
    "\n",
    "    Args:\n",
    "    size (int): Number of random variables to generate.\n",
    "\n",
    "    Returns:\n",
    "    numpy.ndarray: An array of Rademacher random variables.\n",
    "    \"\"\"\n",
    "    return 2 * np.random.randint(0, 2, size) - 1\n",
    "\n",
    "\n",
    "def subgaussian_noise(distribution:str, size:int, random_state:int=None, std:float=None):\n",
    "    \"\"\"\n",
    "    distribution (str): the distribution to sample a sub-Gaussian noise\n",
    "    size (int): The number of total rounds (T)\n",
    "    std (float): The variance proxy of the noise\n",
    "    \"\"\"\n",
    "    if random_state is not None:\n",
    "        np.random.seed(random_state)\n",
    "        \n",
    "    if distribution == \"gaussian\":\n",
    "        if std is None:\n",
    "            std = 1\n",
    "        noise = np.random.normal(loc=0, scale=std, size=size) \n",
    "    elif distribution == \"uniform\":\n",
    "        if std is None:\n",
    "            low = -1\n",
    "            high = 1\n",
    "            std = np.sqrt(((high - low) ** 2) / 12)\n",
    "        else:\n",
    "            low = -np.sqrt(3) * std\n",
    "            high = np.sqrt(3) * std\n",
    "        noise = np.random.uniform(low=low, high=high, size=size)\n",
    "    else:\n",
    "        std = 1\n",
    "        noise = rademacher(size=size)\n",
    "    return noise, std"
   ]
  },
  {
   "cell_type": "code",
   "execution_count": 4,
   "id": "735ee5e1",
   "metadata": {},
   "outputs": [],
   "source": [
    "## Agent\n",
    "class ContextualBandit(ABC):\n",
    "    @abstractmethod\n",
    "    def choose(self, x): pass\n",
    "    \n",
    "    @abstractmethod\n",
    "    def update(self, x, r): pass"
   ]
  },
  {
   "cell_type": "code",
   "execution_count": 5,
   "id": "45fce11f",
   "metadata": {},
   "outputs": [],
   "source": [
    "class LinUCB(ContextualBandit):\n",
    "    def __init__(self, d, alpha, lbda=1.):\n",
    "        self.alpha = alpha\n",
    "        self.t = 0\n",
    "        self.xty = np.zeros(d)\n",
    "        self.Vinv = (1 / lbda) * np.identity(d)\n",
    "        self.theta_hat = np.zeros(d)\n",
    "        \n",
    "    def choose(self, x):\n",
    "        # x: action set at each round (N, d)\n",
    "        self.t += 1\n",
    "        \n",
    "        ## compute the ridge estimator\n",
    "        self.theta_hat = self.Vinv @ self.xty\n",
    "        \n",
    "        ## compute the ucb scores for each arm\n",
    "        expected = x @ self.theta_hat # (N, ) theta_T @ x_t\n",
    "        width = np.sqrt(np.einsum(\"Ni, ij, Nj -> N\", x, self.Vinv, x) * np.log(self.t)) # (N, ) widths\n",
    "        ucb_scores = expected + (self.alpha * width) # (N, ) ucb score\n",
    "        \n",
    "        ## chose the argmax the ucb score\n",
    "        maximum = np.max(ucb_scores)\n",
    "        argmax, = np.where(ucb_scores == maximum)\n",
    "        \n",
    "        return np.random.choice(argmax)\n",
    "    \n",
    "    def update(self, x, r):\n",
    "        # x: context of the chosen action (d, )\n",
    "        self.Vinv = shermanMorrison(self.Vinv, x)\n",
    "        self.xty += (r * x)"
   ]
  },
  {
   "cell_type": "code",
   "execution_count": 6,
   "id": "713f7ec6",
   "metadata": {},
   "outputs": [],
   "source": [
    "## hyper-parameters\n",
    "M = 40000         # number of samples\n",
    "N = 20            # number of actions in the action set at each round\n",
    "d = 10            # observable dimension\n",
    "k = 10            # latent dimension\n",
    "T = 25000         # total time horizon\n",
    "SEED = 727        # random state\n",
    "\n",
    "feature_bound = 1.\n",
    "# matrix_lower_bound = 0.5  # lower bound of the decoder (inverse is the upper bound of the encoder)\n",
    "matrix_bound = 1.\n",
    "param_bound = 1.\n",
    "reward_bound = 1.\n",
    "\n",
    "ALPHAS = [0.0, 0.1, 0.3, 0.5, 1.0]\n",
    "runtime = 4"
   ]
  },
  {
   "cell_type": "code",
   "execution_count": 7,
   "id": "94cee949",
   "metadata": {},
   "outputs": [
    {
     "name": "stdout",
     "output_type": "stream",
     "text": [
      "Shape of the latent feature sets:\t(40000, 10)\n",
      "The first feature:\t[ 0.8281627   0.1896365   0.05466672  0.92581008 -0.51171115 -1.72240679\n",
      " -0.37237365  0.56395344  0.20145704 -0.9413047 ]\n",
      "Maximum norm: 1.00000\n"
     ]
    }
   ],
   "source": [
    "## latent feature - gaussian, disjoint\n",
    "# np.random.seed(SEED)\n",
    "Z = np.random.multivariate_normal(mean=np.zeros(k), cov=np.identity(k), size=M)\n",
    "print(f\"Shape of the latent feature sets:\\t{Z.shape}\")\n",
    "print(f\"The first feature:\\t{Z[0]}\")\n",
    "\n",
    "## bound the latent features\n",
    "# # scaling\n",
    "# maxnorm = np.max([l2norm(Z[i, :]) for i in range(M)])\n",
    "# print(f\"Maximum norm: {maxnorm:.5f}\")\n",
    "# Z *= (feature_bound / maxnorm)\n",
    "# maxnorm = np.max([l2norm(Z[i, :]) for i in range(M)])\n",
    "# print(f\"Maximum norm: {maxnorm:.5f}\")\n",
    "\n",
    "# clipping\n",
    "for i in range(M):\n",
    "    latent = Z[i, :]\n",
    "    if l2norm(latent) > feature_bound:\n",
    "        Z[i, :] *= (feature_bound / l2norm(latent))\n",
    "maxnorm = np.max([l2norm(Z[i, :]) for i in range(M)])\n",
    "print(f\"Maximum norm: {maxnorm:.5f}\")"
   ]
  },
  {
   "cell_type": "code",
   "execution_count": 8,
   "id": "a09bdf32",
   "metadata": {},
   "outputs": [
    {
     "name": "stdout",
     "output_type": "stream",
     "text": [
      "Shape of the mapping: (10, 10)\n",
      "Mapping: [[ 0.14002394 -0.140616    0.16554728 -0.36065593 -0.20536469  0.28139284\n",
      "  -0.12419171 -0.29925413 -0.20617443  0.26556385]\n",
      " [ 0.25779846 -0.07462274  0.23634237  0.41502274 -0.23271757  0.23557332\n",
      "   0.34505331  0.03908676  0.2502462   0.10274371]\n",
      " [ 0.0857129   0.04143006  0.41082583  0.13081939  0.34457669  0.42878564\n",
      "  -0.09827938  0.13068836 -0.10082504 -0.37435713]\n",
      " [ 0.17599582  0.35375324 -0.06423214 -0.3604875  -0.23699372  0.07205574\n",
      "   0.22750463  0.10002085 -0.36215463  0.25302598]\n",
      " [-0.2350513  -0.15729035 -0.16315382  0.04714501  0.33301964  0.3861818\n",
      "  -0.11681836 -0.0176791   0.40772575 -0.21629685]\n",
      " [ 0.44537937 -0.23779561  0.30691373  0.03572091  0.11124688  0.44333367\n",
      "   0.04949985  0.3842115   0.40016453  0.14511699]\n",
      " [-0.00230521 -0.37989984  0.32876926 -0.15613054  0.1105624  -0.2955263\n",
      "   0.13123308  0.11480334 -0.24982135  0.34260683]\n",
      " [ 0.35570081 -0.38554163 -0.40953217 -0.20825916 -0.3913157  -0.33199682\n",
      "  -0.01990547  0.21865751  0.34153263  0.28343285]\n",
      " [ 0.25055545  0.1009442   0.39845734  0.02260287 -0.3891403   0.21012534\n",
      "  -0.37414565  0.07877874  0.16903355  0.25527361]\n",
      " [-0.34688195 -0.20763277 -0.24527601 -0.10658673  0.2908017  -0.20332839\n",
      "   0.3695987   0.42045122  0.05354166 -0.44113298]]\n",
      "Maximum singular value: 1.41040\n",
      "Singular values of A: [1.         0.93143721 0.79479934 0.60389974 0.50497584 0.45994177\n",
      " 0.35037293 0.20238067 0.1975758  0.02800101]\n"
     ]
    }
   ],
   "source": [
    "## mapping - uniform distribution\n",
    "# np.random.seed(SEED)\n",
    "A = np.random.uniform(low=-np.sqrt(2/k), high=np.sqrt(2/k), size=d*k).reshape(d, k)\n",
    "print(f\"Shape of the mapping: {A.shape}\")\n",
    "print(f\"Mapping: {A}\")\n",
    "\n",
    "## bound the mapping\n",
    "spectral_norm = np.linalg.norm(A, 2)\n",
    "print(f\"Maximum singular value: {spectral_norm:.5f}\")\n",
    "A *= (matrix_bound / spectral_norm)\n",
    "print(f\"Singular values of A: {np.linalg.svd(A)[1]}\")"
   ]
  },
  {
   "cell_type": "code",
   "execution_count": 9,
   "id": "f84aec02",
   "metadata": {},
   "outputs": [
    {
     "name": "stdout",
     "output_type": "stream",
     "text": [
      "X_.shape: (40000, 10)\n",
      "First observable context: [-0.29320062  0.04475241 -0.07124621 -0.13295739 -0.20115044 -0.08679618\n",
      " -0.02992366  0.20257877  0.02395078  0.08210083]\n",
      "Maximum norm: 0.95700\n"
     ]
    }
   ],
   "source": [
    "## observable feature X\n",
    "# making by row-by-row\n",
    "X_src = [A@Z[i] for i in range(M)]\n",
    "X_ = np.array(X_src)\n",
    "print(f\"X_.shape: {X_.shape}\")\n",
    "print(f\"First observable context: {X_[0, :]}\")\n",
    "maxnorm = np.max([l2norm(X_[i, :]) for i in range(M)])\n",
    "print(f\"Maximum norm: {maxnorm:.5f}\")"
   ]
  },
  {
   "cell_type": "code",
   "execution_count": 10,
   "id": "06fff1ef",
   "metadata": {},
   "outputs": [
    {
     "name": "stdout",
     "output_type": "stream",
     "text": [
      "X.shape: (40000, 10)\n",
      "First observable context: [-0.29320062  0.04475241 -0.07124621 -0.13295739 -0.20115044 -0.08679618\n",
      " -0.02992366  0.20257877  0.02395078  0.08210083]\n",
      "Maximum norm: 0.95700\n"
     ]
    }
   ],
   "source": [
    "# making as a whole\n",
    "X = Z @ A.T\n",
    "print(f\"X.shape: {X.shape}\")\n",
    "print(f\"First observable context: {X[0, :]}\")\n",
    "maxnorm = np.max([l2norm(X[i, :]) for i in range(M)])\n",
    "print(f\"Maximum norm: {maxnorm:.5f}\")"
   ]
  },
  {
   "cell_type": "code",
   "execution_count": 11,
   "id": "ac53d80e",
   "metadata": {},
   "outputs": [
    {
     "name": "stdout",
     "output_type": "stream",
     "text": [
      "Shape: (40000, 10)\tStandard deviation: 0.006324555320336758\n",
      "First context noise: [-0.006664    0.00479568 -0.0039923  -0.00234785 -0.00018117  0.00154677\n",
      "  0.00056144  0.00838627  0.00289623  0.00056651]\n"
     ]
    }
   ],
   "source": [
    "## sample the context noise - i.i.d, each element is sub-gaussian\n",
    "noise_std = 1/(T**0.5)\n",
    "context_noise, std = subgaussian_noise(distribution=\"gaussian\", size=(M*d), std=noise_std)\n",
    "context_noise = context_noise.reshape(M, d)\n",
    "print(f\"Shape: {context_noise.shape}\\tStandard deviation: {std}\")\n",
    "print(f\"First context noise: {context_noise[0]}\")"
   ]
  },
  {
   "cell_type": "code",
   "execution_count": 12,
   "id": "221c5abb",
   "metadata": {},
   "outputs": [
    {
     "name": "stdout",
     "output_type": "stream",
     "text": [
      "Before scaling\t- Maximum norm: 0.96308\n",
      "After scaling\t- Maximum norm: 1.00000\n"
     ]
    }
   ],
   "source": [
    "## Add the context noise to the observable one\n",
    "X = X + context_noise\n",
    "maxnorm = np.max([l2norm(X[i, :]) for i in range(M)])\n",
    "print(f\"Before scaling\\t- Maximum norm: {maxnorm:.5f}\")\n",
    "\n",
    "## scaling\n",
    "X *= (feature_bound / maxnorm)\n",
    "maxnorm = np.max([l2norm(X[i, :]) for i in range(M)])\n",
    "print(f\"After scaling\\t- Maximum norm: {maxnorm:.5f}\")"
   ]
  },
  {
   "cell_type": "code",
   "execution_count": 13,
   "id": "971a1e78",
   "metadata": {},
   "outputs": [
    {
     "name": "stdout",
     "output_type": "stream",
     "text": [
      "First latent feature: [ 0.33276439  0.07619792  0.02196566  0.37200012 -0.20561086 -0.69208096\n",
      " -0.1496236   0.22660236  0.08094753 -0.37822602]\n",
      "First observable feature: [-0.31136052  0.05144761 -0.07812293 -0.14049243 -0.20905005 -0.08851762\n",
      " -0.03048788  0.21905281  0.02787624  0.08583655]\n",
      "Distance between the latent and observable: 1.1335331076412145\n"
     ]
    }
   ],
   "source": [
    "print(f\"First latent feature: {Z[0]}\")\n",
    "print(f\"First observable feature: {X[0]}\")\n",
    "print(f\"Distance between the latent and observable: {l2norm(Z[0]-X[0])}\")"
   ]
  },
  {
   "cell_type": "code",
   "execution_count": 14,
   "id": "53da17cf",
   "metadata": {},
   "outputs": [
    {
     "data": {
      "image/png": "[encoded data removed]",
      "text/plain": [
       "<Figure size 600x400 with 1 Axes>"
      ]
     },
     "metadata": {},
     "output_type": "display_data"
    }
   ],
   "source": [
    "## histogram of the distance between the latent and observable\n",
    "distances = np.zeros(M)\n",
    "for i in range(M):\n",
    "    diff = Z[i, :] - X[i, :]\n",
    "    distances[i] = l2norm(diff)\n",
    "    \n",
    "plt.figure(figsize=(6, 4))\n",
    "plt.hist(distances)\n",
    "plt.grid(True)\n",
    "plt.xlabel(\"Distances\")\n",
    "plt.show()"
   ]
  },
  {
   "cell_type": "code",
   "execution_count": 15,
   "id": "63c75003",
   "metadata": {},
   "outputs": [
    {
     "name": "stdout",
     "output_type": "stream",
     "text": [
      "True reward parameter: [ 0.48321477  0.3522328  -0.06578007 -0.39096125 -0.21392353 -0.11392118\n",
      " -0.27750055  0.36111511  0.14272009  0.44579908]\n",
      "L2-norm of the true theta: 1.00000\n"
     ]
    }
   ],
   "source": [
    "## reward parameter\n",
    "true_theta = np.random.uniform(low=-1., high=1., size=k)\n",
    "if l2norm(true_theta) > 1:\n",
    "    true_theta *= (1 / l2norm(true_theta))\n",
    "print(f\"True reward parameter: {true_theta}\")\n",
    "print(f\"L2-norm of the true theta: {l2norm(true_theta):.5f}\")"
   ]
  },
  {
   "cell_type": "code",
   "execution_count": 16,
   "id": "7a3c4b76",
   "metadata": {},
   "outputs": [
    {
     "name": "stdout",
     "output_type": "stream",
     "text": [
      "alpha=0.0\n"
     ]
    },
    {
     "data": {
      "application/vnd.jupyter.widget-view+json": {
       "model_id": "b77789bb898c453a8b6d19be5a9090f3",
       "version_major": 2,
       "version_minor": 0
      },
      "text/plain": [
       "  0%|          | 0/25000 [00:00<?, ?it/s]"
      ]
     },
     "metadata": {},
     "output_type": "display_data"
    },
    {
     "name": "stdout",
     "output_type": "stream",
     "text": [
      "E[r_t] range: [-0.5498838908805961, 0.7351230483579255]\n",
      "alpha=0.1\n"
     ]
    },
    {
     "data": {
      "application/vnd.jupyter.widget-view+json": {
       "model_id": "0697fa8819a84433b38bfba792b565e9",
       "version_major": 2,
       "version_minor": 0
      },
      "text/plain": [
       "  0%|          | 0/25000 [00:00<?, ?it/s]"
      ]
     },
     "metadata": {},
     "output_type": "display_data"
    },
    {
     "name": "stdout",
     "output_type": "stream",
     "text": [
      "E[r_t] range: [-0.6659842599230367, 0.4692979967449341]\n",
      "alpha=0.3\n"
     ]
    },
    {
     "data": {
      "application/vnd.jupyter.widget-view+json": {
       "model_id": "25207f2c83a4464d9ac07c396b7301e5",
       "version_major": 2,
       "version_minor": 0
      },
      "text/plain": [
       "  0%|          | 0/25000 [00:00<?, ?it/s]"
      ]
     },
     "metadata": {},
     "output_type": "display_data"
    },
    {
     "name": "stdout",
     "output_type": "stream",
     "text": [
      "E[r_t] range: [-0.5296190729029572, 0.5061364184291395]\n",
      "alpha=0.5\n"
     ]
    },
    {
     "data": {
      "application/vnd.jupyter.widget-view+json": {
       "model_id": "be3846c801ed49d7a12d05b1e79b9d57",
       "version_major": 2,
       "version_minor": 0
      },
      "text/plain": [
       "  0%|          | 0/25000 [00:00<?, ?it/s]"
      ]
     },
     "metadata": {},
     "output_type": "display_data"
    },
    {
     "name": "stdout",
     "output_type": "stream",
     "text": [
      "E[r_t] range: [-0.47274757701051223, 0.5872069899650965]\n",
      "alpha=1.0\n"
     ]
    },
    {
     "data": {
      "application/vnd.jupyter.widget-view+json": {
       "model_id": "230edf3202f841f5b1b977de89cb501e",
       "version_major": 2,
       "version_minor": 0
      },
      "text/plain": [
       "  0%|          | 0/25000 [00:00<?, ?it/s]"
      ]
     },
     "metadata": {},
     "output_type": "display_data"
    },
    {
     "name": "stdout",
     "output_type": "stream",
     "text": [
      "E[r_t] range: [-0.2133067487187298, 0.5624712922811587]\n"
     ]
    }
   ],
   "source": [
    "reward_noise_std = 0.1\n",
    "result = dict()\n",
    "for alpha in ALPHAS:\n",
    "    print(f\"alpha={alpha}\")\n",
    "    agent = LinUCB(d=d, alpha=alpha)\n",
    "    regrets = np.zeros(T)\n",
    "    theta_distances = np.zeros(T)\n",
    "    played_optimal = np.zeros(T)\n",
    "    for t in tqdm_auto(range(T)):\n",
    "#         np.random.seed(int(SEED+t+(100*alpha)))\n",
    "        ## sample the action space\n",
    "        idx = np.random.choice(np.arange(M), size=N, replace=False)\n",
    "#         action_set, latent_set = X[idx, :], Z[idx, :]\n",
    "        latent_set = Z[idx, :]\n",
    "        context_noise, std = subgaussian_noise(distribution=\"gaussian\", size=(N*d), std=noise_std)\n",
    "        context_noise = context_noise.reshape(N, d)\n",
    "        action_set = latent_set @ A.T + context_noise\n",
    "        \n",
    "        # scaling\n",
    "        for i in range(N):\n",
    "            action = action_set[i]\n",
    "            if l2norm(action) > feature_bound:\n",
    "                action_set[i] *= (feature_bound / l2norm(action))\n",
    "#         maxnorm = np.max([l2norm(action) for action in action_set])\n",
    "#         action_set *= (feature_bound / maxnorm)\n",
    "\n",
    "        ## sample the reward noise and compute the optimal arm\n",
    "        reward_noise, std = subgaussian_noise(distribution=\"gaussian\", std=reward_noise_std, size=N)\n",
    "        expected_reward = latent_set @ true_theta\n",
    "        if t == 0:\n",
    "            print(f\"E[r_t] range: [{np.min(expected_reward)}, {np.max(expected_reward)}]\")\n",
    "        true_reward = expected_reward + reward_noise\n",
    "        optimal_arm = np.argmax(expected_reward)\n",
    "        optimal_reward = expected_reward[optimal_arm]\n",
    "\n",
    "        ## choose the best action and compute the instance regret\n",
    "        chosen_arm = agent.choose(action_set)\n",
    "        chosen_context = action_set[chosen_arm]\n",
    "        chosen_reward = true_reward[chosen_arm]\n",
    "        regret_t = optimal_reward - expected_reward[chosen_arm]\n",
    "        regrets[t] = regret_t\n",
    "        theta_distances[t] = l2norm(true_theta - agent.theta_hat)\n",
    "        played_optimal[t] = (chosen_arm == optimal_arm)\n",
    "        \n",
    "#         print(f\"Round:{t} \\tOptimal arm:{optimal_arm}\\tChosen arm:{chosen_arm}\\tregret_t:{regret_t:.5f}\\tRegret_t:{np.cumsum(regrets)[t]:.5f}\\tTheta distance:{theta_distances[t]:.5f}\\tPlayed optimal:{played_optimal[t]}\")\n",
    "        \n",
    "        ## update the agent\n",
    "        agent.update(x=chosen_context, r=chosen_reward)\n",
    "        \n",
    "    result[alpha] = (np.cumsum(regrets), theta_distances, (np.cumsum(played_optimal)/(np.arange(T)+1)))"
   ]
  },
  {
   "cell_type": "code",
   "execution_count": 17,
   "id": "14bf6b29",
   "metadata": {},
   "outputs": [
    {
     "data": {
      "image/png": "[encoded data removed]",
      "text/plain": [
       "<Figure size 1800x500 with 3 Axes>"
      ]
     },
     "metadata": {},
     "output_type": "display_data"
    }
   ],
   "source": [
    "plt.figure(figsize=(18, 5))\n",
    "alpha_label = r\"$\\alpha$\"\n",
    "for key, value in result.items():\n",
    "    regret, distance, played_optimal = value\n",
    "    \n",
    "    plt.subplot(131)\n",
    "    plt.plot(regret, label=f\"{alpha_label}={key}\")\n",
    "    plt.grid(True)\n",
    "    plt.xlabel(\"Round\")\n",
    "    plt.ylabel(r\"$R_t$\")\n",
    "    plt.legend()\n",
    "    plt.title(\"Regret\")\n",
    "    \n",
    "    plt.subplot(132)\n",
    "    plt.plot(distance, label=f\"{alpha_label}={key}\")\n",
    "    plt.grid(True)\n",
    "    plt.xlabel(\"Round\")\n",
    "    plt.ylabel(r\"${\\Vert \\hat{\\theta}_t - \\theta_* \\Vert}_2$\")\n",
    "    plt.legend()\n",
    "    plt.title(\"Theta distances\")\n",
    "    \n",
    "    plt.subplot(133)\n",
    "    plt.plot(played_optimal, label=f\"{alpha_label}={key}\")\n",
    "    plt.grid(True)\n",
    "    plt.xlabel(\"Round\")\n",
    "    plt.ylabel(\"Proportion\")\n",
    "    plt.legend()\n",
    "    plt.title(\"Proportion of playing the optimal action\")\n",
    "\n",
    "plt.tight_layout(rect=[0, 0, 1, 0.95])\n",
    "title_label = r\"$\\sigma_\\eta=$\"\n",
    "plt.suptitle(f\"{title_label}{noise_std:.6f}\")\n",
    "plt.show()"
   ]
  },
  {
   "cell_type": "code",
   "execution_count": 22,
   "id": "3b16a54c",
   "metadata": {},
   "outputs": [],
   "source": [
    "for i in range(10000):\n",
    "    cov = covariance_generator(d=10, distribution=\"gaussian\")\n",
    "    if not (np.diag(cov) >= 0).all():\n",
    "        print(i)"
   ]
  },
  {
   "cell_type": "code",
   "execution_count": 29,
   "id": "d3773481",
   "metadata": {},
   "outputs": [],
   "source": [
    "def generate_uniform(dim:Union[int, tuple], uniform_rng:list=None):\n",
    "    assert type(dim) == int or type(dim) == tuple, \"The type of 'dim' must be either int or tuple.\"\n",
    "    \n",
    "    if uniform_rng is None:\n",
    "        low, high = -1., 1.\n",
    "    else:\n",
    "        assert len(uniform_rng) == 2, \"The 'uniform_rng' must contain two elements: low and high.\"\n",
    "        low, high = uniform_rng\n",
    "        \n",
    "    if type(dim) == int:\n",
    "        size = dim\n",
    "    else:\n",
    "        dim1, dim2 = dim\n",
    "        size = dim1 * dim2    \n",
    "    return np.random.uniform(low=low, high=high, size=size).reshape(dim)\n",
    "\n",
    "\n",
    "def covariance_generator(d:int, independent:bool, distribution:str=None, uniform_rng:list=None, \n",
    "                         variances:Union[list, np.ndarray]=None):\n",
    "    if independent:\n",
    "        if variances is None:\n",
    "            assert distribution is not None and distribution.lower() in [\"gaussian\", \"uniform\"], \"If the variances are not given, you need to pass the distribution to sample them.\"\n",
    "            ## then variances are sampled randomly\n",
    "            if distribution == \"gaussian\":\n",
    "                variances = (np.random.randn(d)) ** 2\n",
    "            else:\n",
    "                variances = (generate_uniform(dim=d, uniform_rng=uniform_rng)) ** 2\n",
    "\n",
    "        mat = np.zeros(shape=(d, d))\n",
    "        for i in range(d):\n",
    "            mat[i, i] = variances[i]\n",
    "    \n",
    "    else:\n",
    "        assert distribution is not None and distribution.lower() in [\"gaussian\", \"uniform\"], f\"If independent is {independent}, you need to pass the distribution to sample them.\"\n",
    "        if distribution == \"gaussian\":\n",
    "            rnd = np.random.randn(d, d)\n",
    "        elif distribution == \"uniform\":\n",
    "            rnd = generate_uniform(dim=(d, d), uniform_rng=uniform_rng)\n",
    "        \n",
    "        ## make a symmetric matrix\n",
    "        sym = (rnd + rnd.T) / 2\n",
    "        ## make positive semi-definite and bound its maximum singular value\n",
    "        mat = sym @ sym.T\n",
    "        if variances is not None:\n",
    "            for i in range(d):\n",
    "                mat[i, i] = variances[i]\n",
    "\n",
    "    return mat"
   ]
  },
  {
   "cell_type": "code",
   "execution_count": 30,
   "id": "31b00033",
   "metadata": {},
   "outputs": [
    {
     "data": {
      "text/plain": [
       "array([[ 0.55736965, -0.13723098, -0.05507049,  0.17308232, -0.32781566],\n",
       "       [-0.13723098,  0.76316639,  0.04785917,  0.17546678, -0.09530399],\n",
       "       [-0.05507049,  0.04785917,  0.352694  , -0.178825  ,  0.04007331],\n",
       "       [ 0.17308232,  0.17546678, -0.178825  ,  0.88922041,  0.14835599],\n",
       "       [-0.32781566, -0.09530399,  0.04007331,  0.14835599,  0.63941521]])"
      ]
     },
     "execution_count": 30,
     "metadata": {},
     "output_type": "execute_result"
    }
   ],
   "source": [
    "covariance_generator(d=5, independent=False, distribution=\"uniform\")"
   ]
  },
  {
   "cell_type": "code",
   "execution_count": null,
   "id": "9655df6e",
   "metadata": {},
   "outputs": [],
   "source": []
  }
 ],
 "metadata": {
  "kernelspec": {
   "display_name": "Python 3 (ipykernel)",
   "language": "python",
   "name": "python3"
  },
  "language_info": {
   "codemirror_mode": {
    "name": "ipython",
    "version": 3
   },
   "file_extension": ".py",
   "mimetype": "text/x-python",
   "name": "python",
   "nbconvert_exporter": "python",
   "pygments_lexer": "ipython3",
   "version": "3.10.12"
  }
 },
 "nbformat": 4,
 "nbformat_minor": 5
}
