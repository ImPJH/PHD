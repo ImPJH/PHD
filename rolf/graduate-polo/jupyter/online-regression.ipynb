{
 "cells": [
  {
   "cell_type": "markdown",
   "id": "315e63a2",
   "metadata": {},
   "source": [
    "# Online Regression with Synthetic dataset"
   ]
  },
  {
   "cell_type": "markdown",
   "id": "20b0dd97",
   "metadata": {},
   "source": [
    "* In machine learning theory, thera are two well known learning approaches: **online learning** and **offline learning**.\n",
    "\n",
    "\n",
    "* Here the meanings of two terms, \"online\" and \"offline\", are slightly different to what we use in our daily lives. Usually we use both terms to refer to the status of network: if a device is connected to the Internet, it's called \"online\", while \"offline\" if it's not.\n",
    "\n",
    "\n",
    "* However, in machine learning, a model tries to learn some \"relationship\" between the source and the target from given data.\n",
    "    - For example, in linear regression, the model tries to learn(or estimate) the parameter $\\beta$ such that satisfies $Y = X\\beta + \\epsilon$.\n",
    "    - Likewise, a neural network model tries to learn a set of weights and biases such that maps $X$ to $Y$.\n",
    "\n",
    "\n",
    "* The meaning of \"online\" and \"offline\" are also defined in this sense.\n",
    "    - Specifically, if a model updates its parameters(or learns) **sequentially** as each data point comes in, this method is called as **online learning**.\n",
    "    - On the other hand, if a model updates the parameters only after **observing every given data point**, then that method is called as **offline learning**.\n",
    "    \n",
    "    \n",
    "* To get it simple, it is also might be okay to think like:\n",
    "    - learning with batch size **1** is equivalent to online learning\n",
    "    - learning with batch size **$N$** is equivalent to offline learning, where $N$ denotes the total number of observations in the given dataset.\n",
    "    \n",
    "    \n",
    "* In this notebook, I'm going to conduct a multiple linear regression experiment with a synthetic dataset, and compare the results."
   ]
  },
  {
   "cell_type": "code",
   "execution_count": 1,
   "id": "b142ed79",
   "metadata": {},
   "outputs": [
    {
     "data": {
      "text/html": [
       "<style>.container { width:75% !important; }</style>"
      ],
      "text/plain": [
       "<IPython.core.display.HTML object>"
      ]
     },
     "metadata": {},
     "output_type": "display_data"
    }
   ],
   "source": [
    "import numpy as np\n",
    "import matplotlib.pyplot as plt\n",
    "from typing import Union\n",
    "from tqdm.auto import tqdm\n",
    "from IPython.display import display, HTML\n",
    "\n",
    "display(HTML(\"<style>.container { width:75% !important; }</style>\"))\n",
    "%matplotlib inline"
   ]
  },
  {
   "cell_type": "code",
   "execution_count": 2,
   "id": "64364a96",
   "metadata": {},
   "outputs": [],
   "source": [
    "## Define some utility functions\n",
    "\n",
    "def l1norm(v:np.ndarray):\n",
    "    v = v.flatten()\n",
    "    return np.sum(abs(v))\n",
    "\n",
    "\n",
    "def l2norm(v:np.ndarray):\n",
    "    v = v.flatten()\n",
    "    return np.sqrt(np.sum(v ** 2))\n",
    "\n",
    "\n",
    "def covariance_generator(d:int, distribution:str=\"gaussian\", bound:float=None):\n",
    "    if distribution == \"gaussian\":\n",
    "        rnd = np.random.randn(d, d)\n",
    "    elif distribution == \"uniform\":\n",
    "        rnd = np.random.uniform(-1, 1, size=d*d).reshape(d, d)\n",
    "    else:\n",
    "        rnd = np.random.gamma(2, size=d*d).reshape(d,d)\n",
    "    \n",
    "    ## make a symmetric matrix\n",
    "    sym = (rnd + rnd.T) / 2\n",
    "    ## make positive semi-definite and bound its maximum singular value\n",
    "    mat = sym @ sym.T\n",
    "    \n",
    "    if bound is not None:\n",
    "        mat *= (bound / np.linalg.norm(mat, 2))\n",
    "    \n",
    "    return mat\n",
    "\n",
    "\n",
    "# Function for Gram-Schmidt process\n",
    "def gram_schmidt(A):\n",
    "    Q = np.zeros(A.shape)\n",
    "    for i in range(A.shape[1]):\n",
    "        # Orthogonalize the vector\n",
    "        Q[:,i] = A[:,i]\n",
    "        for j in range(i):\n",
    "            Q[:,i] -= np.dot(Q[:,j], A[:,i]) * Q[:,j]\n",
    "        \n",
    "        # Normalize the vector\n",
    "        Q[:,i] = Q[:,i] / np.linalg.norm(Q[:,i])\n",
    "    return Q\n",
    "\n",
    "\n",
    "def make_diagonal(v:np.ndarray, dim:Union[int, tuple]):\n",
    "    if type(dim) == int:\n",
    "        diag = np.zeros((dim, dim))\n",
    "        rng = dim\n",
    "    else:\n",
    "        diag = np.zeros(dim)\n",
    "        rng = min(dim)\n",
    "        \n",
    "    for i in range(rng):\n",
    "        diag[i, i] = v[i]\n",
    "    \n",
    "    return diag\n",
    "\n",
    "\n",
    "def positive_definite_generator(dimension:int, distribution:str):\n",
    "    d = dimension\n",
    "    ## create orthogonal eigenvectors\n",
    "    if distribution == \"gaussian\":\n",
    "        source = np.random.randn(d,d)\n",
    "    elif distribution == \"uniform\":\n",
    "        source = np.random.uniform(-1, 1, size=d*d).reshape(d, d)\n",
    "    else:\n",
    "        source = np.random.gamma(shape=1.5, size=d*d).reshape(d, d)\n",
    "    eigvecs = gram_schmidt(source)\n",
    "    \n",
    "    ## create a matrix of eigenvalues\n",
    "    eigvals = np.random.uniform(0., 2., size=d)\n",
    "    eigmat = make_diagonal(np.absolute(eigvals), len(eigvals))\n",
    "    \n",
    "    ## make the targeted positive definite matrix\n",
    "    Z = source @ eigmat @ source.T\n",
    "    return Z\n",
    "\n",
    "\n",
    "def rademacher(size:int):\n",
    "    return 2 * np.random.randint(0, 2, size) - 1\n",
    "\n",
    "\n",
    "def subgaussian_noise(distribution:str, size:int, random_state:int, std:float=None):\n",
    "    np.random.seed(random_state)\n",
    "    if not std:\n",
    "        assert distribution in [\"gaussian\", \"uniform\", \"rademacher\"], \"Distribution must be one of: 'gaussian', 'uniform', or 'rademacher'.\"\n",
    "    \n",
    "    if distribution == \"gaussian\":\n",
    "        if not std:\n",
    "            std = 1.\n",
    "        noise = np.random.normal(loc=0, scale=std, size=size) \n",
    "    elif distribution == \"uniform\":\n",
    "        if not std:\n",
    "            low = -1\n",
    "            high = 1\n",
    "            std = np.sqrt(((high - low) ** 2) / 12)\n",
    "        else:\n",
    "            low = -np.sqrt(3) * std\n",
    "            high = np.sqrt(3) * std\n",
    "        noise = np.random.uniform(low=low, high=high, size=size)\n",
    "    else:\n",
    "        std = 1\n",
    "        noise = rademacher(size=size)\n",
    "    return noise, std"
   ]
  },
  {
   "cell_type": "markdown",
   "id": "4ad87c3c",
   "metadata": {},
   "source": [
    "* The codes below will be used to generate synthetic datasets.\n",
    "    - The `feature_sampler` function generates a set of features of shape $(N, d)$, where $N$ denotes the number of observations, and $d$ denotes the dimension of each feature. For convenience, I'm going to use either Gaussian or Uniform distribution.\n",
    "    - The `param_generator` function generates a regression parameter vector from a specific distribution."
   ]
  },
  {
   "cell_type": "code",
   "execution_count": 3,
   "id": "c5911ad2",
   "metadata": {},
   "outputs": [],
   "source": [
    "def feature_sampler(dimension:int, feat_dist:str, size:int, disjoint:bool, random_state:int, cov_dist:str=None, uniform_rng:list=None):\n",
    "    np.random.seed(random_state)\n",
    "    assert feat_dist.lower() in [\"gaussian\", \"uniform\"], \"Distribution must be either 'gaussian' or 'uniform'.\"\n",
    "    \n",
    "    if disjoint:\n",
    "        if feat_dist.lower() == \"gaussian\":\n",
    "            ## gaussian\n",
    "            feat = np.random.multivariate_normal(mean=np.ones(dimension), cov=np.identity(dimension), size=size)\n",
    "        else:\n",
    "            ## uniform\n",
    "            if not uniform_rng:\n",
    "                low, high = -1., 1.\n",
    "            else:\n",
    "                low, high = uniform_rng\n",
    "            feat = np.random.uniform(low=low, high=high, size=size*dimension).reshape(size, dimension)\n",
    "    else:\n",
    "        assert cov_dist is not None, \"Please pass the distribution to sample the covariance matrix: 'gaussian' or 'uniform'.\"\n",
    "        if feat_dist.lower() == \"gaussian\":\n",
    "            ## gaussian\n",
    "            cov = covariance_generator(dimension, distribution=cov_dist)\n",
    "            feat = np.random.multivariate_normal(mean=np.ones(dimension), cov=cov, size=size)\n",
    "        else:\n",
    "            ## uniform\n",
    "            if not uniform_rng:\n",
    "                low, high = -1., 1.\n",
    "            else:\n",
    "                low, high = uniform_rng\n",
    "            feat = np.random.uniform(low=low, high=high, size=size*dimension).reshape(size, dimension)\n",
    "\n",
    "            # Cholesky decomposition\n",
    "            pd = positive_definite_generator(dimension, distribution=cov_dist)\n",
    "            L = np.linalg.cholesky(pd)\n",
    "            for i in range(size):\n",
    "                feat[i, :] = L @ feat[i, :]\n",
    "    \n",
    "    return feat\n",
    "\n",
    "\n",
    "def param_generator(dimension:int, distribution:str, disjoint:bool, random_state:int, bound:float=None):\n",
    "    np.random.seed(random_state)\n",
    "    assert distribution.lower() in [\"gaussian\", \"uniform\", \"gamma\"]\n",
    "    \n",
    "    if disjoint:\n",
    "        if distribution == \"gaussian\":\n",
    "            param = np.random.randn(dimension)\n",
    "        elif distribution == \"uniform\":\n",
    "            param = np.random.uniform(low=-1., high=1., size=dimension)\n",
    "        else:\n",
    "            param = np.random.gamma(shape=2., size=dimension)\n",
    "    else:\n",
    "        if distribution == \"gaussian\":\n",
    "            cov = covariance_generator(dimension, distribution=distribution)\n",
    "            param = np.random.multivariate_normal(mean=np.zeros(dimension), cov=cov)\n",
    "        elif distribution == \"uniform\":\n",
    "            pd = positive_definite_generator(dimension, distribution=distribution)\n",
    "            param = np.random.uniform(low=-1., high=1., size=dimension)\n",
    "            L = np.linalg.cholesky(pd)\n",
    "            param = L @ param\n",
    "        else:\n",
    "            pd = positive_definite_generator(dimension, distribution=distribution)\n",
    "            param = np.random.gamma(shape=1., size=dimension)\n",
    "            L = np.linalg.cholesky(pd)\n",
    "            param = L @ param\n",
    "                    \n",
    "    if (bound is not None) and (l2norm(param) > bound): \n",
    "        param *= (bound / l2norm(param))\n",
    "    \n",
    "    return param"
   ]
  },
  {
   "cell_type": "code",
   "execution_count": 4,
   "id": "d8cc69ee",
   "metadata": {},
   "outputs": [],
   "source": [
    "def mean_squared_error(y_true:np.ndarray, y_pred:np.ndarray):\n",
    "    squared_error = (y_true - y_pred) ** 2\n",
    "    return np.mean(squared_error)"
   ]
  },
  {
   "cell_type": "code",
   "execution_count": 5,
   "id": "ecf32345",
   "metadata": {},
   "outputs": [],
   "source": [
    "## hyperparameters\n",
    "d = 10\n",
    "training_samples, test_samples = 100000, 20000\n",
    "seed = 237"
   ]
  },
  {
   "cell_type": "markdown",
   "id": "37457fd7",
   "metadata": {},
   "source": [
    "## $X={(x_{ij})}_{i=1,j=1}^{N,d}\\sim U(-1, 1), \\epsilon_i\\sim N(0,1), \\boldsymbol{\\beta}={(\\beta_i)}_{i=1}^{d}\\sim U(-1,1)$"
   ]
  },
  {
   "cell_type": "code",
   "execution_count": 6,
   "id": "b822e71b",
   "metadata": {},
   "outputs": [
    {
     "name": "stdout",
     "output_type": "stream",
     "text": [
      "Shape of X: (120000, 11)\n",
      "First observation: [ 1.          0.97561731 -0.52256163 -0.97208453  0.63756872 -0.67875967\n",
      "  0.95924509  0.16444417  0.0542513  -0.15121154  0.23673119]\n"
     ]
    },
    {
     "data": {
      "image/png": "[encoded data removed]",
      "text/plain": [
       "<Figure size 600x400 with 1 Axes>"
      ]
     },
     "metadata": {},
     "output_type": "display_data"
    }
   ],
   "source": [
    "## Generate X\n",
    "X = feature_sampler(dimension=d, feat_dist=\"uniform\", disjoint=True, size=training_samples+test_samples, random_state=seed)\n",
    "C = np.ones(training_samples+test_samples) ## add constant term\n",
    "X = np.c_[C, X]\n",
    "\n",
    "print(f\"Shape of X: {X.shape}\")\n",
    "print(f\"First observation: {X[0, :]}\")\n",
    "norms = [l2norm(X[i, :]) for i in range(training_samples+test_samples)]\n",
    "\n",
    "## distribution of the norm of each row\n",
    "plt.figure(figsize=(6, 4))\n",
    "plt.hist(norms)\n",
    "plt.grid(True)\n",
    "plt.title(\"Distribution of $L_2$ norm of row vectors\")\n",
    "plt.show()"
   ]
  },
  {
   "cell_type": "code",
   "execution_count": 7,
   "id": "8bac694c",
   "metadata": {},
   "outputs": [
    {
     "name": "stdout",
     "output_type": "stream",
     "text": [
      "beta: [ 0.97561731 -0.52256163 -0.97208453  0.63756872 -0.67875967  0.95924509\n",
      "  0.16444417  0.0542513  -0.15121154  0.23673119 -0.63144079]\n"
     ]
    }
   ],
   "source": [
    "## Generate the true parameter\n",
    "beta = param_generator(dimension=d+1, distribution=\"uniform\", disjoint=True, random_state=seed)\n",
    "print(f\"beta: {beta}\")"
   ]
  },
  {
   "cell_type": "code",
   "execution_count": 8,
   "id": "84caf22f",
   "metadata": {},
   "outputs": [
    {
     "name": "stdout",
     "output_type": "stream",
     "text": [
      "The number of epsilons: (120000,), standard deviation: 1.0\n",
      "First five epsilons: [ 0.8297433   2.51508173  1.89927194 -1.2131559  -0.58484597]\n"
     ]
    }
   ],
   "source": [
    "## Generate the regression noise\n",
    "epsilon, std = subgaussian_noise(distribution=\"gaussian\", size=training_samples+test_samples, random_state=seed, std=1.)\n",
    "print(f\"The number of epsilons: {epsilon.shape}, standard deviation: {std}\")\n",
    "print(f\"First five epsilons: {epsilon[:5]}\")"
   ]
  },
  {
   "cell_type": "markdown",
   "id": "932f0046",
   "metadata": {},
   "source": [
    "## $Y = X\\boldsymbol{\\beta}+\\boldsymbol{\\epsilon}$"
   ]
  },
  {
   "cell_type": "code",
   "execution_count": 9,
   "id": "b056b8b0",
   "metadata": {},
   "outputs": [
    {
     "name": "stdout",
     "output_type": "stream",
     "text": [
      "Shape of regression labels: (120000,)\n",
      "First 10 labels: [ 0.07307295  4.0607576   3.33904838  0.15313721  0.02419427 -0.86872878\n",
      "  1.38570731  1.15359559 -0.33436376  0.19062877]\n"
     ]
    },
    {
     "data": {
      "image/png": "[encoded data removed]",
      "text/plain": [
       "<Figure size 1100x400 with 2 Axes>"
      ]
     },
     "metadata": {},
     "output_type": "display_data"
    }
   ],
   "source": [
    "## Construct the regression labels \n",
    "expY = X @ beta\n",
    "Y = expY + epsilon\n",
    "\n",
    "print(f\"Shape of regression labels: {Y.shape}\")\n",
    "print(f\"First 10 labels: {Y[:10]}\")\n",
    "\n",
    "## distribution of labels\n",
    "plt.figure(figsize=(11, 4))\n",
    "\n",
    "plt.subplot(121)\n",
    "plt.hist(expY)\n",
    "plt.grid(True)\n",
    "plt.xlabel(\"$\\mathbb{E}[Y]$\")\n",
    "plt.title(\"Distribution of $\\mathbb{E}[Y]$\")\n",
    "\n",
    "plt.subplot(122)\n",
    "plt.hist(Y)\n",
    "plt.grid(True)\n",
    "plt.xlabel(\"$Y$\")\n",
    "plt.title(\"Distribution of true $Y$\")\n",
    "\n",
    "plt.tight_layout()\n",
    "plt.show()"
   ]
  },
  {
   "cell_type": "code",
   "execution_count": 10,
   "id": "7b2d493d",
   "metadata": {},
   "outputs": [
    {
     "name": "stdout",
     "output_type": "stream",
     "text": [
      "Training sets: (100000, 11), (100000,)\n",
      "Test sets: (20000, 11), (20000,)\n"
     ]
    }
   ],
   "source": [
    "## dataset split\n",
    "X_train, X_test, y_train, y_test = X[:training_samples], X[training_samples:], Y[:training_samples], Y[training_samples:]\n",
    "\n",
    "print(f\"Training sets: {X_train.shape}, {y_train.shape}\")\n",
    "print(f\"Test sets: {X_test.shape}, {y_test.shape}\")"
   ]
  },
  {
   "cell_type": "markdown",
   "id": "7c24d951",
   "metadata": {},
   "source": [
    "## Offline approach"
   ]
  },
  {
   "cell_type": "markdown",
   "id": "cd1e1601",
   "metadata": {},
   "source": [
    "* First, we take one of the most well-known offline learning approach on linear regression, which is:\n",
    "    - For a given features $X$ and the corresponding labels $y$,\n",
    "    $$ \\hat{\\beta} = {\\left(X^\\top X\\right)}^{-1}{X^\\top y}$$"
   ]
  },
  {
   "cell_type": "code",
   "execution_count": 11,
   "id": "85a8f37e",
   "metadata": {
    "scrolled": true
   },
   "outputs": [
    {
     "name": "stdout",
     "output_type": "stream",
     "text": [
      "Est.\t[ 0.97383886 -0.51844871 -0.96656454  0.64424557 -0.67741577  0.95511744\n",
      "  0.16034955  0.05549382 -0.14549371  0.23632028 -0.63557575]\n",
      "True\t[ 0.97561731 -0.52256163 -0.97208453  0.63756872 -0.67875967  0.95924509\n",
      "  0.16444417  0.0542513  -0.15121154  0.23673119 -0.63144079]\n"
     ]
    }
   ],
   "source": [
    "# Get closed form solution\n",
    "denominator = np.linalg.inv(X_train.T @ X_train)\n",
    "nominator = X_train.T @ y_train\n",
    "offline_beta_hat = denominator @ nominator\n",
    "print(f\"Est.\\t{offline_beta_hat}\")\n",
    "print(f\"True\\t{beta}\")"
   ]
  },
  {
   "cell_type": "code",
   "execution_count": 12,
   "id": "0fcace1d",
   "metadata": {},
   "outputs": [
    {
     "name": "stdout",
     "output_type": "stream",
     "text": [
      "Test error: 1.005588\n"
     ]
    }
   ],
   "source": [
    "# Compute MSE\n",
    "y_pred = X_test @ offline_beta_hat\n",
    "print(f\"Test error: {mean_squared_error(y_true=y_test, y_pred=y_pred):.6f}\")"
   ]
  },
  {
   "cell_type": "markdown",
   "id": "8baf9a1e",
   "metadata": {},
   "source": [
    "## Online approach"
   ]
  },
  {
   "cell_type": "markdown",
   "id": "d0f270b5",
   "metadata": {},
   "source": [
    "### Gradient Descent"
   ]
  },
  {
   "cell_type": "markdown",
   "id": "c46b47bd",
   "metadata": {},
   "source": [
    "* Here, I'm going to implement the Gradient Descent algorithm, setting the objective function(or loss function) as the mean squared error, where\n",
    "$$ L_{\\boldsymbol\\beta} = \\frac{1}{N}\\sum_{i=1}^N {\\left(y_i - \\beta_0 - \\sum_{j=1}^d \\beta_i x_{ij}\\right)}^2 $$\n",
    "\n",
    "\n",
    "* Now, the gradient for each parameter for each point is:\n",
    "    - For $\\beta_0$: \n",
    "    $$\\frac{\\partial L_{\\boldsymbol \\beta}^i}{\\partial \\beta_0} = -2\\left(y_i - \\beta_0 - \\sum_{j=1}^d \\beta_i x_{ij}\\right)$$\n",
    "        - for any $i\\in\\{1,\\dots, N\\}$.\n",
    "    - For $\\beta_j$:\n",
    "    $$\\frac{\\partial L_{\\boldsymbol \\beta}^i}{\\partial \\beta_j} = -2x_{ij}\\cdot\\left(y_i - \\beta_0 - \\sum_{j=1}^d \\beta_i x_{ij}\\right)$$\n",
    "    \n",
    "\n",
    "* So for each $i \\in \\{1, \\dots, N\\}$, the gradient descent function will implement:\n",
    "$$\n",
    "\\begin{align*}\n",
    "\\beta_0^{\\text{new}} &= \\beta_0^{\\text{old}} - \\frac{\\partial L_{\\boldsymbol\\beta}^i}{\\beta_0}\\\\\n",
    "\\beta_j^{\\text{new}} &= \\beta_j^{\\text{old}} - \\frac{\\partial L_{\\boldsymbol\\beta}^i}{\\beta_j}.\n",
    "\\end{align*}\n",
    "$$"
   ]
  },
  {
   "cell_type": "code",
   "execution_count": 13,
   "id": "8dabff4d",
   "metadata": {},
   "outputs": [],
   "source": [
    "def gradient_descent(lr:float, params:np.ndarray, data:np.ndarray, y_true:np.ndarray):\n",
    "    ## Graident descent for squared error\n",
    "    N, dim = data.shape\n",
    "    loss = 0\n",
    "    \n",
    "    for i in tqdm(range(N)):\n",
    "        row = data[i, :]\n",
    "        y_label = y_true[i]\n",
    "        \n",
    "        y_pred = row @ params\n",
    "        loss += mean_squared_error(y_true=y_label, y_pred=y_pred)\n",
    "        \n",
    "        ## gradient update for the bias\n",
    "        params[0] -= (2 * lr * (y_pred - y_label))\n",
    "        \n",
    "        ## gradient update for each weight\n",
    "        for j in range(1, dim):\n",
    "            params[j] -= (2 * lr * (y_pred - y_label) * row[j])\n",
    "    \n",
    "    return params, (loss / N)"
   ]
  },
  {
   "cell_type": "code",
   "execution_count": 14,
   "id": "e22cd46a",
   "metadata": {
    "scrolled": false
   },
   "outputs": [
    {
     "data": {
      "application/vnd.jupyter.widget-view+json": {
       "model_id": "78da53b0bd2447ff89dfc9a5fcdad39f",
       "version_major": 2,
       "version_minor": 0
      },
      "text/plain": [
       "  0%|          | 0/100000 [00:00<?, ?it/s]"
      ]
     },
     "metadata": {},
     "output_type": "display_data"
    },
    {
     "name": "stdout",
     "output_type": "stream",
     "text": [
      "Epoch [1]\tLearning Rate: 5e-05\tTrain loss: 1.22208\tTest loss: 1.00827\tParameter distance: 0.07247\n"
     ]
    },
    {
     "data": {
      "application/vnd.jupyter.widget-view+json": {
       "model_id": "792aaef818a14115b52d0f5d403c0995",
       "version_major": 2,
       "version_minor": 0
      },
      "text/plain": [
       "  0%|          | 0/100000 [00:00<?, ?it/s]"
      ]
     },
     "metadata": {},
     "output_type": "display_data"
    },
    {
     "name": "stdout",
     "output_type": "stream",
     "text": [
      "Epoch [2]\tLearning Rate: 5e-05\tTrain loss: 1.00109\tTest loss: 1.00586\tParameter distance: 0.02204\n"
     ]
    },
    {
     "data": {
      "application/vnd.jupyter.widget-view+json": {
       "model_id": "5eb1c3ce61214461b6b7a3feffaeac78",
       "version_major": 2,
       "version_minor": 0
      },
      "text/plain": [
       "  0%|          | 0/100000 [00:00<?, ?it/s]"
      ]
     },
     "metadata": {},
     "output_type": "display_data"
    },
    {
     "name": "stdout",
     "output_type": "stream",
     "text": [
      "Epoch [3]\tLearning Rate: 5e-05\tTrain loss: 1.00088\tTest loss: 1.00583\tParameter distance: 0.02166\n"
     ]
    },
    {
     "data": {
      "application/vnd.jupyter.widget-view+json": {
       "model_id": "2a88cdf3ab65487ab76b810fa1554115",
       "version_major": 2,
       "version_minor": 0
      },
      "text/plain": [
       "  0%|          | 0/100000 [00:00<?, ?it/s]"
      ]
     },
     "metadata": {},
     "output_type": "display_data"
    },
    {
     "name": "stdout",
     "output_type": "stream",
     "text": [
      "Epoch [4]\tLearning Rate: 5e-05\tTrain loss: 1.00088\tTest loss: 1.00583\tParameter distance: 0.02165\n"
     ]
    },
    {
     "data": {
      "application/vnd.jupyter.widget-view+json": {
       "model_id": "00a2c95e7af24498a1e0767f07c5d698",
       "version_major": 2,
       "version_minor": 0
      },
      "text/plain": [
       "  0%|          | 0/100000 [00:00<?, ?it/s]"
      ]
     },
     "metadata": {},
     "output_type": "display_data"
    },
    {
     "name": "stdout",
     "output_type": "stream",
     "text": [
      "Epoch [5]\tLearning Rate: 5e-05\tTrain loss: 1.00088\tTest loss: 1.00583\tParameter distance: 0.02165\n"
     ]
    },
    {
     "data": {
      "application/vnd.jupyter.widget-view+json": {
       "model_id": "95928e7f20c6404e84b9f7781073c3ab",
       "version_major": 2,
       "version_minor": 0
      },
      "text/plain": [
       "  0%|          | 0/100000 [00:00<?, ?it/s]"
      ]
     },
     "metadata": {},
     "output_type": "display_data"
    },
    {
     "name": "stdout",
     "output_type": "stream",
     "text": [
      "Epoch [6]\tLearning Rate: 5e-05\tTrain loss: 1.00088\tTest loss: 1.00583\tParameter distance: 0.02165\n"
     ]
    },
    {
     "data": {
      "application/vnd.jupyter.widget-view+json": {
       "model_id": "20f6363b6bf74adaacd688168a194a0e",
       "version_major": 2,
       "version_minor": 0
      },
      "text/plain": [
       "  0%|          | 0/100000 [00:00<?, ?it/s]"
      ]
     },
     "metadata": {},
     "output_type": "display_data"
    },
    {
     "name": "stdout",
     "output_type": "stream",
     "text": [
      "Epoch [7]\tLearning Rate: 5e-05\tTrain loss: 1.00088\tTest loss: 1.00583\tParameter distance: 0.02165\n"
     ]
    },
    {
     "data": {
      "application/vnd.jupyter.widget-view+json": {
       "model_id": "5f418d62a82341bfba7cad32ac1fd08a",
       "version_major": 2,
       "version_minor": 0
      },
      "text/plain": [
       "  0%|          | 0/100000 [00:00<?, ?it/s]"
      ]
     },
     "metadata": {},
     "output_type": "display_data"
    },
    {
     "name": "stdout",
     "output_type": "stream",
     "text": [
      "Epoch [8]\tLearning Rate: 5e-05\tTrain loss: 1.00088\tTest loss: 1.00583\tParameter distance: 0.02165\n"
     ]
    },
    {
     "data": {
      "application/vnd.jupyter.widget-view+json": {
       "model_id": "209b4dba7e8542dfb41319c0a32bcdf1",
       "version_major": 2,
       "version_minor": 0
      },
      "text/plain": [
       "  0%|          | 0/100000 [00:00<?, ?it/s]"
      ]
     },
     "metadata": {},
     "output_type": "display_data"
    },
    {
     "name": "stdout",
     "output_type": "stream",
     "text": [
      "Epoch [9]\tLearning Rate: 5e-05\tTrain loss: 1.00088\tTest loss: 1.00583\tParameter distance: 0.02165\n"
     ]
    },
    {
     "data": {
      "application/vnd.jupyter.widget-view+json": {
       "model_id": "49b1795ed2f1494f9a31a8672efd44b2",
       "version_major": 2,
       "version_minor": 0
      },
      "text/plain": [
       "  0%|          | 0/100000 [00:00<?, ?it/s]"
      ]
     },
     "metadata": {},
     "output_type": "display_data"
    },
    {
     "name": "stdout",
     "output_type": "stream",
     "text": [
      "Epoch [10]\tLearning Rate: 5e-05\tTrain loss: 1.00088\tTest loss: 1.00583\tParameter distance: 0.02165\n"
     ]
    }
   ],
   "source": [
    "EPOCHS = 10\n",
    "online_beta_hat = np.zeros(d+1)\n",
    "lr = 5e-5\n",
    "\n",
    "param_distance = np.zeros(EPOCHS)\n",
    "train_losses = np.zeros(EPOCHS)\n",
    "test_losses = np.zeros(EPOCHS)\n",
    "for epoch in range(EPOCHS):\n",
    "    online_beta_hat, train_loss = gradient_descent(lr=lr, params=online_beta_hat, data=X_train, y_true=y_train)\n",
    "    ## inference\n",
    "    test_pred = X_test @ online_beta_hat\n",
    "    test_loss = mean_squared_error(y_true=y_test, y_pred=test_pred)\n",
    "    distance = l2norm(beta-online_beta_hat)\n",
    "    \n",
    "    print(f\"Epoch [{epoch+1}]\\tLearning Rate: {lr}\\tTrain loss: {train_loss:.5f}\\tTest loss: {test_loss:.5f}\\tParameter distance: {distance:.5f}\")\n",
    "    train_losses[epoch] = train_loss\n",
    "    test_losses[epoch] = test_loss\n",
    "    param_distance[epoch] = distance"
   ]
  },
  {
   "cell_type": "code",
   "execution_count": 15,
   "id": "b73823e9",
   "metadata": {},
   "outputs": [
    {
     "name": "stdout",
     "output_type": "stream",
     "text": [
      "True parameter:\n",
      "[[ 0.97561731]\n",
      " [-0.52256163]\n",
      " [-0.97208453]\n",
      " [ 0.63756872]\n",
      " [-0.67875967]\n",
      " [ 0.95924509]\n",
      " [ 0.16444417]\n",
      " [ 0.0542513 ]\n",
      " [-0.15121154]\n",
      " [ 0.23673119]\n",
      " [-0.63144079]]\n",
      "Offline est.:\n",
      "[[ 0.97383886]\n",
      " [-0.51844871]\n",
      " [-0.96656454]\n",
      " [ 0.64424557]\n",
      " [-0.67741577]\n",
      " [ 0.95511744]\n",
      " [ 0.16034955]\n",
      " [ 0.05549382]\n",
      " [-0.14549371]\n",
      " [ 0.23632028]\n",
      " [-0.63557575]]\n",
      "Online esti.:\n",
      "[[ 0.97090655]\n",
      " [-0.50661227]\n",
      " [-0.97125045]\n",
      " [ 0.64766818]\n",
      " [-0.67504771]\n",
      " [ 0.95632664]\n",
      " [ 0.16580566]\n",
      " [ 0.05711791]\n",
      " [-0.1464155 ]\n",
      " [ 0.2414098 ]\n",
      " [-0.63494863]]\n"
     ]
    }
   ],
   "source": [
    "print(f\"True parameter:\\n{beta.reshape(-1, 1)}\")\n",
    "print(f\"Offline est.:\\n{offline_beta_hat.reshape(-1, 1)}\")\n",
    "print(f\"Online esti.:\\n{online_beta_hat.reshape(-1, 1)}\")"
   ]
  },
  {
   "cell_type": "code",
   "execution_count": 16,
   "id": "eac0d498",
   "metadata": {},
   "outputs": [
    {
     "data": {
      "image/png": "[encoded data removed]",
      "text/plain": [
       "<Figure size 1400x400 with 3 Axes>"
      ]
     },
     "metadata": {},
     "output_type": "display_data"
    }
   ],
   "source": [
    "plt.figure(figsize=(14, 4))\n",
    "\n",
    "plt.subplot(131)\n",
    "plt.plot(train_losses)\n",
    "plt.grid(True)\n",
    "plt.title(\"Training error\")\n",
    "plt.xlabel(\"Epochs\")\n",
    "plt.ylabel(\"Loss\")\n",
    "\n",
    "plt.subplot(132)\n",
    "plt.plot(test_losses)\n",
    "plt.grid(True)\n",
    "plt.title(\"Test error\")\n",
    "plt.xlabel(\"Epochs\")\n",
    "plt.ylabel(\"Loss\")\n",
    "\n",
    "plt.subplot(133)\n",
    "plt.plot(param_distance)\n",
    "plt.grid(True)\n",
    "plt.title(\"Parameter distances\")\n",
    "plt.xlabel(\"Epochs\")\n",
    "plt.ylabel(\"Difference\")\n",
    "\n",
    "plt.suptitle(\"Loss function for online regression\")\n",
    "plt.tight_layout()\n",
    "plt.show()"
   ]
  },
  {
   "cell_type": "markdown",
   "id": "8f303c09",
   "metadata": {},
   "source": [
    "### Batch learning - Stochastic Gradient Descent"
   ]
  },
  {
   "cell_type": "markdown",
   "id": "69e38a90",
   "metadata": {},
   "source": [
    "* The below code implements the stochastic gradient descent, introducing the mini-batch approach."
   ]
  },
  {
   "cell_type": "code",
   "execution_count": 17,
   "id": "c2673895",
   "metadata": {},
   "outputs": [],
   "source": [
    "def sgd(batch_size:int, lr:float, params:np.ndarray, data:np.ndarray, y_true:np.ndarray):\n",
    "    ## Stochastic Graident descent for squared error\n",
    "    N, dim = data.shape\n",
    "    num_batches = int(np.ceil(N / batch_size))\n",
    "    candidates = np.arange(N)\n",
    "    loss = 0\n",
    "    \n",
    "    for _ in tqdm(range(num_batches)):\n",
    "        try:\n",
    "            indices = np.random.choice(candidates, size=batch_size, replace=False)\n",
    "        except:\n",
    "            ## remaining data\n",
    "            indices = candidates\n",
    "        X_batch, y_batch = data[indices], y_true[indices]\n",
    "        batch_loss = 0\n",
    "        bias_grads = 0\n",
    "        weight_grads = np.zeros(params.shape)\n",
    "        for i in range(len(indices)):\n",
    "            row = X_batch[i, :]\n",
    "            y_label = y_batch[i]\n",
    "            y_pred = row @ params\n",
    "            batch_loss += mean_squared_error(y_true=y_label, y_pred=y_pred)\n",
    "\n",
    "            ## gradient update for the bias\n",
    "            bias_grads += (2 * lr * (y_pred - y_label))\n",
    "\n",
    "            ## gradient update for each weight\n",
    "            for j in range(1, dim):\n",
    "                weight_grads[j] += (2 * lr * (y_pred - y_label) * row[j])\n",
    "        \n",
    "        loss += batch_loss\n",
    "        params[0] -= (bias_grads / batch_size)\n",
    "        params[1:] -= (weight_grads[1:] / batch_size)\n",
    "        \n",
    "        ## remove the indices already used\n",
    "        candidates = np.setdiff1d(candidates, indices)\n",
    "    \n",
    "    return params, (loss / (num_batches*batch_size))"
   ]
  },
  {
   "cell_type": "markdown",
   "id": "e5dec005",
   "metadata": {},
   "source": [
    "### Batch size = 1\n",
    "\n",
    "* In case of `batch_size=1`, the result must be equivalent(or at least similar) to that from the gradient descent."
   ]
  },
  {
   "cell_type": "code",
   "execution_count": 18,
   "id": "2c47e183",
   "metadata": {},
   "outputs": [
    {
     "name": "stdout",
     "output_type": "stream",
     "text": [
      "Batch size: 1\n"
     ]
    },
    {
     "data": {
      "application/vnd.jupyter.widget-view+json": {
       "model_id": "c1aa87bad74045c4b55d69033223c063",
       "version_major": 2,
       "version_minor": 0
      },
      "text/plain": [
       "  0%|          | 0/100000 [00:00<?, ?it/s]"
      ]
     },
     "metadata": {},
     "output_type": "display_data"
    },
    {
     "name": "stdout",
     "output_type": "stream",
     "text": [
      "Epoch [1]\tLearning Rate: 5e-05\tTrain loss: 1.22189\tTest loss: 1.00807\tParameter distance: 0.07232\n"
     ]
    },
    {
     "data": {
      "application/vnd.jupyter.widget-view+json": {
       "model_id": "31a0de9bd0ed4d4b844ed17b3c4153bd",
       "version_major": 2,
       "version_minor": 0
      },
      "text/plain": [
       "  0%|          | 0/100000 [00:00<?, ?it/s]"
      ]
     },
     "metadata": {},
     "output_type": "display_data"
    },
    {
     "name": "stdout",
     "output_type": "stream",
     "text": [
      "Epoch [2]\tLearning Rate: 5e-05\tTrain loss: 1.00101\tTest loss: 1.00577\tParameter distance: 0.01725\n"
     ]
    },
    {
     "data": {
      "application/vnd.jupyter.widget-view+json": {
       "model_id": "a93a6f73a0e34fbe8667e2560fc5289e",
       "version_major": 2,
       "version_minor": 0
      },
      "text/plain": [
       "  0%|          | 0/100000 [00:00<?, ?it/s]"
      ]
     },
     "metadata": {},
     "output_type": "display_data"
    },
    {
     "name": "stdout",
     "output_type": "stream",
     "text": [
      "Epoch [3]\tLearning Rate: 5e-05\tTrain loss: 1.00083\tTest loss: 1.00556\tParameter distance: 0.01819\n"
     ]
    },
    {
     "data": {
      "application/vnd.jupyter.widget-view+json": {
       "model_id": "b765e2388086468a9780518fc0c5feb7",
       "version_major": 2,
       "version_minor": 0
      },
      "text/plain": [
       "  0%|          | 0/100000 [00:00<?, ?it/s]"
      ]
     },
     "metadata": {},
     "output_type": "display_data"
    },
    {
     "name": "stdout",
     "output_type": "stream",
     "text": [
      "Epoch [4]\tLearning Rate: 5e-05\tTrain loss: 1.00086\tTest loss: 1.00570\tParameter distance: 0.01199\n"
     ]
    },
    {
     "data": {
      "application/vnd.jupyter.widget-view+json": {
       "model_id": "1fff154627eb4968b427dac02d16ac0c",
       "version_major": 2,
       "version_minor": 0
      },
      "text/plain": [
       "  0%|          | 0/100000 [00:00<?, ?it/s]"
      ]
     },
     "metadata": {},
     "output_type": "display_data"
    },
    {
     "name": "stdout",
     "output_type": "stream",
     "text": [
      "Epoch [5]\tLearning Rate: 5e-05\tTrain loss: 1.00088\tTest loss: 1.00556\tParameter distance: 0.01771\n"
     ]
    },
    {
     "data": {
      "application/vnd.jupyter.widget-view+json": {
       "model_id": "fca5496e6c2a4cb988ef78dfeaa944ea",
       "version_major": 2,
       "version_minor": 0
      },
      "text/plain": [
       "  0%|          | 0/100000 [00:00<?, ?it/s]"
      ]
     },
     "metadata": {},
     "output_type": "display_data"
    },
    {
     "name": "stdout",
     "output_type": "stream",
     "text": [
      "Epoch [6]\tLearning Rate: 5e-05\tTrain loss: 1.00082\tTest loss: 1.00573\tParameter distance: 0.02453\n"
     ]
    },
    {
     "data": {
      "application/vnd.jupyter.widget-view+json": {
       "model_id": "69c5a76de66846adb640b80f313ba451",
       "version_major": 2,
       "version_minor": 0
      },
      "text/plain": [
       "  0%|          | 0/100000 [00:00<?, ?it/s]"
      ]
     },
     "metadata": {},
     "output_type": "display_data"
    },
    {
     "name": "stdout",
     "output_type": "stream",
     "text": [
      "Epoch [7]\tLearning Rate: 5e-05\tTrain loss: 1.00077\tTest loss: 1.00577\tParameter distance: 0.01771\n"
     ]
    },
    {
     "data": {
      "application/vnd.jupyter.widget-view+json": {
       "model_id": "bb40442871aa410893232929863989a0",
       "version_major": 2,
       "version_minor": 0
      },
      "text/plain": [
       "  0%|          | 0/100000 [00:00<?, ?it/s]"
      ]
     },
     "metadata": {},
     "output_type": "display_data"
    },
    {
     "name": "stdout",
     "output_type": "stream",
     "text": [
      "Epoch [8]\tLearning Rate: 5e-05\tTrain loss: 1.00089\tTest loss: 1.00559\tParameter distance: 0.01854\n"
     ]
    },
    {
     "data": {
      "application/vnd.jupyter.widget-view+json": {
       "model_id": "b2439434927242c089a0f00db7f9d7f0",
       "version_major": 2,
       "version_minor": 0
      },
      "text/plain": [
       "  0%|          | 0/100000 [00:00<?, ?it/s]"
      ]
     },
     "metadata": {},
     "output_type": "display_data"
    },
    {
     "name": "stdout",
     "output_type": "stream",
     "text": [
      "Epoch [9]\tLearning Rate: 5e-05\tTrain loss: 1.00085\tTest loss: 1.00570\tParameter distance: 0.02154\n"
     ]
    },
    {
     "data": {
      "application/vnd.jupyter.widget-view+json": {
       "model_id": "6b3b3820340a44fe9305515a7ac59c39",
       "version_major": 2,
       "version_minor": 0
      },
      "text/plain": [
       "  0%|          | 0/100000 [00:00<?, ?it/s]"
      ]
     },
     "metadata": {},
     "output_type": "display_data"
    },
    {
     "name": "stdout",
     "output_type": "stream",
     "text": [
      "Epoch [10]\tLearning Rate: 5e-05\tTrain loss: 1.00085\tTest loss: 1.00579\tParameter distance: 0.02472\n"
     ]
    }
   ],
   "source": [
    "EPOCHS = 10\n",
    "online_beta_hat = np.zeros(d+1)\n",
    "lr = 5e-5\n",
    "batch_size = 1\n",
    "print(f\"Batch size: {batch_size}\")\n",
    "\n",
    "param_distance = np.zeros(EPOCHS)\n",
    "train_losses = np.zeros(EPOCHS)\n",
    "test_losses = np.zeros(EPOCHS)\n",
    "for epoch in range(EPOCHS):\n",
    "    online_beta_hat, train_loss = sgd(batch_size=batch_size, lr=lr, params=online_beta_hat, data=X_train, y_true=y_train)\n",
    "    ## inference\n",
    "    test_pred = X_test @ online_beta_hat\n",
    "    test_loss = mean_squared_error(y_true=y_test, y_pred=test_pred)\n",
    "    distance = l2norm(beta-online_beta_hat)\n",
    "    \n",
    "    print(f\"Epoch [{epoch+1}]\\tLearning Rate: {lr}\\tTrain loss: {train_loss:.5f}\\tTest loss: {test_loss:.5f}\\tParameter distance: {distance:.5f}\")\n",
    "    train_losses[epoch] = train_loss\n",
    "    test_losses[epoch] = test_loss\n",
    "    param_distance[epoch] = distance"
   ]
  },
  {
   "cell_type": "code",
   "execution_count": 19,
   "id": "c64e9f54",
   "metadata": {},
   "outputs": [
    {
     "data": {
      "image/png": "[encoded data removed]",
      "text/plain": [
       "<Figure size 1400x400 with 3 Axes>"
      ]
     },
     "metadata": {},
     "output_type": "display_data"
    }
   ],
   "source": [
    "plt.figure(figsize=(14, 4))\n",
    "\n",
    "plt.subplot(131)\n",
    "plt.plot(train_losses)\n",
    "plt.grid(True)\n",
    "plt.title(\"Training error\")\n",
    "plt.xlabel(\"Epochs\")\n",
    "plt.ylabel(\"Loss\")\n",
    "\n",
    "plt.subplot(132)\n",
    "plt.plot(test_losses)\n",
    "plt.grid(True)\n",
    "plt.title(\"Test error\")\n",
    "plt.xlabel(\"Epochs\")\n",
    "plt.ylabel(\"Loss\")\n",
    "\n",
    "plt.subplot(133)\n",
    "plt.plot(param_distance)\n",
    "plt.grid(True)\n",
    "plt.title(\"Parameter distances\")\n",
    "plt.xlabel(\"Epochs\")\n",
    "plt.ylabel(\"Difference\")\n",
    "\n",
    "plt.suptitle(f\"Loss function when batch size = {batch_size}\")\n",
    "plt.tight_layout()\n",
    "plt.show()"
   ]
  },
  {
   "cell_type": "markdown",
   "id": "cfb80b88",
   "metadata": {},
   "source": [
    "### Batch size = 256"
   ]
  },
  {
   "cell_type": "code",
   "execution_count": 20,
   "id": "a3c543e7",
   "metadata": {},
   "outputs": [
    {
     "name": "stdout",
     "output_type": "stream",
     "text": [
      "Batch size: 256\n"
     ]
    },
    {
     "data": {
      "application/vnd.jupyter.widget-view+json": {
       "model_id": "6042c922d3414f95aa58b98c5e2d4e5c",
       "version_major": 2,
       "version_minor": 0
      },
      "text/plain": [
       "  0%|          | 0/391 [00:00<?, ?it/s]"
      ]
     },
     "metadata": {},
     "output_type": "display_data"
    },
    {
     "name": "stdout",
     "output_type": "stream",
     "text": [
      "Epoch [1]\tLearning Rate: 1e-05\tTrain loss: 3.10614\tTest loss: 3.12470\tParameter distance: 2.10519\n"
     ]
    },
    {
     "data": {
      "application/vnd.jupyter.widget-view+json": {
       "model_id": "6dd46bf1e5a74db2bc4ba6b7aba0562f",
       "version_major": 2,
       "version_minor": 0
      },
      "text/plain": [
       "  0%|          | 0/391 [00:00<?, ?it/s]"
      ]
     },
     "metadata": {},
     "output_type": "display_data"
    },
    {
     "name": "stdout",
     "output_type": "stream",
     "text": [
      "Epoch [2]\tLearning Rate: 1e-05\tTrain loss: 3.08542\tTest loss: 3.10410\tParameter distance: 2.09741\n"
     ]
    },
    {
     "data": {
      "application/vnd.jupyter.widget-view+json": {
       "model_id": "4dc97beb1f224ff6aa97c6f82e405970",
       "version_major": 2,
       "version_minor": 0
      },
      "text/plain": [
       "  0%|          | 0/391 [00:00<?, ?it/s]"
      ]
     },
     "metadata": {},
     "output_type": "display_data"
    },
    {
     "name": "stdout",
     "output_type": "stream",
     "text": [
      "Epoch [3]\tLearning Rate: 1e-05\tTrain loss: 3.06496\tTest loss: 3.08376\tParameter distance: 2.08968\n"
     ]
    },
    {
     "data": {
      "application/vnd.jupyter.widget-view+json": {
       "model_id": "41f34f14ada14311bd29a9f8b6b595e5",
       "version_major": 2,
       "version_minor": 0
      },
      "text/plain": [
       "  0%|          | 0/391 [00:00<?, ?it/s]"
      ]
     },
     "metadata": {},
     "output_type": "display_data"
    },
    {
     "name": "stdout",
     "output_type": "stream",
     "text": [
      "Epoch [4]\tLearning Rate: 1e-05\tTrain loss: 3.04475\tTest loss: 3.06368\tParameter distance: 2.08200\n"
     ]
    },
    {
     "data": {
      "application/vnd.jupyter.widget-view+json": {
       "model_id": "999c8ea28ab3415680d2ebb3728ac11d",
       "version_major": 2,
       "version_minor": 0
      },
      "text/plain": [
       "  0%|          | 0/391 [00:00<?, ?it/s]"
      ]
     },
     "metadata": {},
     "output_type": "display_data"
    },
    {
     "name": "stdout",
     "output_type": "stream",
     "text": [
      "Epoch [5]\tLearning Rate: 1e-05\tTrain loss: 3.02480\tTest loss: 3.04384\tParameter distance: 2.07436\n"
     ]
    },
    {
     "data": {
      "application/vnd.jupyter.widget-view+json": {
       "model_id": "f5280e92e46a4f3f8022f136a34ebcb0",
       "version_major": 2,
       "version_minor": 0
      },
      "text/plain": [
       "  0%|          | 0/391 [00:00<?, ?it/s]"
      ]
     },
     "metadata": {},
     "output_type": "display_data"
    },
    {
     "name": "stdout",
     "output_type": "stream",
     "text": [
      "Epoch [6]\tLearning Rate: 1e-05\tTrain loss: 3.00509\tTest loss: 3.02425\tParameter distance: 2.06677\n"
     ]
    },
    {
     "data": {
      "application/vnd.jupyter.widget-view+json": {
       "model_id": "22274ba016ca4061ae1bc2cb1bc945fe",
       "version_major": 2,
       "version_minor": 0
      },
      "text/plain": [
       "  0%|          | 0/391 [00:00<?, ?it/s]"
      ]
     },
     "metadata": {},
     "output_type": "display_data"
    },
    {
     "name": "stdout",
     "output_type": "stream",
     "text": [
      "Epoch [7]\tLearning Rate: 1e-05\tTrain loss: 2.98563\tTest loss: 3.00490\tParameter distance: 2.05923\n"
     ]
    },
    {
     "data": {
      "application/vnd.jupyter.widget-view+json": {
       "model_id": "aa2702d7545a40e1976c0d2dd9d64d29",
       "version_major": 2,
       "version_minor": 0
      },
      "text/plain": [
       "  0%|          | 0/391 [00:00<?, ?it/s]"
      ]
     },
     "metadata": {},
     "output_type": "display_data"
    },
    {
     "name": "stdout",
     "output_type": "stream",
     "text": [
      "Epoch [8]\tLearning Rate: 1e-05\tTrain loss: 2.96641\tTest loss: 2.98580\tParameter distance: 2.05173\n"
     ]
    },
    {
     "data": {
      "application/vnd.jupyter.widget-view+json": {
       "model_id": "a1957bbaaed44a838d7e8cdb80196c08",
       "version_major": 2,
       "version_minor": 0
      },
      "text/plain": [
       "  0%|          | 0/391 [00:00<?, ?it/s]"
      ]
     },
     "metadata": {},
     "output_type": "display_data"
    },
    {
     "name": "stdout",
     "output_type": "stream",
     "text": [
      "Epoch [9]\tLearning Rate: 1e-05\tTrain loss: 2.94742\tTest loss: 2.96692\tParameter distance: 2.04428\n"
     ]
    },
    {
     "data": {
      "application/vnd.jupyter.widget-view+json": {
       "model_id": "2f8bf44d221c443fb3069f715bf71973",
       "version_major": 2,
       "version_minor": 0
      },
      "text/plain": [
       "  0%|          | 0/391 [00:00<?, ?it/s]"
      ]
     },
     "metadata": {},
     "output_type": "display_data"
    },
    {
     "name": "stdout",
     "output_type": "stream",
     "text": [
      "Epoch [10]\tLearning Rate: 1e-05\tTrain loss: 2.92868\tTest loss: 2.94828\tParameter distance: 2.03687\n"
     ]
    },
    {
     "data": {
      "application/vnd.jupyter.widget-view+json": {
       "model_id": "56069fab338a40d3883b57d2f610fe45",
       "version_major": 2,
       "version_minor": 0
      },
      "text/plain": [
       "  0%|          | 0/391 [00:00<?, ?it/s]"
      ]
     },
     "metadata": {},
     "output_type": "display_data"
    },
    {
     "name": "stdout",
     "output_type": "stream",
     "text": [
      "Epoch [11]\tLearning Rate: 1e-05\tTrain loss: 2.91016\tTest loss: 2.92987\tParameter distance: 2.02951\n"
     ]
    },
    {
     "data": {
      "application/vnd.jupyter.widget-view+json": {
       "model_id": "e865ec27e89949d19611f75e0ff9cfdc",
       "version_major": 2,
       "version_minor": 0
      },
      "text/plain": [
       "  0%|          | 0/391 [00:00<?, ?it/s]"
      ]
     },
     "metadata": {},
     "output_type": "display_data"
    },
    {
     "name": "stdout",
     "output_type": "stream",
     "text": [
      "Epoch [12]\tLearning Rate: 1e-05\tTrain loss: 2.89187\tTest loss: 2.91169\tParameter distance: 2.02219\n"
     ]
    },
    {
     "data": {
      "application/vnd.jupyter.widget-view+json": {
       "model_id": "baafee79742c4cc197c005ec2d2ac4f3",
       "version_major": 2,
       "version_minor": 0
      },
      "text/plain": [
       "  0%|          | 0/391 [00:00<?, ?it/s]"
      ]
     },
     "metadata": {},
     "output_type": "display_data"
    },
    {
     "name": "stdout",
     "output_type": "stream",
     "text": [
      "Epoch [13]\tLearning Rate: 1e-05\tTrain loss: 2.87381\tTest loss: 2.89372\tParameter distance: 2.01491\n"
     ]
    },
    {
     "data": {
      "application/vnd.jupyter.widget-view+json": {
       "model_id": "583fb59e5ccb4844ab450d7f06a63dac",
       "version_major": 2,
       "version_minor": 0
      },
      "text/plain": [
       "  0%|          | 0/391 [00:00<?, ?it/s]"
      ]
     },
     "metadata": {},
     "output_type": "display_data"
    },
    {
     "name": "stdout",
     "output_type": "stream",
     "text": [
      "Epoch [14]\tLearning Rate: 1e-05\tTrain loss: 2.85596\tTest loss: 2.87598\tParameter distance: 2.00768\n"
     ]
    },
    {
     "data": {
      "application/vnd.jupyter.widget-view+json": {
       "model_id": "a3731093315e4b8d8d08ea4a345c71f1",
       "version_major": 2,
       "version_minor": 0
      },
      "text/plain": [
       "  0%|          | 0/391 [00:00<?, ?it/s]"
      ]
     },
     "metadata": {},
     "output_type": "display_data"
    },
    {
     "name": "stdout",
     "output_type": "stream",
     "text": [
      "Epoch [15]\tLearning Rate: 1e-05\tTrain loss: 2.83834\tTest loss: 2.85845\tParameter distance: 2.00049\n"
     ]
    },
    {
     "data": {
      "application/vnd.jupyter.widget-view+json": {
       "model_id": "c3f7409707884260a31d5e4b4843924f",
       "version_major": 2,
       "version_minor": 0
      },
      "text/plain": [
       "  0%|          | 0/391 [00:00<?, ?it/s]"
      ]
     },
     "metadata": {},
     "output_type": "display_data"
    },
    {
     "name": "stdout",
     "output_type": "stream",
     "text": [
      "Epoch [16]\tLearning Rate: 1e-05\tTrain loss: 2.82093\tTest loss: 2.84114\tParameter distance: 1.99334\n"
     ]
    },
    {
     "data": {
      "application/vnd.jupyter.widget-view+json": {
       "model_id": "09eb88a50542497ca87ff42e48e897a6",
       "version_major": 2,
       "version_minor": 0
      },
      "text/plain": [
       "  0%|          | 0/391 [00:00<?, ?it/s]"
      ]
     },
     "metadata": {},
     "output_type": "display_data"
    },
    {
     "name": "stdout",
     "output_type": "stream",
     "text": [
      "Epoch [17]\tLearning Rate: 1e-05\tTrain loss: 2.80374\tTest loss: 2.82404\tParameter distance: 1.98624\n"
     ]
    },
    {
     "data": {
      "application/vnd.jupyter.widget-view+json": {
       "model_id": "28c9d4bcdb644693964fe240928d6fc2",
       "version_major": 2,
       "version_minor": 0
      },
      "text/plain": [
       "  0%|          | 0/391 [00:00<?, ?it/s]"
      ]
     },
     "metadata": {},
     "output_type": "display_data"
    },
    {
     "name": "stdout",
     "output_type": "stream",
     "text": [
      "Epoch [18]\tLearning Rate: 1e-05\tTrain loss: 2.78675\tTest loss: 2.80714\tParameter distance: 1.97918\n"
     ]
    },
    {
     "data": {
      "application/vnd.jupyter.widget-view+json": {
       "model_id": "b47d064d9d09490abfb1fb51e0777499",
       "version_major": 2,
       "version_minor": 0
      },
      "text/plain": [
       "  0%|          | 0/391 [00:00<?, ?it/s]"
      ]
     },
     "metadata": {},
     "output_type": "display_data"
    },
    {
     "name": "stdout",
     "output_type": "stream",
     "text": [
      "Epoch [19]\tLearning Rate: 1e-05\tTrain loss: 2.76997\tTest loss: 2.79045\tParameter distance: 1.97215\n"
     ]
    },
    {
     "data": {
      "application/vnd.jupyter.widget-view+json": {
       "model_id": "3ecbe96d8d724e2bb78cf1a008f27dca",
       "version_major": 2,
       "version_minor": 0
      },
      "text/plain": [
       "  0%|          | 0/391 [00:00<?, ?it/s]"
      ]
     },
     "metadata": {},
     "output_type": "display_data"
    },
    {
     "name": "stdout",
     "output_type": "stream",
     "text": [
      "Epoch [20]\tLearning Rate: 1e-05\tTrain loss: 2.75339\tTest loss: 2.77396\tParameter distance: 1.96517\n"
     ]
    },
    {
     "data": {
      "application/vnd.jupyter.widget-view+json": {
       "model_id": "76f669ba0ca64cef94021f9340cfca32",
       "version_major": 2,
       "version_minor": 0
      },
      "text/plain": [
       "  0%|          | 0/391 [00:00<?, ?it/s]"
      ]
     },
     "metadata": {},
     "output_type": "display_data"
    },
    {
     "name": "stdout",
     "output_type": "stream",
     "text": [
      "Epoch [21]\tLearning Rate: 1e-05\tTrain loss: 2.73702\tTest loss: 2.75767\tParameter distance: 1.95823\n"
     ]
    },
    {
     "data": {
      "application/vnd.jupyter.widget-view+json": {
       "model_id": "3789bb1af4894db09543c0f41bce730f",
       "version_major": 2,
       "version_minor": 0
      },
      "text/plain": [
       "  0%|          | 0/391 [00:00<?, ?it/s]"
      ]
     },
     "metadata": {},
     "output_type": "display_data"
    },
    {
     "name": "stdout",
     "output_type": "stream",
     "text": [
      "Epoch [22]\tLearning Rate: 1e-05\tTrain loss: 2.72084\tTest loss: 2.74158\tParameter distance: 1.95133\n"
     ]
    },
    {
     "data": {
      "application/vnd.jupyter.widget-view+json": {
       "model_id": "555d65ed985c46f6a0bd2315038827e0",
       "version_major": 2,
       "version_minor": 0
      },
      "text/plain": [
       "  0%|          | 0/391 [00:00<?, ?it/s]"
      ]
     },
     "metadata": {},
     "output_type": "display_data"
    },
    {
     "name": "stdout",
     "output_type": "stream",
     "text": [
      "Epoch [23]\tLearning Rate: 1e-05\tTrain loss: 2.70486\tTest loss: 2.72568\tParameter distance: 1.94447\n"
     ]
    },
    {
     "data": {
      "application/vnd.jupyter.widget-view+json": {
       "model_id": "38d96b3ab8554e45b9fdb017a4a2e22d",
       "version_major": 2,
       "version_minor": 0
      },
      "text/plain": [
       "  0%|          | 0/391 [00:00<?, ?it/s]"
      ]
     },
     "metadata": {},
     "output_type": "display_data"
    },
    {
     "name": "stdout",
     "output_type": "stream",
     "text": [
      "Epoch [24]\tLearning Rate: 1e-05\tTrain loss: 2.68906\tTest loss: 2.70996\tParameter distance: 1.93765\n"
     ]
    },
    {
     "data": {
      "application/vnd.jupyter.widget-view+json": {
       "model_id": "d4e1f7e1dddd4d60a000bd99ff5ad982",
       "version_major": 2,
       "version_minor": 0
      },
      "text/plain": [
       "  0%|          | 0/391 [00:00<?, ?it/s]"
      ]
     },
     "metadata": {},
     "output_type": "display_data"
    },
    {
     "name": "stdout",
     "output_type": "stream",
     "text": [
      "Epoch [25]\tLearning Rate: 1e-05\tTrain loss: 2.67346\tTest loss: 2.69444\tParameter distance: 1.93087\n"
     ]
    }
   ],
   "source": [
    "EPOCHS = 25\n",
    "online_beta_hat = np.zeros(d+1)\n",
    "lr = 1e-5\n",
    "batch_size = 256\n",
    "print(f\"Batch size: {batch_size}\")\n",
    "\n",
    "param_distance = np.zeros(EPOCHS)\n",
    "train_losses = np.zeros(EPOCHS)\n",
    "test_losses = np.zeros(EPOCHS)\n",
    "for epoch in range(EPOCHS):\n",
    "    online_beta_hat, train_loss = sgd(batch_size=batch_size, lr=lr, params=online_beta_hat, data=X_train, y_true=y_train)\n",
    "    ## inference\n",
    "    test_pred = X_test @ online_beta_hat\n",
    "    test_loss = mean_squared_error(y_true=y_test, y_pred=test_pred)\n",
    "    distance = l2norm(beta-online_beta_hat)\n",
    "    \n",
    "    print(f\"Epoch [{epoch+1}]\\tLearning Rate: {lr}\\tTrain loss: {train_loss:.5f}\\tTest loss: {test_loss:.5f}\\tParameter distance: {distance:.5f}\")\n",
    "    train_losses[epoch] = train_loss\n",
    "    test_losses[epoch] = test_loss\n",
    "    param_distance[epoch] = distance"
   ]
  },
  {
   "cell_type": "code",
   "execution_count": 21,
   "id": "c901b0f9",
   "metadata": {},
   "outputs": [
    {
     "data": {
      "image/png": "[encoded data removed]",
      "text/plain": [
       "<Figure size 1400x400 with 3 Axes>"
      ]
     },
     "metadata": {},
     "output_type": "display_data"
    }
   ],
   "source": [
    "plt.figure(figsize=(14, 4))\n",
    "\n",
    "plt.subplot(131)\n",
    "plt.plot(train_losses)\n",
    "plt.grid(True)\n",
    "plt.title(\"Training error\")\n",
    "plt.xlabel(\"Epochs\")\n",
    "plt.ylabel(\"Loss\")\n",
    "\n",
    "plt.subplot(132)\n",
    "plt.plot(test_losses)\n",
    "plt.grid(True)\n",
    "plt.title(\"Test error\")\n",
    "plt.xlabel(\"Epochs\")\n",
    "plt.ylabel(\"Loss\")\n",
    "\n",
    "plt.subplot(133)\n",
    "plt.plot(param_distance)\n",
    "plt.grid(True)\n",
    "plt.title(\"Parameter distances\")\n",
    "plt.xlabel(\"Epochs\")\n",
    "plt.ylabel(\"Difference\")\n",
    "\n",
    "plt.suptitle(f\"Loss function when batch size = {batch_size}, learning rate = {lr}\")\n",
    "plt.tight_layout()\n",
    "plt.show()"
   ]
  },
  {
   "cell_type": "markdown",
   "id": "a89d4904",
   "metadata": {},
   "source": [
    "* As `batch_size` becomes larger, we need to increase the learning rate as well."
   ]
  },
  {
   "cell_type": "code",
   "execution_count": 22,
   "id": "86f4c91a",
   "metadata": {},
   "outputs": [
    {
     "name": "stdout",
     "output_type": "stream",
     "text": [
      "Batch size: 256\n"
     ]
    },
    {
     "data": {
      "application/vnd.jupyter.widget-view+json": {
       "model_id": "71d353da3892468a8e6ad4f10ddcfa5f",
       "version_major": 2,
       "version_minor": 0
      },
      "text/plain": [
       "  0%|          | 0/391 [00:00<?, ?it/s]"
      ]
     },
     "metadata": {},
     "output_type": "display_data"
    },
    {
     "name": "stdout",
     "output_type": "stream",
     "text": [
      "Epoch [1]\tLearning Rate: 0.0003\tTrain loss: 2.83822\tTest loss: 2.61940\tParameter distance: 1.89749\n"
     ]
    },
    {
     "data": {
      "application/vnd.jupyter.widget-view+json": {
       "model_id": "f75fa83e92544d70b9ff683f10a95a8f",
       "version_major": 2,
       "version_minor": 0
      },
      "text/plain": [
       "  0%|          | 0/391 [00:00<?, ?it/s]"
      ]
     },
     "metadata": {},
     "output_type": "display_data"
    },
    {
     "name": "stdout",
     "output_type": "stream",
     "text": [
      "Epoch [2]\tLearning Rate: 0.0003\tTrain loss: 2.39693\tTest loss: 2.25127\tParameter distance: 1.71563\n"
     ]
    },
    {
     "data": {
      "application/vnd.jupyter.widget-view+json": {
       "model_id": "825b65b7313940b8a47af6df05f3a0c2",
       "version_major": 2,
       "version_minor": 0
      },
      "text/plain": [
       "  0%|          | 0/391 [00:00<?, ?it/s]"
      ]
     },
     "metadata": {},
     "output_type": "display_data"
    },
    {
     "name": "stdout",
     "output_type": "stream",
     "text": [
      "Epoch [3]\tLearning Rate: 0.0003\tTrain loss: 2.08519\tTest loss: 1.98749\tParameter distance: 1.55973\n"
     ]
    },
    {
     "data": {
      "application/vnd.jupyter.widget-view+json": {
       "model_id": "af57c42424c54da6a902f3f9e0830b92",
       "version_major": 2,
       "version_minor": 0
      },
      "text/plain": [
       "  0%|          | 0/391 [00:00<?, ?it/s]"
      ]
     },
     "metadata": {},
     "output_type": "display_data"
    },
    {
     "name": "stdout",
     "output_type": "stream",
     "text": [
      "Epoch [4]\tLearning Rate: 0.0003\tTrain loss: 1.85962\tTest loss: 1.79379\tParameter distance: 1.42412\n"
     ]
    },
    {
     "data": {
      "application/vnd.jupyter.widget-view+json": {
       "model_id": "676483e55f564084a9d235773fadcd38",
       "version_major": 2,
       "version_minor": 0
      },
      "text/plain": [
       "  0%|          | 0/391 [00:00<?, ?it/s]"
      ]
     },
     "metadata": {},
     "output_type": "display_data"
    },
    {
     "name": "stdout",
     "output_type": "stream",
     "text": [
      "Epoch [5]\tLearning Rate: 0.0003\tTrain loss: 1.69234\tTest loss: 1.64795\tParameter distance: 1.30462\n"
     ]
    },
    {
     "data": {
      "application/vnd.jupyter.widget-view+json": {
       "model_id": "caaecedf362f4a06985e40989c718591",
       "version_major": 2,
       "version_minor": 0
      },
      "text/plain": [
       "  0%|          | 0/391 [00:00<?, ?it/s]"
      ]
     },
     "metadata": {},
     "output_type": "display_data"
    },
    {
     "name": "stdout",
     "output_type": "stream",
     "text": [
      "Epoch [6]\tLearning Rate: 0.0003\tTrain loss: 1.56534\tTest loss: 1.53561\tParameter distance: 1.19819\n"
     ]
    },
    {
     "data": {
      "application/vnd.jupyter.widget-view+json": {
       "model_id": "25f19b2d42ce4e1a9035f30264423795",
       "version_major": 2,
       "version_minor": 0
      },
      "text/plain": [
       "  0%|          | 0/391 [00:00<?, ?it/s]"
      ]
     },
     "metadata": {},
     "output_type": "display_data"
    },
    {
     "name": "stdout",
     "output_type": "stream",
     "text": [
      "Epoch [7]\tLearning Rate: 0.0003\tTrain loss: 1.46677\tTest loss: 1.44728\tParameter distance: 1.10258\n"
     ]
    },
    {
     "data": {
      "application/vnd.jupyter.widget-view+json": {
       "model_id": "45030fe42a2d4b09a2e6464fdd0e5f8d",
       "version_major": 2,
       "version_minor": 0
      },
      "text/plain": [
       "  0%|          | 0/391 [00:00<?, ?it/s]"
      ]
     },
     "metadata": {},
     "output_type": "display_data"
    },
    {
     "name": "stdout",
     "output_type": "stream",
     "text": [
      "Epoch [8]\tLearning Rate: 0.0003\tTrain loss: 1.38877\tTest loss: 1.37651\tParameter distance: 1.01607\n"
     ]
    },
    {
     "data": {
      "application/vnd.jupyter.widget-view+json": {
       "model_id": "35e4712992084183b1095b14de08aa5c",
       "version_major": 2,
       "version_minor": 0
      },
      "text/plain": [
       "  0%|          | 0/391 [00:00<?, ?it/s]"
      ]
     },
     "metadata": {},
     "output_type": "display_data"
    },
    {
     "name": "stdout",
     "output_type": "stream",
     "text": [
      "Epoch [9]\tLearning Rate: 0.0003\tTrain loss: 1.32597\tTest loss: 1.31892\tParameter distance: 0.93736\n"
     ]
    },
    {
     "data": {
      "application/vnd.jupyter.widget-view+json": {
       "model_id": "7815cd2ad3cf40df9b7b4a7ee598c610",
       "version_major": 2,
       "version_minor": 0
      },
      "text/plain": [
       "  0%|          | 0/391 [00:00<?, ?it/s]"
      ]
     },
     "metadata": {},
     "output_type": "display_data"
    },
    {
     "name": "stdout",
     "output_type": "stream",
     "text": [
      "Epoch [10]\tLearning Rate: 0.0003\tTrain loss: 1.27471\tTest loss: 1.27147\tParameter distance: 0.86544\n"
     ]
    },
    {
     "data": {
      "application/vnd.jupyter.widget-view+json": {
       "model_id": "4d857d542a6d454bbf9464c4840220a9",
       "version_major": 2,
       "version_minor": 0
      },
      "text/plain": [
       "  0%|          | 0/391 [00:00<?, ?it/s]"
      ]
     },
     "metadata": {},
     "output_type": "display_data"
    },
    {
     "name": "stdout",
     "output_type": "stream",
     "text": [
      "Epoch [11]\tLearning Rate: 0.0003\tTrain loss: 1.23238\tTest loss: 1.23199\tParameter distance: 0.79951\n"
     ]
    },
    {
     "data": {
      "application/vnd.jupyter.widget-view+json": {
       "model_id": "a77a8eec52894e19894e4933f6218484",
       "version_major": 2,
       "version_minor": 0
      },
      "text/plain": [
       "  0%|          | 0/391 [00:00<?, ?it/s]"
      ]
     },
     "metadata": {},
     "output_type": "display_data"
    },
    {
     "name": "stdout",
     "output_type": "stream",
     "text": [
      "Epoch [12]\tLearning Rate: 0.0003\tTrain loss: 1.19714\tTest loss: 1.19890\tParameter distance: 0.73895\n"
     ]
    },
    {
     "data": {
      "application/vnd.jupyter.widget-view+json": {
       "model_id": "62e09473fa864374a8a8a4e58fe87630",
       "version_major": 2,
       "version_minor": 0
      },
      "text/plain": [
       "  0%|          | 0/391 [00:00<?, ?it/s]"
      ]
     },
     "metadata": {},
     "output_type": "display_data"
    },
    {
     "name": "stdout",
     "output_type": "stream",
     "text": [
      "Epoch [13]\tLearning Rate: 0.0003\tTrain loss: 1.16761\tTest loss: 1.17100\tParameter distance: 0.68323\n"
     ]
    },
    {
     "data": {
      "application/vnd.jupyter.widget-view+json": {
       "model_id": "bca1580b9b7e4201a625939b1de0d45b",
       "version_major": 2,
       "version_minor": 0
      },
      "text/plain": [
       "  0%|          | 0/391 [00:00<?, ?it/s]"
      ]
     },
     "metadata": {},
     "output_type": "display_data"
    },
    {
     "name": "stdout",
     "output_type": "stream",
     "text": [
      "Epoch [14]\tLearning Rate: 0.0003\tTrain loss: 1.14272\tTest loss: 1.14735\tParameter distance: 0.63187\n"
     ]
    },
    {
     "data": {
      "application/vnd.jupyter.widget-view+json": {
       "model_id": "7ee5484138ad4ffe94d075314ba74120",
       "version_major": 2,
       "version_minor": 0
      },
      "text/plain": [
       "  0%|          | 0/391 [00:00<?, ?it/s]"
      ]
     },
     "metadata": {},
     "output_type": "display_data"
    },
    {
     "name": "stdout",
     "output_type": "stream",
     "text": [
      "Epoch [15]\tLearning Rate: 0.0003\tTrain loss: 1.12165\tTest loss: 1.12724\tParameter distance: 0.58448\n"
     ]
    },
    {
     "data": {
      "application/vnd.jupyter.widget-view+json": {
       "model_id": "8e165fec2ac64977afd84dbaee0b0c5b",
       "version_major": 2,
       "version_minor": 0
      },
      "text/plain": [
       "  0%|          | 0/391 [00:00<?, ?it/s]"
      ]
     },
     "metadata": {},
     "output_type": "display_data"
    },
    {
     "name": "stdout",
     "output_type": "stream",
     "text": [
      "Epoch [16]\tLearning Rate: 0.0003\tTrain loss: 1.10378\tTest loss: 1.11010\tParameter distance: 0.54075\n"
     ]
    },
    {
     "data": {
      "application/vnd.jupyter.widget-view+json": {
       "model_id": "e7a1e240db7c47c6a222d526b88804a4",
       "version_major": 2,
       "version_minor": 0
      },
      "text/plain": [
       "  0%|          | 0/391 [00:00<?, ?it/s]"
      ]
     },
     "metadata": {},
     "output_type": "display_data"
    },
    {
     "name": "stdout",
     "output_type": "stream",
     "text": [
      "Epoch [17]\tLearning Rate: 0.0003\tTrain loss: 1.08858\tTest loss: 1.09546\tParameter distance: 0.50036\n"
     ]
    },
    {
     "data": {
      "application/vnd.jupyter.widget-view+json": {
       "model_id": "ca91a29202d34c93ae48707b29276487",
       "version_major": 2,
       "version_minor": 0
      },
      "text/plain": [
       "  0%|          | 0/391 [00:00<?, ?it/s]"
      ]
     },
     "metadata": {},
     "output_type": "display_data"
    },
    {
     "name": "stdout",
     "output_type": "stream",
     "text": [
      "Epoch [18]\tLearning Rate: 0.0003\tTrain loss: 1.07564\tTest loss: 1.08293\tParameter distance: 0.46304\n"
     ]
    },
    {
     "data": {
      "application/vnd.jupyter.widget-view+json": {
       "model_id": "1c67ed476aa4488ca1afb9648cff3536",
       "version_major": 2,
       "version_minor": 0
      },
      "text/plain": [
       "  0%|          | 0/391 [00:00<?, ?it/s]"
      ]
     },
     "metadata": {},
     "output_type": "display_data"
    },
    {
     "name": "stdout",
     "output_type": "stream",
     "text": [
      "Epoch [19]\tLearning Rate: 0.0003\tTrain loss: 1.06460\tTest loss: 1.07221\tParameter distance: 0.42856\n"
     ]
    },
    {
     "data": {
      "application/vnd.jupyter.widget-view+json": {
       "model_id": "cc9032c2c7534334894a7fde4c34b91e",
       "version_major": 2,
       "version_minor": 0
      },
      "text/plain": [
       "  0%|          | 0/391 [00:00<?, ?it/s]"
      ]
     },
     "metadata": {},
     "output_type": "display_data"
    },
    {
     "name": "stdout",
     "output_type": "stream",
     "text": [
      "Epoch [20]\tLearning Rate: 0.0003\tTrain loss: 1.05517\tTest loss: 1.06301\tParameter distance: 0.39668\n"
     ]
    },
    {
     "data": {
      "application/vnd.jupyter.widget-view+json": {
       "model_id": "b9d2c102ed1b4c57be35950cb17d8a47",
       "version_major": 2,
       "version_minor": 0
      },
      "text/plain": [
       "  0%|          | 0/391 [00:00<?, ?it/s]"
      ]
     },
     "metadata": {},
     "output_type": "display_data"
    },
    {
     "name": "stdout",
     "output_type": "stream",
     "text": [
      "Epoch [21]\tLearning Rate: 0.0003\tTrain loss: 1.04712\tTest loss: 1.05511\tParameter distance: 0.36719\n"
     ]
    },
    {
     "data": {
      "application/vnd.jupyter.widget-view+json": {
       "model_id": "af7e363ea0804298b4788e2e24712306",
       "version_major": 2,
       "version_minor": 0
      },
      "text/plain": [
       "  0%|          | 0/391 [00:00<?, ?it/s]"
      ]
     },
     "metadata": {},
     "output_type": "display_data"
    },
    {
     "name": "stdout",
     "output_type": "stream",
     "text": [
      "Epoch [22]\tLearning Rate: 0.0003\tTrain loss: 1.04024\tTest loss: 1.04833\tParameter distance: 0.33993\n"
     ]
    },
    {
     "data": {
      "application/vnd.jupyter.widget-view+json": {
       "model_id": "72d5ccd3918b4d6ba46e5bf9bc96adc7",
       "version_major": 2,
       "version_minor": 0
      },
      "text/plain": [
       "  0%|          | 0/391 [00:00<?, ?it/s]"
      ]
     },
     "metadata": {},
     "output_type": "display_data"
    },
    {
     "name": "stdout",
     "output_type": "stream",
     "text": [
      "Epoch [23]\tLearning Rate: 0.0003\tTrain loss: 1.03436\tTest loss: 1.04250\tParameter distance: 0.31473\n"
     ]
    },
    {
     "data": {
      "application/vnd.jupyter.widget-view+json": {
       "model_id": "43aa6159e9a14a62a8756d332314930e",
       "version_major": 2,
       "version_minor": 0
      },
      "text/plain": [
       "  0%|          | 0/391 [00:00<?, ?it/s]"
      ]
     },
     "metadata": {},
     "output_type": "display_data"
    },
    {
     "name": "stdout",
     "output_type": "stream",
     "text": [
      "Epoch [24]\tLearning Rate: 0.0003\tTrain loss: 1.02934\tTest loss: 1.03750\tParameter distance: 0.29143\n"
     ]
    },
    {
     "data": {
      "application/vnd.jupyter.widget-view+json": {
       "model_id": "316bf4ccf8164701b8f780fb89e071d4",
       "version_major": 2,
       "version_minor": 0
      },
      "text/plain": [
       "  0%|          | 0/391 [00:00<?, ?it/s]"
      ]
     },
     "metadata": {},
     "output_type": "display_data"
    },
    {
     "name": "stdout",
     "output_type": "stream",
     "text": [
      "Epoch [25]\tLearning Rate: 0.0003\tTrain loss: 1.02504\tTest loss: 1.03319\tParameter distance: 0.26989\n"
     ]
    }
   ],
   "source": [
    "EPOCHS = 25\n",
    "online_beta_hat = np.zeros(d+1)\n",
    "lr = 3e-4\n",
    "batch_size = 256\n",
    "print(f\"Batch size: {batch_size}\")\n",
    "\n",
    "param_distance = np.zeros(EPOCHS)\n",
    "train_losses = np.zeros(EPOCHS)\n",
    "test_losses = np.zeros(EPOCHS)\n",
    "for epoch in range(EPOCHS):\n",
    "    online_beta_hat, train_loss = sgd(batch_size=batch_size, lr=lr, params=online_beta_hat, data=X_train, y_true=y_train)\n",
    "    ## inference\n",
    "    test_pred = X_test @ online_beta_hat\n",
    "    test_loss = mean_squared_error(y_true=y_test, y_pred=test_pred)\n",
    "    distance = l2norm(beta-online_beta_hat)\n",
    "    \n",
    "    print(f\"Epoch [{epoch+1}]\\tLearning Rate: {lr}\\tTrain loss: {train_loss:.5f}\\tTest loss: {test_loss:.5f}\\tParameter distance: {distance:.5f}\")\n",
    "    train_losses[epoch] = train_loss\n",
    "    test_losses[epoch] = test_loss\n",
    "    param_distance[epoch] = distance"
   ]
  },
  {
   "cell_type": "code",
   "execution_count": 23,
   "id": "355840ce",
   "metadata": {},
   "outputs": [
    {
     "data": {
      "image/png": "[encoded data removed]",
      "text/plain": [
       "<Figure size 1400x400 with 3 Axes>"
      ]
     },
     "metadata": {},
     "output_type": "display_data"
    }
   ],
   "source": [
    "plt.figure(figsize=(14, 4))\n",
    "\n",
    "plt.subplot(131)\n",
    "plt.plot(train_losses)\n",
    "plt.grid(True)\n",
    "plt.title(\"Training error\")\n",
    "plt.xlabel(\"Epochs\")\n",
    "plt.ylabel(\"Loss\")\n",
    "\n",
    "plt.subplot(132)\n",
    "plt.plot(test_losses)\n",
    "plt.grid(True)\n",
    "plt.title(\"Test error\")\n",
    "plt.xlabel(\"Epochs\")\n",
    "plt.ylabel(\"Loss\")\n",
    "\n",
    "plt.subplot(133)\n",
    "plt.plot(param_distance)\n",
    "plt.grid(True)\n",
    "plt.title(\"Parameter distances\")\n",
    "plt.xlabel(\"Epochs\")\n",
    "plt.ylabel(\"Difference\")\n",
    "\n",
    "plt.suptitle(f\"Loss function when batch size = {batch_size}, learning rate = {lr}\")\n",
    "plt.tight_layout()\n",
    "plt.show()"
   ]
  },
  {
   "cell_type": "code",
   "execution_count": 24,
   "id": "0e72e5eb",
   "metadata": {},
   "outputs": [
    {
     "name": "stdout",
     "output_type": "stream",
     "text": [
      "True parameter:\n",
      "[[ 0.97561731]\n",
      " [-0.52256163]\n",
      " [-0.97208453]\n",
      " [ 0.63756872]\n",
      " [-0.67875967]\n",
      " [ 0.95924509]\n",
      " [ 0.16444417]\n",
      " [ 0.0542513 ]\n",
      " [-0.15121154]\n",
      " [ 0.23673119]\n",
      " [-0.63144079]]\n",
      "Offline est.:\n",
      "[[ 0.97383886]\n",
      " [-0.51844871]\n",
      " [-0.96656454]\n",
      " [ 0.64424557]\n",
      " [-0.67741577]\n",
      " [ 0.95511744]\n",
      " [ 0.16034955]\n",
      " [ 0.05549382]\n",
      " [-0.14549371]\n",
      " [ 0.23632028]\n",
      " [-0.63557575]]\n",
      "Online esti.:\n",
      "[[ 0.97166044]\n",
      " [-0.44607049]\n",
      " [-0.82999257]\n",
      " [ 0.55144552]\n",
      " [-0.58053733]\n",
      " [ 0.81820159]\n",
      " [ 0.13743958]\n",
      " [ 0.04645071]\n",
      " [-0.12398384]\n",
      " [ 0.20507778]\n",
      " [-0.54605629]]\n"
     ]
    }
   ],
   "source": [
    "print(f\"True parameter:\\n{beta.reshape(-1, 1)}\")\n",
    "print(f\"Offline est.:\\n{offline_beta_hat.reshape(-1, 1)}\")\n",
    "print(f\"Online esti.:\\n{online_beta_hat.reshape(-1, 1)}\")"
   ]
  },
  {
   "cell_type": "markdown",
   "id": "3d5b1daf",
   "metadata": {},
   "source": [
    "## $X=\\frac{1}{2}(A+B), A=(a_{ij})\\sim U(-2, 2), B\\sim N(\\boldsymbol{1}_d, \\Sigma_d), \\epsilon_i\\sim N(0,2), \\boldsymbol{\\beta}={(\\beta_i)}_{i=1}^{d}\\sim N(0,1)$"
   ]
  },
  {
   "cell_type": "code",
   "execution_count": 25,
   "id": "365729c6",
   "metadata": {},
   "outputs": [
    {
     "name": "stdout",
     "output_type": "stream",
     "text": [
      "Shape of X: (120000, 11)\n",
      "First observation: [ 1.          2.27495181 -0.2522507  -0.06329362  2.67276683 -0.78030946\n",
      " -0.21492262 -0.45454299 -0.61053662 -0.70718013  0.57108308]\n"
     ]
    },
    {
     "data": {
      "image/png": "[encoded data removed]",
      "text/plain": [
       "<Figure size 600x400 with 1 Axes>"
      ]
     },
     "metadata": {},
     "output_type": "display_data"
    }
   ],
   "source": [
    "## Generate X\n",
    "A = feature_sampler(dimension=d, feat_dist=\"uniform\", disjoint=True, size=training_samples+test_samples, random_state=seed, uniform_rng=[-2., 2.])\n",
    "B = feature_sampler(dimension=d, feat_dist=\"gaussian\", disjoint=False, size=training_samples+test_samples, random_state=seed, cov_dist=\"uniform\")\n",
    "X = (A + B) * 0.5\n",
    "C = np.ones(training_samples+test_samples) ## add constant term\n",
    "X = np.c_[C, X]\n",
    "\n",
    "print(f\"Shape of X: {X.shape}\")\n",
    "print(f\"First observation: {X[0, :]}\")\n",
    "norms = [l2norm(X[i, :]) for i in range(training_samples+test_samples)]\n",
    "\n",
    "## distribution of the norm of each row\n",
    "plt.figure(figsize=(6, 4))\n",
    "plt.hist(norms)\n",
    "plt.grid(True)\n",
    "plt.title(\"Distribution of $L_2$ norm of row vectors\")\n",
    "plt.show()"
   ]
  },
  {
   "cell_type": "code",
   "execution_count": 26,
   "id": "0eefbf13",
   "metadata": {},
   "outputs": [
    {
     "name": "stdout",
     "output_type": "stream",
     "text": [
      "beta: [2.98374062 7.47859227 1.0199097  0.79572764 1.14110845 1.04862198\n",
      " 1.55698955 3.18385651 0.56406601 0.79253703 2.96907266]\n"
     ]
    }
   ],
   "source": [
    "## Generate the true parameter\n",
    "beta = param_generator(dimension=d+1, distribution=\"gamma\", disjoint=True, random_state=seed)\n",
    "print(f\"beta: {beta}\")"
   ]
  },
  {
   "cell_type": "code",
   "execution_count": 27,
   "id": "6562daaf",
   "metadata": {},
   "outputs": [
    {
     "name": "stdout",
     "output_type": "stream",
     "text": [
      "The number of epsilons: (120000,), standard deviation: 1.4142135623730951\n",
      "First five epsilons: [ 1.17343422  3.55686269  2.68597613 -1.71566152 -0.8270971 ]\n"
     ]
    }
   ],
   "source": [
    "## Generate the regression noise\n",
    "epsilon, std = subgaussian_noise(distribution=\"gaussian\", size=training_samples+test_samples, random_state=seed, std=np.sqrt(2))\n",
    "print(f\"The number of epsilons: {epsilon.shape}, standard deviation: {std}\")\n",
    "print(f\"First five epsilons: {epsilon[:5]}\")"
   ]
  },
  {
   "cell_type": "markdown",
   "id": "cf170d45",
   "metadata": {},
   "source": [
    "## $Y = X\\boldsymbol{\\beta}+\\boldsymbol{\\epsilon}$"
   ]
  },
  {
   "cell_type": "code",
   "execution_count": 28,
   "id": "053e91ff",
   "metadata": {},
   "outputs": [
    {
     "name": "stdout",
     "output_type": "stream",
     "text": [
      "Shape of regression labels: (120000,)\n",
      "First 10 labels: [22.10354748 25.4384207  -2.38437521 14.0617763   3.73293284 16.11617116\n",
      " 12.31043285 14.54753015  0.40924005 12.4576338 ]\n"
     ]
    },
    {
     "data": {
      "image/png": "[encoded data removed]",
      "text/plain": [
       "<Figure size 1100x400 with 2 Axes>"
      ]
     },
     "metadata": {},
     "output_type": "display_data"
    }
   ],
   "source": [
    "## Construct the regression labels \n",
    "expY = X @ beta\n",
    "Y = expY + epsilon\n",
    "\n",
    "print(f\"Shape of regression labels: {Y.shape}\")\n",
    "print(f\"First 10 labels: {Y[:10]}\")\n",
    "\n",
    "## distribution of labels\n",
    "plt.figure(figsize=(11, 4))\n",
    "\n",
    "plt.subplot(121)\n",
    "plt.hist(expY)\n",
    "plt.grid(True)\n",
    "plt.xlabel(\"$\\mathbb{E}[Y]$\")\n",
    "plt.title(\"Distribution of $\\mathbb{E}[Y]$\")\n",
    "\n",
    "plt.subplot(122)\n",
    "plt.hist(Y)\n",
    "plt.grid(True)\n",
    "plt.xlabel(\"$Y$\")\n",
    "plt.title(\"Distribution of true $Y$\")\n",
    "\n",
    "plt.tight_layout()\n",
    "plt.show()"
   ]
  },
  {
   "cell_type": "code",
   "execution_count": 29,
   "id": "4d1847e2",
   "metadata": {},
   "outputs": [
    {
     "name": "stdout",
     "output_type": "stream",
     "text": [
      "Training sets: (100000, 11), (100000,)\n",
      "Test sets: (20000, 11), (20000,)\n"
     ]
    }
   ],
   "source": [
    "## dataset split\n",
    "X_train, X_test, y_train, y_test = X[:training_samples], X[training_samples:], Y[:training_samples], Y[training_samples:]\n",
    "\n",
    "print(f\"Training sets: {X_train.shape}, {y_train.shape}\")\n",
    "print(f\"Test sets: {X_test.shape}, {y_test.shape}\")"
   ]
  },
  {
   "cell_type": "markdown",
   "id": "33abb3b0",
   "metadata": {},
   "source": [
    "## Offline approach"
   ]
  },
  {
   "cell_type": "markdown",
   "id": "b95f44af",
   "metadata": {},
   "source": [
    "* First, we take one of the most well-known offline learning approach on linear regression, which is:\n",
    "    - For a given features $X$ and the corresponding labels $y$,\n",
    "    $$ \\hat{\\beta} = {\\left(X^\\top X\\right)}^{-1}{X^\\top y}$$"
   ]
  },
  {
   "cell_type": "code",
   "execution_count": 30,
   "id": "6ec8fc36",
   "metadata": {
    "scrolled": true
   },
   "outputs": [
    {
     "name": "stdout",
     "output_type": "stream",
     "text": [
      "Est.\t[2.96850113 7.48418266 1.02322214 0.79892071 1.14439073 1.04320259\n",
      " 1.55186668 3.19251997 0.57233126 0.79942788 2.96576899]\n",
      "True\t[2.98374062 7.47859227 1.0199097  0.79572764 1.14110845 1.04862198\n",
      " 1.55698955 3.18385651 0.56406601 0.79253703 2.96907266]\n"
     ]
    }
   ],
   "source": [
    "# Get closed form solution\n",
    "denominator = np.linalg.inv(X_train.T @ X_train)\n",
    "nominator = X_train.T @ y_train\n",
    "offline_beta_hat = denominator @ nominator\n",
    "print(f\"Est.\\t{offline_beta_hat}\")\n",
    "print(f\"True\\t{beta}\")"
   ]
  },
  {
   "cell_type": "code",
   "execution_count": 31,
   "id": "a1dfb609",
   "metadata": {},
   "outputs": [
    {
     "name": "stdout",
     "output_type": "stream",
     "text": [
      "Test error: 2.011398\n"
     ]
    }
   ],
   "source": [
    "# Compute MSE\n",
    "y_pred = X_test @ offline_beta_hat\n",
    "print(f\"Test error: {mean_squared_error(y_true=y_test, y_pred=y_pred):.6f}\")"
   ]
  },
  {
   "cell_type": "markdown",
   "id": "c08dbb22",
   "metadata": {},
   "source": [
    "## Online approach"
   ]
  },
  {
   "cell_type": "markdown",
   "id": "b51ac4d5",
   "metadata": {},
   "source": [
    "### Gradient Descent"
   ]
  },
  {
   "cell_type": "markdown",
   "id": "7f5a40ee",
   "metadata": {},
   "source": [
    "* Here, I'm going to implement the Gradient Descent algorithm, setting the objective function(or loss function) as the mean squared error, where\n",
    "$$ L_{\\boldsymbol\\beta} = \\frac{1}{N}\\sum_{i=1}^N {\\left(y_i - \\beta_0 - \\sum_{j=1}^d \\beta_i x_{ij}\\right)}^2 $$\n",
    "\n",
    "\n",
    "* Now, the gradient for each parameter for each point is:\n",
    "    - For $\\beta_0$: \n",
    "    $$\\frac{\\partial L_{\\boldsymbol \\beta}^i}{\\partial \\beta_0} = -2\\left(y_i - \\beta_0 - \\sum_{j=1}^d \\beta_i x_{ij}\\right)$$\n",
    "        - for any $i\\in\\{1,\\dots, N\\}$.\n",
    "    - For $\\beta_j$:\n",
    "    $$\\frac{\\partial L_{\\boldsymbol \\beta}^i}{\\partial \\beta_j} = -2x_{ij}\\cdot\\left(y_i - \\beta_0 - \\sum_{j=1}^d \\beta_i x_{ij}\\right)$$\n",
    "    \n",
    "\n",
    "* So for each $i \\in \\{1, \\dots, N\\}$, the gradient descent function will implement:\n",
    "$$\n",
    "\\begin{align*}\n",
    "\\beta_0^{\\text{new}} &= \\beta_0^{\\text{old}} - \\frac{\\partial L_{\\boldsymbol\\beta}^i}{\\beta_0}\\\\\n",
    "\\beta_j^{\\text{new}} &= \\beta_j^{\\text{old}} - \\frac{\\partial L_{\\boldsymbol\\beta}^i}{\\beta_j}.\n",
    "\\end{align*}\n",
    "$$"
   ]
  },
  {
   "cell_type": "code",
   "execution_count": 32,
   "id": "c763242b",
   "metadata": {},
   "outputs": [],
   "source": [
    "def gradient_descent(lr:float, params:np.ndarray, data:np.ndarray, y_true:np.ndarray):\n",
    "    ## Graident descent for squared error\n",
    "    N, dim = data.shape\n",
    "    loss = 0\n",
    "    \n",
    "    for i in tqdm(range(N)):\n",
    "        row = data[i, :]\n",
    "        y_label = y_true[i]\n",
    "        \n",
    "        y_pred = row @ params\n",
    "        loss += mean_squared_error(y_true=y_label, y_pred=y_pred)\n",
    "        \n",
    "        ## gradient update for the bias\n",
    "        params[0] -= (2 * lr * (y_pred - y_label))\n",
    "        \n",
    "        ## gradient update for each weight\n",
    "        for j in range(1, dim):\n",
    "            params[j] -= (2 * lr * (y_pred - y_label) * row[j])\n",
    "    \n",
    "    return params, (loss / N)"
   ]
  },
  {
   "cell_type": "code",
   "execution_count": 33,
   "id": "41800f5e",
   "metadata": {
    "scrolled": false
   },
   "outputs": [
    {
     "data": {
      "application/vnd.jupyter.widget-view+json": {
       "model_id": "d962677192544e5fba3fb01f7bed5e52",
       "version_major": 2,
       "version_minor": 0
      },
      "text/plain": [
       "  0%|          | 0/100000 [00:00<?, ?it/s]"
      ]
     },
     "metadata": {},
     "output_type": "display_data"
    },
    {
     "name": "stdout",
     "output_type": "stream",
     "text": [
      "Epoch [1]\tLearning Rate: 1e-05\tTrain loss: 24.22096\tTest loss: 2.96332\tParameter distance: 1.49644\n"
     ]
    },
    {
     "data": {
      "application/vnd.jupyter.widget-view+json": {
       "model_id": "15216d36aa0144cdb2bc4df524975882",
       "version_major": 2,
       "version_minor": 0
      },
      "text/plain": [
       "  0%|          | 0/100000 [00:00<?, ?it/s]"
      ]
     },
     "metadata": {},
     "output_type": "display_data"
    },
    {
     "name": "stdout",
     "output_type": "stream",
     "text": [
      "Epoch [2]\tLearning Rate: 1e-05\tTrain loss: 2.43991\tTest loss: 2.18178\tParameter distance: 0.70038\n"
     ]
    },
    {
     "data": {
      "application/vnd.jupyter.widget-view+json": {
       "model_id": "98257181a1e34f3b98d61b3638dbbdd6",
       "version_major": 2,
       "version_minor": 0
      },
      "text/plain": [
       "  0%|          | 0/100000 [00:00<?, ?it/s]"
      ]
     },
     "metadata": {},
     "output_type": "display_data"
    },
    {
     "name": "stdout",
     "output_type": "stream",
     "text": [
      "Epoch [3]\tLearning Rate: 1e-05\tTrain loss: 2.09221\tTest loss: 2.05098\tParameter distance: 0.36268\n"
     ]
    },
    {
     "data": {
      "application/vnd.jupyter.widget-view+json": {
       "model_id": "0a89a7d0e08249d8a6d31ae84969791c",
       "version_major": 2,
       "version_minor": 0
      },
      "text/plain": [
       "  0%|          | 0/100000 [00:00<?, ?it/s]"
      ]
     },
     "metadata": {},
     "output_type": "display_data"
    },
    {
     "name": "stdout",
     "output_type": "stream",
     "text": [
      "Epoch [4]\tLearning Rate: 1e-05\tTrain loss: 2.02455\tTest loss: 2.02134\tParameter distance: 0.20400\n"
     ]
    },
    {
     "data": {
      "application/vnd.jupyter.widget-view+json": {
       "model_id": "371d641126604969ba787e91a5bb31f1",
       "version_major": 2,
       "version_minor": 0
      },
      "text/plain": [
       "  0%|          | 0/100000 [00:00<?, ?it/s]"
      ]
     },
     "metadata": {},
     "output_type": "display_data"
    },
    {
     "name": "stdout",
     "output_type": "stream",
     "text": [
      "Epoch [5]\tLearning Rate: 1e-05\tTrain loss: 2.00836\tTest loss: 2.01389\tParameter distance: 0.12474\n"
     ]
    },
    {
     "data": {
      "application/vnd.jupyter.widget-view+json": {
       "model_id": "4ac9a376a62a47538f38cc597a14cff9",
       "version_major": 2,
       "version_minor": 0
      },
      "text/plain": [
       "  0%|          | 0/100000 [00:00<?, ?it/s]"
      ]
     },
     "metadata": {},
     "output_type": "display_data"
    },
    {
     "name": "stdout",
     "output_type": "stream",
     "text": [
      "Epoch [6]\tLearning Rate: 1e-05\tTrain loss: 2.00394\tTest loss: 2.01185\tParameter distance: 0.08149\n"
     ]
    },
    {
     "data": {
      "application/vnd.jupyter.widget-view+json": {
       "model_id": "0e91ec9ce3394367b3f569bde1d0543a",
       "version_major": 2,
       "version_minor": 0
      },
      "text/plain": [
       "  0%|          | 0/100000 [00:00<?, ?it/s]"
      ]
     },
     "metadata": {},
     "output_type": "display_data"
    },
    {
     "name": "stdout",
     "output_type": "stream",
     "text": [
      "Epoch [7]\tLearning Rate: 1e-05\tTrain loss: 2.00252\tTest loss: 2.01126\tParameter distance: 0.05527\n"
     ]
    },
    {
     "data": {
      "application/vnd.jupyter.widget-view+json": {
       "model_id": "c5b3c45c8269441ab8d38e0584f51ff0",
       "version_major": 2,
       "version_minor": 0
      },
      "text/plain": [
       "  0%|          | 0/100000 [00:00<?, ?it/s]"
      ]
     },
     "metadata": {},
     "output_type": "display_data"
    },
    {
     "name": "stdout",
     "output_type": "stream",
     "text": [
      "Epoch [8]\tLearning Rate: 1e-05\tTrain loss: 2.00197\tTest loss: 2.01110\tParameter distance: 0.03806\n"
     ]
    },
    {
     "data": {
      "application/vnd.jupyter.widget-view+json": {
       "model_id": "4e64f5008d4a4857a23216de741faddb",
       "version_major": 2,
       "version_minor": 0
      },
      "text/plain": [
       "  0%|          | 0/100000 [00:00<?, ?it/s]"
      ]
     },
     "metadata": {},
     "output_type": "display_data"
    },
    {
     "name": "stdout",
     "output_type": "stream",
     "text": [
      "Epoch [9]\tLearning Rate: 1e-05\tTrain loss: 2.00171\tTest loss: 2.01108\tParameter distance: 0.02654\n"
     ]
    },
    {
     "data": {
      "application/vnd.jupyter.widget-view+json": {
       "model_id": "96a97ef5ff7e4208af076ea01b445820",
       "version_major": 2,
       "version_minor": 0
      },
      "text/plain": [
       "  0%|          | 0/100000 [00:00<?, ?it/s]"
      ]
     },
     "metadata": {},
     "output_type": "display_data"
    },
    {
     "name": "stdout",
     "output_type": "stream",
     "text": [
      "Epoch [10]\tLearning Rate: 1e-05\tTrain loss: 2.00158\tTest loss: 2.01111\tParameter distance: 0.01938\n"
     ]
    },
    {
     "data": {
      "application/vnd.jupyter.widget-view+json": {
       "model_id": "49b6b33f254a4879912d0b9e4efc04af",
       "version_major": 2,
       "version_minor": 0
      },
      "text/plain": [
       "  0%|          | 0/100000 [00:00<?, ?it/s]"
      ]
     },
     "metadata": {},
     "output_type": "display_data"
    },
    {
     "name": "stdout",
     "output_type": "stream",
     "text": [
      "Epoch [11]\tLearning Rate: 1e-05\tTrain loss: 2.00151\tTest loss: 2.01116\tParameter distance: 0.01596\n"
     ]
    },
    {
     "data": {
      "application/vnd.jupyter.widget-view+json": {
       "model_id": "03e69f5c91364cda81aa52a3462afd29",
       "version_major": 2,
       "version_minor": 0
      },
      "text/plain": [
       "  0%|          | 0/100000 [00:00<?, ?it/s]"
      ]
     },
     "metadata": {},
     "output_type": "display_data"
    },
    {
     "name": "stdout",
     "output_type": "stream",
     "text": [
      "Epoch [12]\tLearning Rate: 1e-05\tTrain loss: 2.00147\tTest loss: 2.01121\tParameter distance: 0.01538\n"
     ]
    },
    {
     "data": {
      "application/vnd.jupyter.widget-view+json": {
       "model_id": "c6ce8ea3b6e7442ea0c08dfe238c0a5d",
       "version_major": 2,
       "version_minor": 0
      },
      "text/plain": [
       "  0%|          | 0/100000 [00:00<?, ?it/s]"
      ]
     },
     "metadata": {},
     "output_type": "display_data"
    },
    {
     "name": "stdout",
     "output_type": "stream",
     "text": [
      "Epoch [13]\tLearning Rate: 1e-05\tTrain loss: 2.00144\tTest loss: 2.01126\tParameter distance: 0.01631\n"
     ]
    },
    {
     "data": {
      "application/vnd.jupyter.widget-view+json": {
       "model_id": "db738b728dd04bb7b2bdf0abaad7b2bd",
       "version_major": 2,
       "version_minor": 0
      },
      "text/plain": [
       "  0%|          | 0/100000 [00:00<?, ?it/s]"
      ]
     },
     "metadata": {},
     "output_type": "display_data"
    },
    {
     "name": "stdout",
     "output_type": "stream",
     "text": [
      "Epoch [14]\tLearning Rate: 1e-05\tTrain loss: 2.00143\tTest loss: 2.01129\tParameter distance: 0.01771\n"
     ]
    },
    {
     "data": {
      "application/vnd.jupyter.widget-view+json": {
       "model_id": "32497b5821da4a65bc54a40f0fd6d285",
       "version_major": 2,
       "version_minor": 0
      },
      "text/plain": [
       "  0%|          | 0/100000 [00:00<?, ?it/s]"
      ]
     },
     "metadata": {},
     "output_type": "display_data"
    },
    {
     "name": "stdout",
     "output_type": "stream",
     "text": [
      "Epoch [15]\tLearning Rate: 1e-05\tTrain loss: 2.00142\tTest loss: 2.01133\tParameter distance: 0.01911\n"
     ]
    },
    {
     "data": {
      "application/vnd.jupyter.widget-view+json": {
       "model_id": "48c084f77abb4d8bb5b974563ecb0c83",
       "version_major": 2,
       "version_minor": 0
      },
      "text/plain": [
       "  0%|          | 0/100000 [00:00<?, ?it/s]"
      ]
     },
     "metadata": {},
     "output_type": "display_data"
    },
    {
     "name": "stdout",
     "output_type": "stream",
     "text": [
      "Epoch [16]\tLearning Rate: 1e-05\tTrain loss: 2.00142\tTest loss: 2.01135\tParameter distance: 0.02033\n"
     ]
    },
    {
     "data": {
      "application/vnd.jupyter.widget-view+json": {
       "model_id": "0c43b57278a34234962ddd98046e5bdb",
       "version_major": 2,
       "version_minor": 0
      },
      "text/plain": [
       "  0%|          | 0/100000 [00:00<?, ?it/s]"
      ]
     },
     "metadata": {},
     "output_type": "display_data"
    },
    {
     "name": "stdout",
     "output_type": "stream",
     "text": [
      "Epoch [17]\tLearning Rate: 1e-05\tTrain loss: 2.00142\tTest loss: 2.01137\tParameter distance: 0.02133\n"
     ]
    },
    {
     "data": {
      "application/vnd.jupyter.widget-view+json": {
       "model_id": "d20e1cda13f24445b821943484613948",
       "version_major": 2,
       "version_minor": 0
      },
      "text/plain": [
       "  0%|          | 0/100000 [00:00<?, ?it/s]"
      ]
     },
     "metadata": {},
     "output_type": "display_data"
    },
    {
     "name": "stdout",
     "output_type": "stream",
     "text": [
      "Epoch [18]\tLearning Rate: 1e-05\tTrain loss: 2.00141\tTest loss: 2.01139\tParameter distance: 0.02214\n"
     ]
    },
    {
     "data": {
      "application/vnd.jupyter.widget-view+json": {
       "model_id": "47b5d33ec5ee47f29c19fa5c034afd97",
       "version_major": 2,
       "version_minor": 0
      },
      "text/plain": [
       "  0%|          | 0/100000 [00:00<?, ?it/s]"
      ]
     },
     "metadata": {},
     "output_type": "display_data"
    },
    {
     "name": "stdout",
     "output_type": "stream",
     "text": [
      "Epoch [19]\tLearning Rate: 1e-05\tTrain loss: 2.00141\tTest loss: 2.01140\tParameter distance: 0.02278\n"
     ]
    },
    {
     "data": {
      "application/vnd.jupyter.widget-view+json": {
       "model_id": "e928e23f970c43cf9c248f2dd89eaad2",
       "version_major": 2,
       "version_minor": 0
      },
      "text/plain": [
       "  0%|          | 0/100000 [00:00<?, ?it/s]"
      ]
     },
     "metadata": {},
     "output_type": "display_data"
    },
    {
     "name": "stdout",
     "output_type": "stream",
     "text": [
      "Epoch [20]\tLearning Rate: 1e-05\tTrain loss: 2.00141\tTest loss: 2.01141\tParameter distance: 0.02328\n"
     ]
    },
    {
     "data": {
      "application/vnd.jupyter.widget-view+json": {
       "model_id": "cfc8d422836e4e00a0428bd2b3b03ec2",
       "version_major": 2,
       "version_minor": 0
      },
      "text/plain": [
       "  0%|          | 0/100000 [00:00<?, ?it/s]"
      ]
     },
     "metadata": {},
     "output_type": "display_data"
    },
    {
     "name": "stdout",
     "output_type": "stream",
     "text": [
      "Epoch [21]\tLearning Rate: 1e-05\tTrain loss: 2.00141\tTest loss: 2.01142\tParameter distance: 0.02367\n"
     ]
    },
    {
     "data": {
      "application/vnd.jupyter.widget-view+json": {
       "model_id": "69dca73bc06d4aa4b12f23588556477c",
       "version_major": 2,
       "version_minor": 0
      },
      "text/plain": [
       "  0%|          | 0/100000 [00:00<?, ?it/s]"
      ]
     },
     "metadata": {},
     "output_type": "display_data"
    },
    {
     "name": "stdout",
     "output_type": "stream",
     "text": [
      "Epoch [22]\tLearning Rate: 1e-05\tTrain loss: 2.00141\tTest loss: 2.01142\tParameter distance: 0.02397\n"
     ]
    },
    {
     "data": {
      "application/vnd.jupyter.widget-view+json": {
       "model_id": "dc0980b18f6b4805a892691807eaac0a",
       "version_major": 2,
       "version_minor": 0
      },
      "text/plain": [
       "  0%|          | 0/100000 [00:00<?, ?it/s]"
      ]
     },
     "metadata": {},
     "output_type": "display_data"
    },
    {
     "name": "stdout",
     "output_type": "stream",
     "text": [
      "Epoch [23]\tLearning Rate: 1e-05\tTrain loss: 2.00141\tTest loss: 2.01143\tParameter distance: 0.02420\n"
     ]
    },
    {
     "data": {
      "application/vnd.jupyter.widget-view+json": {
       "model_id": "ae1014c3b57f4862a49f885ca688496e",
       "version_major": 2,
       "version_minor": 0
      },
      "text/plain": [
       "  0%|          | 0/100000 [00:00<?, ?it/s]"
      ]
     },
     "metadata": {},
     "output_type": "display_data"
    },
    {
     "name": "stdout",
     "output_type": "stream",
     "text": [
      "Epoch [24]\tLearning Rate: 1e-05\tTrain loss: 2.00141\tTest loss: 2.01143\tParameter distance: 0.02437\n"
     ]
    },
    {
     "data": {
      "application/vnd.jupyter.widget-view+json": {
       "model_id": "c3f29caffda74cfa84f4f6d934542a97",
       "version_major": 2,
       "version_minor": 0
      },
      "text/plain": [
       "  0%|          | 0/100000 [00:00<?, ?it/s]"
      ]
     },
     "metadata": {},
     "output_type": "display_data"
    },
    {
     "name": "stdout",
     "output_type": "stream",
     "text": [
      "Epoch [25]\tLearning Rate: 1e-05\tTrain loss: 2.00141\tTest loss: 2.01143\tParameter distance: 0.02451\n"
     ]
    }
   ],
   "source": [
    "EPOCHS = 25\n",
    "online_beta_hat = np.zeros(d+1)\n",
    "lr = 1e-5\n",
    "\n",
    "param_distance = np.zeros(EPOCHS)\n",
    "train_losses = np.zeros(EPOCHS)\n",
    "test_losses = np.zeros(EPOCHS)\n",
    "for epoch in range(EPOCHS):\n",
    "    online_beta_hat, train_loss = gradient_descent(lr=lr, params=online_beta_hat, data=X_train, y_true=y_train)\n",
    "    ## inference\n",
    "    test_pred = X_test @ online_beta_hat\n",
    "    test_loss = mean_squared_error(y_true=y_test, y_pred=test_pred)\n",
    "    distance = l2norm(beta-online_beta_hat)\n",
    "    \n",
    "    print(f\"Epoch [{epoch+1}]\\tLearning Rate: {lr}\\tTrain loss: {train_loss:.5f}\\tTest loss: {test_loss:.5f}\\tParameter distance: {distance:.5f}\")\n",
    "    train_losses[epoch] = train_loss\n",
    "    test_losses[epoch] = test_loss\n",
    "    param_distance[epoch] = distance"
   ]
  },
  {
   "cell_type": "code",
   "execution_count": 34,
   "id": "c907884d",
   "metadata": {},
   "outputs": [
    {
     "name": "stdout",
     "output_type": "stream",
     "text": [
      "True parameter:\n",
      "[[2.98374062]\n",
      " [7.47859227]\n",
      " [1.0199097 ]\n",
      " [0.79572764]\n",
      " [1.14110845]\n",
      " [1.04862198]\n",
      " [1.55698955]\n",
      " [3.18385651]\n",
      " [0.56406601]\n",
      " [0.79253703]\n",
      " [2.96907266]]\n",
      "Offline est.:\n",
      "[[2.96850113]\n",
      " [7.48418266]\n",
      " [1.02322214]\n",
      " [0.79892071]\n",
      " [1.14439073]\n",
      " [1.04320259]\n",
      " [1.55186668]\n",
      " [3.19251997]\n",
      " [0.57233126]\n",
      " [0.79942788]\n",
      " [2.96576899]]\n",
      "Online esti.:\n",
      "[[2.9673076 ]\n",
      " [7.48556599]\n",
      " [1.02018018]\n",
      " [0.7995695 ]\n",
      " [1.14261899]\n",
      " [1.04331836]\n",
      " [1.55074993]\n",
      " [3.19262133]\n",
      " [0.57246977]\n",
      " [0.79938843]\n",
      " [2.96718286]]\n"
     ]
    }
   ],
   "source": [
    "print(f\"True parameter:\\n{beta.reshape(-1, 1)}\")\n",
    "print(f\"Offline est.:\\n{offline_beta_hat.reshape(-1, 1)}\")\n",
    "print(f\"Online esti.:\\n{online_beta_hat.reshape(-1, 1)}\")"
   ]
  },
  {
   "cell_type": "code",
   "execution_count": 35,
   "id": "36c40cb6",
   "metadata": {},
   "outputs": [
    {
     "data": {
      "image/png": "[encoded data removed]",
      "text/plain": [
       "<Figure size 1400x400 with 3 Axes>"
      ]
     },
     "metadata": {},
     "output_type": "display_data"
    }
   ],
   "source": [
    "plt.figure(figsize=(14, 4))\n",
    "\n",
    "plt.subplot(131)\n",
    "plt.plot(train_losses)\n",
    "plt.grid(True)\n",
    "plt.title(\"Training error\")\n",
    "plt.xlabel(\"Epochs\")\n",
    "plt.ylabel(\"Loss\")\n",
    "\n",
    "plt.subplot(132)\n",
    "plt.plot(test_losses)\n",
    "plt.grid(True)\n",
    "plt.title(\"Test error\")\n",
    "plt.xlabel(\"Epochs\")\n",
    "plt.ylabel(\"Loss\")\n",
    "\n",
    "plt.subplot(133)\n",
    "plt.plot(param_distance)\n",
    "plt.grid(True)\n",
    "plt.title(\"Parameter distances\")\n",
    "plt.xlabel(\"Epochs\")\n",
    "plt.ylabel(\"Difference\")\n",
    "\n",
    "plt.suptitle(\"Loss function for online regression\")\n",
    "plt.tight_layout()\n",
    "plt.show()"
   ]
  },
  {
   "cell_type": "markdown",
   "id": "262ae189",
   "metadata": {},
   "source": [
    "### Batch learning - Stochastic Gradient Descent"
   ]
  },
  {
   "cell_type": "markdown",
   "id": "bd70c9e7",
   "metadata": {},
   "source": [
    "* The below code implements the stochastic gradient descent, introducing the mini-batch approach."
   ]
  },
  {
   "cell_type": "code",
   "execution_count": 36,
   "id": "9459565d",
   "metadata": {},
   "outputs": [],
   "source": [
    "def sgd(batch_size:int, lr:float, params:np.ndarray, data:np.ndarray, y_true:np.ndarray):\n",
    "    ## Stochastic Graident descent for squared error\n",
    "    N, dim = data.shape\n",
    "    num_batches = int(np.ceil(N / batch_size))\n",
    "    candidates = np.arange(N)\n",
    "    loss = 0\n",
    "    \n",
    "    for _ in tqdm(range(num_batches)):\n",
    "        try:\n",
    "            indices = np.random.choice(candidates, size=batch_size, replace=False)\n",
    "        except:\n",
    "            ## remaining data\n",
    "            indices = candidates\n",
    "        X_batch, y_batch = data[indices], y_true[indices]\n",
    "        batch_loss = 0\n",
    "        bias_grads = 0\n",
    "        weight_grads = np.zeros(params.shape)\n",
    "        for i in range(len(indices)):\n",
    "            row = X_batch[i, :]\n",
    "            y_label = y_batch[i]\n",
    "            y_pred = row @ params\n",
    "            batch_loss += mean_squared_error(y_true=y_label, y_pred=y_pred)\n",
    "\n",
    "            ## gradient update for the bias\n",
    "            bias_grads += (2 * lr * (y_pred - y_label))\n",
    "\n",
    "            ## gradient update for each weight\n",
    "            for j in range(1, dim):\n",
    "                weight_grads[j] += (2 * lr * (y_pred - y_label) * row[j])\n",
    "        \n",
    "        loss += batch_loss\n",
    "        params[0] -= (bias_grads / batch_size)\n",
    "        params[1:] -= (weight_grads[1:] / batch_size)\n",
    "        \n",
    "        ## remove the indices already used\n",
    "        candidates = np.setdiff1d(candidates, indices)\n",
    "    \n",
    "    return params, (loss / (num_batches*batch_size))"
   ]
  },
  {
   "cell_type": "markdown",
   "id": "486e2dbe",
   "metadata": {},
   "source": [
    "### Batch size = 256"
   ]
  },
  {
   "cell_type": "code",
   "execution_count": 37,
   "id": "07f3af3f",
   "metadata": {},
   "outputs": [
    {
     "name": "stdout",
     "output_type": "stream",
     "text": [
      "Batch size: 256\n"
     ]
    },
    {
     "data": {
      "application/vnd.jupyter.widget-view+json": {
       "model_id": "5cc32b7edca6440c98fcfc512dac9147",
       "version_major": 2,
       "version_minor": 0
      },
      "text/plain": [
       "  0%|          | 0/391 [00:00<?, ?it/s]"
      ]
     },
     "metadata": {},
     "output_type": "display_data"
    },
    {
     "name": "stdout",
     "output_type": "stream",
     "text": [
      "Epoch [1]\tLearning Rate: 1e-05\tTrain loss: 248.92210\tTest loss: 243.81682\tParameter distance: 9.34710\n"
     ]
    },
    {
     "data": {
      "application/vnd.jupyter.widget-view+json": {
       "model_id": "345814c381974285a2df277248d74b9f",
       "version_major": 2,
       "version_minor": 0
      },
      "text/plain": [
       "  0%|          | 0/391 [00:00<?, ?it/s]"
      ]
     },
     "metadata": {},
     "output_type": "display_data"
    },
    {
     "name": "stdout",
     "output_type": "stream",
     "text": [
      "Epoch [2]\tLearning Rate: 1e-05\tTrain loss: 235.42384\tTest loss: 230.63904\tParameter distance: 9.14974\n"
     ]
    },
    {
     "data": {
      "application/vnd.jupyter.widget-view+json": {
       "model_id": "978987b1eea9430eba01c7ece975d9a3",
       "version_major": 2,
       "version_minor": 0
      },
      "text/plain": [
       "  0%|          | 0/391 [00:00<?, ?it/s]"
      ]
     },
     "metadata": {},
     "output_type": "display_data"
    },
    {
     "name": "stdout",
     "output_type": "stream",
     "text": [
      "Epoch [3]\tLearning Rate: 1e-05\tTrain loss: 222.73628\tTest loss: 218.25024\tParameter distance: 8.95910\n"
     ]
    },
    {
     "data": {
      "application/vnd.jupyter.widget-view+json": {
       "model_id": "ed1ca77dae974edfa4a6dcdad6e53306",
       "version_major": 2,
       "version_minor": 0
      },
      "text/plain": [
       "  0%|          | 0/391 [00:00<?, ?it/s]"
      ]
     },
     "metadata": {},
     "output_type": "display_data"
    },
    {
     "name": "stdout",
     "output_type": "stream",
     "text": [
      "Epoch [4]\tLearning Rate: 1e-05\tTrain loss: 210.80889\tTest loss: 206.60153\tParameter distance: 8.77496\n"
     ]
    },
    {
     "data": {
      "application/vnd.jupyter.widget-view+json": {
       "model_id": "da060d8f1f1740c691e074c602c77c70",
       "version_major": 2,
       "version_minor": 0
      },
      "text/plain": [
       "  0%|          | 0/391 [00:00<?, ?it/s]"
      ]
     },
     "metadata": {},
     "output_type": "display_data"
    },
    {
     "name": "stdout",
     "output_type": "stream",
     "text": [
      "Epoch [5]\tLearning Rate: 1e-05\tTrain loss: 199.59449\tTest loss: 195.64700\tParameter distance: 8.59707\n"
     ]
    },
    {
     "data": {
      "application/vnd.jupyter.widget-view+json": {
       "model_id": "7914ddd3bcd44e99bcafd07f251d3c08",
       "version_major": 2,
       "version_minor": 0
      },
      "text/plain": [
       "  0%|          | 0/391 [00:00<?, ?it/s]"
      ]
     },
     "metadata": {},
     "output_type": "display_data"
    },
    {
     "name": "stdout",
     "output_type": "stream",
     "text": [
      "Epoch [6]\tLearning Rate: 1e-05\tTrain loss: 189.04879\tTest loss: 185.34366\tParameter distance: 8.42522\n"
     ]
    },
    {
     "data": {
      "application/vnd.jupyter.widget-view+json": {
       "model_id": "529834701652449d9541f7f2bba5604a",
       "version_major": 2,
       "version_minor": 0
      },
      "text/plain": [
       "  0%|          | 0/391 [00:00<?, ?it/s]"
      ]
     },
     "metadata": {},
     "output_type": "display_data"
    },
    {
     "name": "stdout",
     "output_type": "stream",
     "text": [
      "Epoch [7]\tLearning Rate: 1e-05\tTrain loss: 179.13035\tTest loss: 175.65137\tParameter distance: 8.25918\n"
     ]
    },
    {
     "data": {
      "application/vnd.jupyter.widget-view+json": {
       "model_id": "f31da08b4b17418ea992de961ebe4648",
       "version_major": 2,
       "version_minor": 0
      },
      "text/plain": [
       "  0%|          | 0/391 [00:00<?, ?it/s]"
      ]
     },
     "metadata": {},
     "output_type": "display_data"
    },
    {
     "name": "stdout",
     "output_type": "stream",
     "text": [
      "Epoch [8]\tLearning Rate: 1e-05\tTrain loss: 169.80035\tTest loss: 166.53216\tParameter distance: 8.09875\n"
     ]
    },
    {
     "data": {
      "application/vnd.jupyter.widget-view+json": {
       "model_id": "b9698d236cdd46999273d458dced3b07",
       "version_major": 2,
       "version_minor": 0
      },
      "text/plain": [
       "  0%|          | 0/391 [00:00<?, ?it/s]"
      ]
     },
     "metadata": {},
     "output_type": "display_data"
    },
    {
     "name": "stdout",
     "output_type": "stream",
     "text": [
      "Epoch [9]\tLearning Rate: 1e-05\tTrain loss: 161.02233\tTest loss: 157.95082\tParameter distance: 7.94372\n"
     ]
    },
    {
     "data": {
      "application/vnd.jupyter.widget-view+json": {
       "model_id": "f9048b556d4a4303a95997ee15bba73e",
       "version_major": 2,
       "version_minor": 0
      },
      "text/plain": [
       "  0%|          | 0/391 [00:00<?, ?it/s]"
      ]
     },
     "metadata": {},
     "output_type": "display_data"
    },
    {
     "name": "stdout",
     "output_type": "stream",
     "text": [
      "Epoch [10]\tLearning Rate: 1e-05\tTrain loss: 152.76231\tTest loss: 149.87432\tParameter distance: 7.79390\n"
     ]
    },
    {
     "data": {
      "application/vnd.jupyter.widget-view+json": {
       "model_id": "24003171992b43bc944b296c6d2eea64",
       "version_major": 2,
       "version_minor": 0
      },
      "text/plain": [
       "  0%|          | 0/391 [00:00<?, ?it/s]"
      ]
     },
     "metadata": {},
     "output_type": "display_data"
    },
    {
     "name": "stdout",
     "output_type": "stream",
     "text": [
      "Epoch [11]\tLearning Rate: 1e-05\tTrain loss: 144.98825\tTest loss: 142.27119\tParameter distance: 7.64910\n"
     ]
    },
    {
     "data": {
      "application/vnd.jupyter.widget-view+json": {
       "model_id": "b748b7e33d6c4a5c86d2f26f7734d01b",
       "version_major": 2,
       "version_minor": 0
      },
      "text/plain": [
       "  0%|          | 0/391 [00:00<?, ?it/s]"
      ]
     },
     "metadata": {},
     "output_type": "display_data"
    },
    {
     "name": "stdout",
     "output_type": "stream",
     "text": [
      "Epoch [12]\tLearning Rate: 1e-05\tTrain loss: 137.66998\tTest loss: 135.11243\tParameter distance: 7.50912\n"
     ]
    },
    {
     "data": {
      "application/vnd.jupyter.widget-view+json": {
       "model_id": "d8393f423eb44ea6870314cd31f7c8c3",
       "version_major": 2,
       "version_minor": 0
      },
      "text/plain": [
       "  0%|          | 0/391 [00:00<?, ?it/s]"
      ]
     },
     "metadata": {},
     "output_type": "display_data"
    },
    {
     "name": "stdout",
     "output_type": "stream",
     "text": [
      "Epoch [13]\tLearning Rate: 1e-05\tTrain loss: 130.77949\tTest loss: 128.37071\tParameter distance: 7.37380\n"
     ]
    },
    {
     "data": {
      "application/vnd.jupyter.widget-view+json": {
       "model_id": "6fa52db75e16472b935818ae9eab2db3",
       "version_major": 2,
       "version_minor": 0
      },
      "text/plain": [
       "  0%|          | 0/391 [00:00<?, ?it/s]"
      ]
     },
     "metadata": {},
     "output_type": "display_data"
    },
    {
     "name": "stdout",
     "output_type": "stream",
     "text": [
      "Epoch [14]\tLearning Rate: 1e-05\tTrain loss: 124.29051\tTest loss: 122.02055\tParameter distance: 7.24295\n"
     ]
    },
    {
     "data": {
      "application/vnd.jupyter.widget-view+json": {
       "model_id": "1a815ad4e96c4677a29ebef3102c2e0f",
       "version_major": 2,
       "version_minor": 0
      },
      "text/plain": [
       "  0%|          | 0/391 [00:00<?, ?it/s]"
      ]
     },
     "metadata": {},
     "output_type": "display_data"
    },
    {
     "name": "stdout",
     "output_type": "stream",
     "text": [
      "Epoch [15]\tLearning Rate: 1e-05\tTrain loss: 118.17842\tTest loss: 116.03791\tParameter distance: 7.11642\n"
     ]
    },
    {
     "data": {
      "application/vnd.jupyter.widget-view+json": {
       "model_id": "f2e24315c7574f398a8ee1a321d8be95",
       "version_major": 2,
       "version_minor": 0
      },
      "text/plain": [
       "  0%|          | 0/391 [00:00<?, ?it/s]"
      ]
     },
     "metadata": {},
     "output_type": "display_data"
    },
    {
     "name": "stdout",
     "output_type": "stream",
     "text": [
      "Epoch [16]\tLearning Rate: 1e-05\tTrain loss: 112.42001\tTest loss: 110.40025\tParameter distance: 6.99403\n"
     ]
    },
    {
     "data": {
      "application/vnd.jupyter.widget-view+json": {
       "model_id": "8401c66ce9444731b5e95a489d08b821",
       "version_major": 2,
       "version_minor": 0
      },
      "text/plain": [
       "  0%|          | 0/391 [00:00<?, ?it/s]"
      ]
     },
     "metadata": {},
     "output_type": "display_data"
    },
    {
     "name": "stdout",
     "output_type": "stream",
     "text": [
      "Epoch [17]\tLearning Rate: 1e-05\tTrain loss: 106.99362\tTest loss: 105.08651\tParameter distance: 6.87565\n"
     ]
    },
    {
     "data": {
      "application/vnd.jupyter.widget-view+json": {
       "model_id": "f9ac854a8c80478da107a5b14e6afe68",
       "version_major": 2,
       "version_minor": 0
      },
      "text/plain": [
       "  0%|          | 0/391 [00:00<?, ?it/s]"
      ]
     },
     "metadata": {},
     "output_type": "display_data"
    },
    {
     "name": "stdout",
     "output_type": "stream",
     "text": [
      "Epoch [18]\tLearning Rate: 1e-05\tTrain loss: 101.87891\tTest loss: 100.07691\tParameter distance: 6.76110\n"
     ]
    },
    {
     "data": {
      "application/vnd.jupyter.widget-view+json": {
       "model_id": "1509a4a418be4cfe9a7b66bf9b6239dd",
       "version_major": 2,
       "version_minor": 0
      },
      "text/plain": [
       "  0%|          | 0/391 [00:00<?, ?it/s]"
      ]
     },
     "metadata": {},
     "output_type": "display_data"
    },
    {
     "name": "stdout",
     "output_type": "stream",
     "text": [
      "Epoch [19]\tLearning Rate: 1e-05\tTrain loss: 97.05682\tTest loss: 95.35285\tParameter distance: 6.65025\n"
     ]
    },
    {
     "data": {
      "application/vnd.jupyter.widget-view+json": {
       "model_id": "25c7ee2a54c94ed680602c7f0d39d45a",
       "version_major": 2,
       "version_minor": 0
      },
      "text/plain": [
       "  0%|          | 0/391 [00:00<?, ?it/s]"
      ]
     },
     "metadata": {},
     "output_type": "display_data"
    },
    {
     "name": "stdout",
     "output_type": "stream",
     "text": [
      "Epoch [20]\tLearning Rate: 1e-05\tTrain loss: 92.50948\tTest loss: 90.89702\tParameter distance: 6.54296\n"
     ]
    },
    {
     "data": {
      "application/vnd.jupyter.widget-view+json": {
       "model_id": "63222a06f3b64a6f89bd624141382791",
       "version_major": 2,
       "version_minor": 0
      },
      "text/plain": [
       "  0%|          | 0/391 [00:00<?, ?it/s]"
      ]
     },
     "metadata": {},
     "output_type": "display_data"
    },
    {
     "name": "stdout",
     "output_type": "stream",
     "text": [
      "Epoch [21]\tLearning Rate: 1e-05\tTrain loss: 88.22023\tTest loss: 86.69319\tParameter distance: 6.43910\n"
     ]
    },
    {
     "data": {
      "application/vnd.jupyter.widget-view+json": {
       "model_id": "2786b3da3f834b7ba856449cd7feee91",
       "version_major": 2,
       "version_minor": 0
      },
      "text/plain": [
       "  0%|          | 0/391 [00:00<?, ?it/s]"
      ]
     },
     "metadata": {},
     "output_type": "display_data"
    },
    {
     "name": "stdout",
     "output_type": "stream",
     "text": [
      "Epoch [22]\tLearning Rate: 1e-05\tTrain loss: 84.17340\tTest loss: 82.72610\tParameter distance: 6.33852\n"
     ]
    },
    {
     "data": {
      "application/vnd.jupyter.widget-view+json": {
       "model_id": "db40e33e57c84b2e9cca1934f2371bc2",
       "version_major": 2,
       "version_minor": 0
      },
      "text/plain": [
       "  0%|          | 0/391 [00:00<?, ?it/s]"
      ]
     },
     "metadata": {},
     "output_type": "display_data"
    },
    {
     "name": "stdout",
     "output_type": "stream",
     "text": [
      "Epoch [23]\tLearning Rate: 1e-05\tTrain loss: 80.35417\tTest loss: 78.98126\tParameter distance: 6.24111\n"
     ]
    },
    {
     "data": {
      "application/vnd.jupyter.widget-view+json": {
       "model_id": "bcb09250888a4134b2bf13fe76a7360b",
       "version_major": 2,
       "version_minor": 0
      },
      "text/plain": [
       "  0%|          | 0/391 [00:00<?, ?it/s]"
      ]
     },
     "metadata": {},
     "output_type": "display_data"
    },
    {
     "name": "stdout",
     "output_type": "stream",
     "text": [
      "Epoch [24]\tLearning Rate: 1e-05\tTrain loss: 76.74881\tTest loss: 75.44542\tParameter distance: 6.14674\n"
     ]
    },
    {
     "data": {
      "application/vnd.jupyter.widget-view+json": {
       "model_id": "8e6e12b571dd416090002d74ae084fca",
       "version_major": 2,
       "version_minor": 0
      },
      "text/plain": [
       "  0%|          | 0/391 [00:00<?, ?it/s]"
      ]
     },
     "metadata": {},
     "output_type": "display_data"
    },
    {
     "name": "stdout",
     "output_type": "stream",
     "text": [
      "Epoch [25]\tLearning Rate: 1e-05\tTrain loss: 73.34442\tTest loss: 72.10591\tParameter distance: 6.05530\n"
     ]
    }
   ],
   "source": [
    "EPOCHS = 25\n",
    "online_beta_hat = np.zeros(d+1)\n",
    "lr = 1e-5\n",
    "batch_size = 256\n",
    "print(f\"Batch size: {batch_size}\")\n",
    "\n",
    "param_distance = np.zeros(EPOCHS)\n",
    "train_losses = np.zeros(EPOCHS)\n",
    "test_losses = np.zeros(EPOCHS)\n",
    "for epoch in range(EPOCHS):\n",
    "    online_beta_hat, train_loss = sgd(batch_size=batch_size, lr=lr, params=online_beta_hat, data=X_train, y_true=y_train)\n",
    "    ## inference\n",
    "    test_pred = X_test @ online_beta_hat\n",
    "    test_loss = mean_squared_error(y_true=y_test, y_pred=test_pred)\n",
    "    distance = l2norm(beta-online_beta_hat)\n",
    "    \n",
    "    print(f\"Epoch [{epoch+1}]\\tLearning Rate: {lr}\\tTrain loss: {train_loss:.5f}\\tTest loss: {test_loss:.5f}\\tParameter distance: {distance:.5f}\")\n",
    "    train_losses[epoch] = train_loss\n",
    "    test_losses[epoch] = test_loss\n",
    "    param_distance[epoch] = distance"
   ]
  },
  {
   "cell_type": "code",
   "execution_count": 38,
   "id": "1d83d8c1",
   "metadata": {},
   "outputs": [
    {
     "data": {
      "image/png": "[encoded data removed]",
      "text/plain": [
       "<Figure size 1400x400 with 3 Axes>"
      ]
     },
     "metadata": {},
     "output_type": "display_data"
    }
   ],
   "source": [
    "plt.figure(figsize=(14, 4))\n",
    "\n",
    "plt.subplot(131)\n",
    "plt.plot(train_losses)\n",
    "plt.grid(True)\n",
    "plt.title(\"Training error\")\n",
    "plt.xlabel(\"Epochs\")\n",
    "plt.ylabel(\"Loss\")\n",
    "\n",
    "plt.subplot(132)\n",
    "plt.plot(test_losses)\n",
    "plt.grid(True)\n",
    "plt.title(\"Test error\")\n",
    "plt.xlabel(\"Epochs\")\n",
    "plt.ylabel(\"Loss\")\n",
    "\n",
    "plt.subplot(133)\n",
    "plt.plot(param_distance)\n",
    "plt.grid(True)\n",
    "plt.title(\"Parameter distances\")\n",
    "plt.xlabel(\"Epochs\")\n",
    "plt.ylabel(\"Difference\")\n",
    "\n",
    "plt.suptitle(f\"Loss function when batch size = {batch_size}, learning rate = {lr}\")\n",
    "plt.tight_layout()\n",
    "plt.show()"
   ]
  },
  {
   "cell_type": "code",
   "execution_count": 39,
   "id": "9aa1bd8c",
   "metadata": {},
   "outputs": [
    {
     "name": "stdout",
     "output_type": "stream",
     "text": [
      "Batch size: 256\n"
     ]
    },
    {
     "data": {
      "application/vnd.jupyter.widget-view+json": {
       "model_id": "7ec701a440a14bf2a7e3d90aa2691726",
       "version_major": 2,
       "version_minor": 0
      },
      "text/plain": [
       "  0%|          | 0/391 [00:00<?, ?it/s]"
      ]
     },
     "metadata": {},
     "output_type": "display_data"
    },
    {
     "name": "stdout",
     "output_type": "stream",
     "text": [
      "Epoch [1]\tLearning Rate: 0.0003\tTrain loss: 128.85814\tTest loss: 57.89555\tParameter distance: 5.63715\n"
     ]
    },
    {
     "data": {
      "application/vnd.jupyter.widget-view+json": {
       "model_id": "e9cee0e09d0943ef9037f4d1ffee304c",
       "version_major": 2,
       "version_minor": 0
      },
      "text/plain": [
       "  0%|          | 0/391 [00:00<?, ?it/s]"
      ]
     },
     "metadata": {},
     "output_type": "display_data"
    },
    {
     "name": "stdout",
     "output_type": "stream",
     "text": [
      "Epoch [2]\tLearning Rate: 0.0003\tTrain loss: 34.81910\tTest loss: 20.70780\tParameter distance: 4.04897\n"
     ]
    },
    {
     "data": {
      "application/vnd.jupyter.widget-view+json": {
       "model_id": "bd3f9d84fb8044a5b9e3774d0a740501",
       "version_major": 2,
       "version_minor": 0
      },
      "text/plain": [
       "  0%|          | 0/391 [00:00<?, ?it/s]"
      ]
     },
     "metadata": {},
     "output_type": "display_data"
    },
    {
     "name": "stdout",
     "output_type": "stream",
     "text": [
      "Epoch [3]\tLearning Rate: 0.0003\tTrain loss: 15.01120\tTest loss: 10.82387\tParameter distance: 3.20831\n"
     ]
    },
    {
     "data": {
      "application/vnd.jupyter.widget-view+json": {
       "model_id": "7f9074506caf4d5c88791aa9e4e2b32a",
       "version_major": 2,
       "version_minor": 0
      },
      "text/plain": [
       "  0%|          | 0/391 [00:00<?, ?it/s]"
      ]
     },
     "metadata": {},
     "output_type": "display_data"
    },
    {
     "name": "stdout",
     "output_type": "stream",
     "text": [
      "Epoch [4]\tLearning Rate: 0.0003\tTrain loss: 8.77394\tTest loss: 6.99241\tParameter distance: 2.66802\n"
     ]
    },
    {
     "data": {
      "application/vnd.jupyter.widget-view+json": {
       "model_id": "2c17001b6e5545a5bfc14e8b3b5cbf5b",
       "version_major": 2,
       "version_minor": 0
      },
      "text/plain": [
       "  0%|          | 0/391 [00:00<?, ?it/s]"
      ]
     },
     "metadata": {},
     "output_type": "display_data"
    },
    {
     "name": "stdout",
     "output_type": "stream",
     "text": [
      "Epoch [5]\tLearning Rate: 0.0003\tTrain loss: 6.04144\tTest loss: 5.12505\tParameter distance: 2.28575\n"
     ]
    },
    {
     "data": {
      "application/vnd.jupyter.widget-view+json": {
       "model_id": "04b6f558cf684fd08c0e3d767d98398e",
       "version_major": 2,
       "version_minor": 0
      },
      "text/plain": [
       "  0%|          | 0/391 [00:00<?, ?it/s]"
      ]
     },
     "metadata": {},
     "output_type": "display_data"
    },
    {
     "name": "stdout",
     "output_type": "stream",
     "text": [
      "Epoch [6]\tLearning Rate: 0.0003\tTrain loss: 4.62017\tTest loss: 4.10446\tParameter distance: 1.99930\n"
     ]
    },
    {
     "data": {
      "application/vnd.jupyter.widget-view+json": {
       "model_id": "4eef404ed0664fab8cf551a5dcab7d0c",
       "version_major": 2,
       "version_minor": 0
      },
      "text/plain": [
       "  0%|          | 0/391 [00:00<?, ?it/s]"
      ]
     },
     "metadata": {},
     "output_type": "display_data"
    },
    {
     "name": "stdout",
     "output_type": "stream",
     "text": [
      "Epoch [7]\tLearning Rate: 0.0003\tTrain loss: 3.81073\tTest loss: 3.50300\tParameter distance: 1.77465\n"
     ]
    },
    {
     "data": {
      "application/vnd.jupyter.widget-view+json": {
       "model_id": "84c1d5654d01433ab2f9976738ef1491",
       "version_major": 2,
       "version_minor": 0
      },
      "text/plain": [
       "  0%|          | 0/391 [00:00<?, ?it/s]"
      ]
     },
     "metadata": {},
     "output_type": "display_data"
    },
    {
     "name": "stdout",
     "output_type": "stream",
     "text": [
      "Epoch [8]\tLearning Rate: 0.0003\tTrain loss: 3.31739\tTest loss: 3.12418\tParameter distance: 1.59149\n"
     ]
    },
    {
     "data": {
      "application/vnd.jupyter.widget-view+json": {
       "model_id": "34db98400022486c96b3ddea9d71b5bf",
       "version_major": 2,
       "version_minor": 0
      },
      "text/plain": [
       "  0%|          | 0/391 [00:00<?, ?it/s]"
      ]
     },
     "metadata": {},
     "output_type": "display_data"
    },
    {
     "name": "stdout",
     "output_type": "stream",
     "text": [
      "Epoch [9]\tLearning Rate: 0.0003\tTrain loss: 2.99739\tTest loss: 2.87060\tParameter distance: 1.43743\n"
     ]
    },
    {
     "data": {
      "application/vnd.jupyter.widget-view+json": {
       "model_id": "78b1d576df6b47198ad0257da04435a4",
       "version_major": 2,
       "version_minor": 0
      },
      "text/plain": [
       "  0%|          | 0/391 [00:00<?, ?it/s]"
      ]
     },
     "metadata": {},
     "output_type": "display_data"
    },
    {
     "name": "stdout",
     "output_type": "stream",
     "text": [
      "Epoch [10]\tLearning Rate: 0.0003\tTrain loss: 2.77766\tTest loss: 2.69122\tParameter distance: 1.30480\n"
     ]
    },
    {
     "data": {
      "application/vnd.jupyter.widget-view+json": {
       "model_id": "be3fe1fe5800418dada404da2fe23d9b",
       "version_major": 2,
       "version_minor": 0
      },
      "text/plain": [
       "  0%|          | 0/391 [00:00<?, ?it/s]"
      ]
     },
     "metadata": {},
     "output_type": "display_data"
    },
    {
     "name": "stdout",
     "output_type": "stream",
     "text": [
      "Epoch [11]\tLearning Rate: 0.0003\tTrain loss: 2.61923\tTest loss: 2.55860\tParameter distance: 1.18871\n"
     ]
    },
    {
     "data": {
      "application/vnd.jupyter.widget-view+json": {
       "model_id": "abe09d8836f94e1aa5bc5f52d8571516",
       "version_major": 2,
       "version_minor": 0
      },
      "text/plain": [
       "  0%|          | 0/391 [00:00<?, ?it/s]"
      ]
     },
     "metadata": {},
     "output_type": "display_data"
    },
    {
     "name": "stdout",
     "output_type": "stream",
     "text": [
      "Epoch [12]\tLearning Rate: 0.0003\tTrain loss: 2.50047\tTest loss: 2.45711\tParameter distance: 1.08587\n"
     ]
    },
    {
     "data": {
      "application/vnd.jupyter.widget-view+json": {
       "model_id": "acaf921b7d2a42b385e5da383ac16271",
       "version_major": 2,
       "version_minor": 0
      },
      "text/plain": [
       "  0%|          | 0/391 [00:00<?, ?it/s]"
      ]
     },
     "metadata": {},
     "output_type": "display_data"
    },
    {
     "name": "stdout",
     "output_type": "stream",
     "text": [
      "Epoch [13]\tLearning Rate: 0.0003\tTrain loss: 2.40878\tTest loss: 2.37755\tParameter distance: 0.99407\n"
     ]
    },
    {
     "data": {
      "application/vnd.jupyter.widget-view+json": {
       "model_id": "57070b5f82e049f387f9a250de4bd4f8",
       "version_major": 2,
       "version_minor": 0
      },
      "text/plain": [
       "  0%|          | 0/391 [00:00<?, ?it/s]"
      ]
     },
     "metadata": {},
     "output_type": "display_data"
    },
    {
     "name": "stdout",
     "output_type": "stream",
     "text": [
      "Epoch [14]\tLearning Rate: 0.0003\tTrain loss: 2.33645\tTest loss: 2.31399\tParameter distance: 0.91160\n"
     ]
    },
    {
     "data": {
      "application/vnd.jupyter.widget-view+json": {
       "model_id": "75b698f54a32498a8f009abb73768bba",
       "version_major": 2,
       "version_minor": 0
      },
      "text/plain": [
       "  0%|          | 0/391 [00:00<?, ?it/s]"
      ]
     },
     "metadata": {},
     "output_type": "display_data"
    },
    {
     "name": "stdout",
     "output_type": "stream",
     "text": [
      "Epoch [15]\tLearning Rate: 0.0003\tTrain loss: 2.27851\tTest loss: 2.26261\tParameter distance: 0.83725\n"
     ]
    },
    {
     "data": {
      "application/vnd.jupyter.widget-view+json": {
       "model_id": "48eaa7168ab44e52a29a6db9ca3f5f80",
       "version_major": 2,
       "version_minor": 0
      },
      "text/plain": [
       "  0%|          | 0/391 [00:00<?, ?it/s]"
      ]
     },
     "metadata": {},
     "output_type": "display_data"
    },
    {
     "name": "stdout",
     "output_type": "stream",
     "text": [
      "Epoch [16]\tLearning Rate: 0.0003\tTrain loss: 2.23157\tTest loss: 2.22068\tParameter distance: 0.76997\n"
     ]
    },
    {
     "data": {
      "application/vnd.jupyter.widget-view+json": {
       "model_id": "fe453740855b4869bd10c9bd544c5048",
       "version_major": 2,
       "version_minor": 0
      },
      "text/plain": [
       "  0%|          | 0/391 [00:00<?, ?it/s]"
      ]
     },
     "metadata": {},
     "output_type": "display_data"
    },
    {
     "name": "stdout",
     "output_type": "stream",
     "text": [
      "Epoch [17]\tLearning Rate: 0.0003\tTrain loss: 2.19322\tTest loss: 2.18626\tParameter distance: 0.70900\n"
     ]
    },
    {
     "data": {
      "application/vnd.jupyter.widget-view+json": {
       "model_id": "f51b0996777147cd9f0dcbbe25e89c41",
       "version_major": 2,
       "version_minor": 0
      },
      "text/plain": [
       "  0%|          | 0/391 [00:00<?, ?it/s]"
      ]
     },
     "metadata": {},
     "output_type": "display_data"
    },
    {
     "name": "stdout",
     "output_type": "stream",
     "text": [
      "Epoch [18]\tLearning Rate: 0.0003\tTrain loss: 2.16172\tTest loss: 2.15787\tParameter distance: 0.65363\n"
     ]
    },
    {
     "data": {
      "application/vnd.jupyter.widget-view+json": {
       "model_id": "23d10eef7a7445d2897906dcc56f4d60",
       "version_major": 2,
       "version_minor": 0
      },
      "text/plain": [
       "  0%|          | 0/391 [00:00<?, ?it/s]"
      ]
     },
     "metadata": {},
     "output_type": "display_data"
    },
    {
     "name": "stdout",
     "output_type": "stream",
     "text": [
      "Epoch [19]\tLearning Rate: 0.0003\tTrain loss: 2.13570\tTest loss: 2.13431\tParameter distance: 0.60321\n"
     ]
    },
    {
     "data": {
      "application/vnd.jupyter.widget-view+json": {
       "model_id": "2aa7afcc143845e78695d2dc4bfc9ce8",
       "version_major": 2,
       "version_minor": 0
      },
      "text/plain": [
       "  0%|          | 0/391 [00:00<?, ?it/s]"
      ]
     },
     "metadata": {},
     "output_type": "display_data"
    },
    {
     "name": "stdout",
     "output_type": "stream",
     "text": [
      "Epoch [20]\tLearning Rate: 0.0003\tTrain loss: 2.11412\tTest loss: 2.11474\tParameter distance: 0.55735\n"
     ]
    },
    {
     "data": {
      "application/vnd.jupyter.widget-view+json": {
       "model_id": "e130201e5ad5431eab15936315bd2654",
       "version_major": 2,
       "version_minor": 0
      },
      "text/plain": [
       "  0%|          | 0/391 [00:00<?, ?it/s]"
      ]
     },
     "metadata": {},
     "output_type": "display_data"
    },
    {
     "name": "stdout",
     "output_type": "stream",
     "text": [
      "Epoch [21]\tLearning Rate: 0.0003\tTrain loss: 2.09618\tTest loss: 2.09844\tParameter distance: 0.51554\n"
     ]
    },
    {
     "data": {
      "application/vnd.jupyter.widget-view+json": {
       "model_id": "eb5f35ed76d748d6b737083f9b30dcc5",
       "version_major": 2,
       "version_minor": 0
      },
      "text/plain": [
       "  0%|          | 0/391 [00:00<?, ?it/s]"
      ]
     },
     "metadata": {},
     "output_type": "display_data"
    },
    {
     "name": "stdout",
     "output_type": "stream",
     "text": [
      "Epoch [22]\tLearning Rate: 0.0003\tTrain loss: 2.08122\tTest loss: 2.08481\tParameter distance: 0.47737\n"
     ]
    },
    {
     "data": {
      "application/vnd.jupyter.widget-view+json": {
       "model_id": "cf3e64a8bff84fd4bc2eef987a530aec",
       "version_major": 2,
       "version_minor": 0
      },
      "text/plain": [
       "  0%|          | 0/391 [00:00<?, ?it/s]"
      ]
     },
     "metadata": {},
     "output_type": "display_data"
    },
    {
     "name": "stdout",
     "output_type": "stream",
     "text": [
      "Epoch [23]\tLearning Rate: 0.0003\tTrain loss: 2.06873\tTest loss: 2.07341\tParameter distance: 0.44253\n"
     ]
    },
    {
     "data": {
      "application/vnd.jupyter.widget-view+json": {
       "model_id": "4b75f53c813b47599b5693d847ed0a63",
       "version_major": 2,
       "version_minor": 0
      },
      "text/plain": [
       "  0%|          | 0/391 [00:00<?, ?it/s]"
      ]
     },
     "metadata": {},
     "output_type": "display_data"
    },
    {
     "name": "stdout",
     "output_type": "stream",
     "text": [
      "Epoch [24]\tLearning Rate: 0.0003\tTrain loss: 2.05824\tTest loss: 2.06383\tParameter distance: 0.41069\n"
     ]
    },
    {
     "data": {
      "application/vnd.jupyter.widget-view+json": {
       "model_id": "75d502792cdf4d6597f47ba59cafc8b8",
       "version_major": 2,
       "version_minor": 0
      },
      "text/plain": [
       "  0%|          | 0/391 [00:00<?, ?it/s]"
      ]
     },
     "metadata": {},
     "output_type": "display_data"
    },
    {
     "name": "stdout",
     "output_type": "stream",
     "text": [
      "Epoch [25]\tLearning Rate: 0.0003\tTrain loss: 2.04945\tTest loss: 2.05580\tParameter distance: 0.38154\n"
     ]
    }
   ],
   "source": [
    "EPOCHS = 25\n",
    "online_beta_hat = np.zeros(d+1)\n",
    "lr = 3e-4\n",
    "batch_size = 256\n",
    "print(f\"Batch size: {batch_size}\")\n",
    "\n",
    "param_distance = np.zeros(EPOCHS)\n",
    "train_losses = np.zeros(EPOCHS)\n",
    "test_losses = np.zeros(EPOCHS)\n",
    "for epoch in range(EPOCHS):\n",
    "    online_beta_hat, train_loss = sgd(batch_size=batch_size, lr=lr, params=online_beta_hat, data=X_train, y_true=y_train)\n",
    "    ## inference\n",
    "    test_pred = X_test @ online_beta_hat\n",
    "    test_loss = mean_squared_error(y_true=y_test, y_pred=test_pred)\n",
    "    distance = l2norm(beta-online_beta_hat)\n",
    "    \n",
    "    print(f\"Epoch [{epoch+1}]\\tLearning Rate: {lr}\\tTrain loss: {train_loss:.5f}\\tTest loss: {test_loss:.5f}\\tParameter distance: {distance:.5f}\")\n",
    "    train_losses[epoch] = train_loss\n",
    "    test_losses[epoch] = test_loss\n",
    "    param_distance[epoch] = distance"
   ]
  },
  {
   "cell_type": "code",
   "execution_count": 40,
   "id": "bdac6933",
   "metadata": {},
   "outputs": [
    {
     "data": {
      "image/png": "[encoded data removed]",
      "text/plain": [
       "<Figure size 1400x400 with 3 Axes>"
      ]
     },
     "metadata": {},
     "output_type": "display_data"
    }
   ],
   "source": [
    "plt.figure(figsize=(14, 4))\n",
    "\n",
    "plt.subplot(131)\n",
    "plt.plot(train_losses)\n",
    "plt.grid(True)\n",
    "plt.title(\"Training error\")\n",
    "plt.xlabel(\"Epochs\")\n",
    "plt.ylabel(\"Loss\")\n",
    "\n",
    "plt.subplot(132)\n",
    "plt.plot(test_losses)\n",
    "plt.grid(True)\n",
    "plt.title(\"Test error\")\n",
    "plt.xlabel(\"Epochs\")\n",
    "plt.ylabel(\"Loss\")\n",
    "\n",
    "plt.subplot(133)\n",
    "plt.plot(param_distance)\n",
    "plt.grid(True)\n",
    "plt.title(\"Parameter distances\")\n",
    "plt.xlabel(\"Epochs\")\n",
    "plt.ylabel(\"Difference\")\n",
    "\n",
    "plt.suptitle(f\"Loss function when batch size = {batch_size}, learning rate = {lr}\")\n",
    "plt.tight_layout()\n",
    "plt.show()"
   ]
  },
  {
   "cell_type": "code",
   "execution_count": null,
   "id": "ad44c685",
   "metadata": {},
   "outputs": [],
   "source": []
  }
 ],
 "metadata": {
  "kernelspec": {
   "display_name": "Python 3 (ipykernel)",
   "language": "python",
   "name": "python3"
  },
  "language_info": {
   "codemirror_mode": {
    "name": "ipython",
    "version": 3
   },
   "file_extension": ".py",
   "mimetype": "text/x-python",
   "name": "python",
   "nbconvert_exporter": "python",
   "pygments_lexer": "ipython3",
   "version": "3.10.11"
  }
 },
 "nbformat": 4,
 "nbformat_minor": 5
}
