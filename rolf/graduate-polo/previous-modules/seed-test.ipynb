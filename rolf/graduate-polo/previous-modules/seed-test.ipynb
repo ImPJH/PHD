{
 "cells": [
  {
   "cell_type": "code",
   "execution_count": 1,
   "id": "acb1adc5",
   "metadata": {},
   "outputs": [
    {
     "data": {
      "text/html": [
       "<style>.container { width:75% !important; }</style>"
      ],
      "text/plain": [
       "<IPython.core.display.HTML object>"
      ]
     },
     "metadata": {},
     "output_type": "display_data"
    }
   ],
   "source": [
    "## widen the cell width\n",
    "from IPython.display import display, HTML\n",
    "display(HTML(\"<style>.container { width:75% !important; }</style>\"))"
   ]
  },
  {
   "cell_type": "code",
   "execution_count": 2,
   "id": "a2a5b925",
   "metadata": {},
   "outputs": [],
   "source": [
    "import numpy as np\n",
    "import hashlib\n",
    "from tqdm import tqdm\n",
    "from collections import Counter"
   ]
  },
  {
   "cell_type": "code",
   "execution_count": 3,
   "id": "6f353353",
   "metadata": {},
   "outputs": [],
   "source": [
    "def generate_seed(alpha:float, trial:int, t:int):\n",
    "    seed_str = f\"{alpha}-{trial}-{t}\"\n",
    "    return seed_str, int(hashlib.sha256(seed_str.encode()).hexdigest(), 16) % (2**32 - 1)"
   ]
  },
  {
   "cell_type": "code",
   "execution_count": 4,
   "id": "cf3bb9e5",
   "metadata": {},
   "outputs": [],
   "source": [
    "alphas = [0., 0.25, 0.5, 0.75, 1.]\n",
    "trials = 5\n",
    "T = 25000\n",
    "\n",
    "seeds = []\n",
    "for alpha in alphas:\n",
    "    for trial in range(trials):\n",
    "        for t in range(T):\n",
    "            seed_str, seed = generate_seed(alpha, trial, t)\n",
    "            seeds.append(seed)"
   ]
  },
  {
   "cell_type": "code",
   "execution_count": 6,
   "id": "3aeb1839",
   "metadata": {},
   "outputs": [],
   "source": [
    "count = Counter(seeds)"
   ]
  },
  {
   "cell_type": "code",
   "execution_count": 8,
   "id": "175d920a",
   "metadata": {},
   "outputs": [
    {
     "name": "stdout",
     "output_type": "stream",
     "text": [
      "1465562093\n",
      "1016812414\n",
      "3249474381\n",
      "2791274457\n",
      "2234132802\n",
      "788728428\n",
      "822870464\n",
      "1233895132\n",
      "489350155\n",
      "1108340455\n",
      "1093823280\n",
      "4102292462\n",
      "3053554217\n",
      "1872126639\n",
      "3060384617\n",
      "871870357\n",
      "1027093597\n",
      "1154770946\n",
      "2430846631\n",
      "2423843126\n",
      "1597222650\n",
      "2087089903\n",
      "1266123449\n",
      "3143283350\n",
      "2069183185\n",
      "2555921687\n",
      "589613341\n",
      "813912326\n",
      "1729569907\n",
      "444368026\n",
      "3695574217\n",
      "435880023\n",
      "1571264677\n",
      "3398232631\n",
      "1203828768\n",
      "246499439\n",
      "4015867023\n",
      "1018911376\n",
      "936867573\n",
      "3519656769\n",
      "963608491\n",
      "3716399246\n",
      "4253641141\n",
      "2515925111\n",
      "1699889314\n",
      "2670165216\n",
      "4238655426\n",
      "4057931863\n",
      "2753440608\n",
      "2056989489\n",
      "774923300\n",
      "3271827004\n",
      "1385366773\n",
      "1652217756\n",
      "862045054\n",
      "489160284\n",
      "2085726250\n"
     ]
    }
   ],
   "source": [
    "for item in count:\n",
    "    if count[item] > 1:\n",
    "        print(item)"
   ]
  },
  {
   "cell_type": "code",
   "execution_count": null,
   "id": "2d7f6aa5",
   "metadata": {},
   "outputs": [],
   "source": []
  }
 ],
 "metadata": {
  "kernelspec": {
   "display_name": "Python 3 (ipykernel)",
   "language": "python",
   "name": "python3"
  },
  "language_info": {
   "codemirror_mode": {
    "name": "ipython",
    "version": 3
   },
   "file_extension": ".py",
   "mimetype": "text/x-python",
   "name": "python",
   "nbconvert_exporter": "python",
   "pygments_lexer": "ipython3",
   "version": "3.10.12"
  }
 },
 "nbformat": 4,
 "nbformat_minor": 5
}
